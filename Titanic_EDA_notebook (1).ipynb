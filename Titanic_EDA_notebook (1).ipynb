{
  "nbformat": 4,
  "nbformat_minor": 0,
  "metadata": {
    "colab": {
      "provenance": []
    },
    "kernelspec": {
      "name": "python3",
      "display_name": "Python 3"
    },
    "language_info": {
      "name": "python"
    }
  },
  "cells": [
    {
      "cell_type": "markdown",
      "source": [
        "#  \"Disaster at Sea : The Untold Story of the Titanic🛳 Disaster  \"\n",
        "\n",
        "\n",
        "* The Titanic disaster occurred on the night of April 14, 1912, when the\n",
        "  Titanic, a massive ship, struck an iceberg and sank in the ocean. Over 1,500 people lost their lives in the tragedy. It shocked the world and highlighted the importance of safety at sea .\n",
        "    ![titanic_ship-1920x1080.jpg.webp](data:image/webp;base64,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)\n",
        "\n"
      ],
      "metadata": {
        "id": "DzY8fo8uSql6"
      }
    },
    {
      "cell_type": "markdown",
      "source": [
        "## **importing libraries and Datasets**\n"
      ],
      "metadata": {
        "id": "Ip6cqI0_WKTH"
      }
    },
    {
      "cell_type": "code",
      "source": [
        "import pandas as pd\n",
        "import numpy as np\n",
        "import matplotlib.pyplot as plt\n",
        "import seaborn as sns\n",
        "import plotly.express as px"
      ],
      "metadata": {
        "id": "MnRjwMglThE1"
      },
      "execution_count": null,
      "outputs": []
    },
    {
      "cell_type": "code",
      "source": [
        "titanic=pd.read_csv('/content/titanic.csv')\n",
        "df=titanic.copy()"
      ],
      "metadata": {
        "id": "sBTYhUk5TmHA"
      },
      "execution_count": null,
      "outputs": []
    },
    {
      "cell_type": "code",
      "source": [
        "df.head()"
      ],
      "metadata": {
        "colab": {
          "base_uri": "https://localhost:8080/",
          "height": 206
        },
        "id": "97EWgSiBco0U",
        "outputId": "f7b5db14-9209-4d03-9096-59efc95edee2"
      },
      "execution_count": null,
      "outputs": [
        {
          "output_type": "execute_result",
          "data": {
            "text/plain": [
              "   PassengerId  Survived  Pclass  \\\n",
              "0            1         0       3   \n",
              "1            2         1       1   \n",
              "2            3         1       3   \n",
              "3            4         1       1   \n",
              "4            5         0       3   \n",
              "\n",
              "                                                Name     Sex   Age  SibSp  \\\n",
              "0                            Braund, Mr. Owen Harris    male  22.0      1   \n",
              "1  Cumings, Mrs. John Bradley (Florence Briggs Th...  female  38.0      1   \n",
              "2                             Heikkinen, Miss. Laina  female  26.0      0   \n",
              "3       Futrelle, Mrs. Jacques Heath (Lily May Peel)  female  35.0      1   \n",
              "4                           Allen, Mr. William Henry    male  35.0      0   \n",
              "\n",
              "   Parch            Ticket     Fare Cabin Embarked  \n",
              "0      0         A/5 21171   7.2500   NaN        S  \n",
              "1      0          PC 17599  71.2833   C85        C  \n",
              "2      0  STON/O2. 3101282   7.9250   NaN        S  \n",
              "3      0            113803  53.1000  C123        S  \n",
              "4      0            373450   8.0500   NaN        S  "
            ],
            "text/html": [
              "\n",
              "  <div id=\"df-a936e066-a0c1-4c6f-bb73-537a32bf153e\" class=\"colab-df-container\">\n",
              "    <div>\n",
              "<style scoped>\n",
              "    .dataframe tbody tr th:only-of-type {\n",
              "        vertical-align: middle;\n",
              "    }\n",
              "\n",
              "    .dataframe tbody tr th {\n",
              "        vertical-align: top;\n",
              "    }\n",
              "\n",
              "    .dataframe thead th {\n",
              "        text-align: right;\n",
              "    }\n",
              "</style>\n",
              "<table border=\"1\" class=\"dataframe\">\n",
              "  <thead>\n",
              "    <tr style=\"text-align: right;\">\n",
              "      <th></th>\n",
              "      <th>PassengerId</th>\n",
              "      <th>Survived</th>\n",
              "      <th>Pclass</th>\n",
              "      <th>Name</th>\n",
              "      <th>Sex</th>\n",
              "      <th>Age</th>\n",
              "      <th>SibSp</th>\n",
              "      <th>Parch</th>\n",
              "      <th>Ticket</th>\n",
              "      <th>Fare</th>\n",
              "      <th>Cabin</th>\n",
              "      <th>Embarked</th>\n",
              "    </tr>\n",
              "  </thead>\n",
              "  <tbody>\n",
              "    <tr>\n",
              "      <th>0</th>\n",
              "      <td>1</td>\n",
              "      <td>0</td>\n",
              "      <td>3</td>\n",
              "      <td>Braund, Mr. Owen Harris</td>\n",
              "      <td>male</td>\n",
              "      <td>22.0</td>\n",
              "      <td>1</td>\n",
              "      <td>0</td>\n",
              "      <td>A/5 21171</td>\n",
              "      <td>7.2500</td>\n",
              "      <td>NaN</td>\n",
              "      <td>S</td>\n",
              "    </tr>\n",
              "    <tr>\n",
              "      <th>1</th>\n",
              "      <td>2</td>\n",
              "      <td>1</td>\n",
              "      <td>1</td>\n",
              "      <td>Cumings, Mrs. John Bradley (Florence Briggs Th...</td>\n",
              "      <td>female</td>\n",
              "      <td>38.0</td>\n",
              "      <td>1</td>\n",
              "      <td>0</td>\n",
              "      <td>PC 17599</td>\n",
              "      <td>71.2833</td>\n",
              "      <td>C85</td>\n",
              "      <td>C</td>\n",
              "    </tr>\n",
              "    <tr>\n",
              "      <th>2</th>\n",
              "      <td>3</td>\n",
              "      <td>1</td>\n",
              "      <td>3</td>\n",
              "      <td>Heikkinen, Miss. Laina</td>\n",
              "      <td>female</td>\n",
              "      <td>26.0</td>\n",
              "      <td>0</td>\n",
              "      <td>0</td>\n",
              "      <td>STON/O2. 3101282</td>\n",
              "      <td>7.9250</td>\n",
              "      <td>NaN</td>\n",
              "      <td>S</td>\n",
              "    </tr>\n",
              "    <tr>\n",
              "      <th>3</th>\n",
              "      <td>4</td>\n",
              "      <td>1</td>\n",
              "      <td>1</td>\n",
              "      <td>Futrelle, Mrs. Jacques Heath (Lily May Peel)</td>\n",
              "      <td>female</td>\n",
              "      <td>35.0</td>\n",
              "      <td>1</td>\n",
              "      <td>0</td>\n",
              "      <td>113803</td>\n",
              "      <td>53.1000</td>\n",
              "      <td>C123</td>\n",
              "      <td>S</td>\n",
              "    </tr>\n",
              "    <tr>\n",
              "      <th>4</th>\n",
              "      <td>5</td>\n",
              "      <td>0</td>\n",
              "      <td>3</td>\n",
              "      <td>Allen, Mr. William Henry</td>\n",
              "      <td>male</td>\n",
              "      <td>35.0</td>\n",
              "      <td>0</td>\n",
              "      <td>0</td>\n",
              "      <td>373450</td>\n",
              "      <td>8.0500</td>\n",
              "      <td>NaN</td>\n",
              "      <td>S</td>\n",
              "    </tr>\n",
              "  </tbody>\n",
              "</table>\n",
              "</div>\n",
              "    <div class=\"colab-df-buttons\">\n",
              "\n",
              "  <div class=\"colab-df-container\">\n",
              "    <button class=\"colab-df-convert\" onclick=\"convertToInteractive('df-a936e066-a0c1-4c6f-bb73-537a32bf153e')\"\n",
              "            title=\"Convert this dataframe to an interactive table.\"\n",
              "            style=\"display:none;\">\n",
              "\n",
              "  <svg xmlns=\"http://www.w3.org/2000/svg\" height=\"24px\" viewBox=\"0 -960 960 960\">\n",
              "    <path d=\"M120-120v-720h720v720H120Zm60-500h600v-160H180v160Zm220 220h160v-160H400v160Zm0 220h160v-160H400v160ZM180-400h160v-160H180v160Zm440 0h160v-160H620v160ZM180-180h160v-160H180v160Zm440 0h160v-160H620v160Z\"/>\n",
              "  </svg>\n",
              "    </button>\n",
              "\n",
              "  <style>\n",
              "    .colab-df-container {\n",
              "      display:flex;\n",
              "      gap: 12px;\n",
              "    }\n",
              "\n",
              "    .colab-df-convert {\n",
              "      background-color: #E8F0FE;\n",
              "      border: none;\n",
              "      border-radius: 50%;\n",
              "      cursor: pointer;\n",
              "      display: none;\n",
              "      fill: #1967D2;\n",
              "      height: 32px;\n",
              "      padding: 0 0 0 0;\n",
              "      width: 32px;\n",
              "    }\n",
              "\n",
              "    .colab-df-convert:hover {\n",
              "      background-color: #E2EBFA;\n",
              "      box-shadow: 0px 1px 2px rgba(60, 64, 67, 0.3), 0px 1px 3px 1px rgba(60, 64, 67, 0.15);\n",
              "      fill: #174EA6;\n",
              "    }\n",
              "\n",
              "    .colab-df-buttons div {\n",
              "      margin-bottom: 4px;\n",
              "    }\n",
              "\n",
              "    [theme=dark] .colab-df-convert {\n",
              "      background-color: #3B4455;\n",
              "      fill: #D2E3FC;\n",
              "    }\n",
              "\n",
              "    [theme=dark] .colab-df-convert:hover {\n",
              "      background-color: #434B5C;\n",
              "      box-shadow: 0px 1px 3px 1px rgba(0, 0, 0, 0.15);\n",
              "      filter: drop-shadow(0px 1px 2px rgba(0, 0, 0, 0.3));\n",
              "      fill: #FFFFFF;\n",
              "    }\n",
              "  </style>\n",
              "\n",
              "    <script>\n",
              "      const buttonEl =\n",
              "        document.querySelector('#df-a936e066-a0c1-4c6f-bb73-537a32bf153e button.colab-df-convert');\n",
              "      buttonEl.style.display =\n",
              "        google.colab.kernel.accessAllowed ? 'block' : 'none';\n",
              "\n",
              "      async function convertToInteractive(key) {\n",
              "        const element = document.querySelector('#df-a936e066-a0c1-4c6f-bb73-537a32bf153e');\n",
              "        const dataTable =\n",
              "          await google.colab.kernel.invokeFunction('convertToInteractive',\n",
              "                                                    [key], {});\n",
              "        if (!dataTable) return;\n",
              "\n",
              "        const docLinkHtml = 'Like what you see? Visit the ' +\n",
              "          '<a target=\"_blank\" href=https://colab.research.google.com/notebooks/data_table.ipynb>data table notebook</a>'\n",
              "          + ' to learn more about interactive tables.';\n",
              "        element.innerHTML = '';\n",
              "        dataTable['output_type'] = 'display_data';\n",
              "        await google.colab.output.renderOutput(dataTable, element);\n",
              "        const docLink = document.createElement('div');\n",
              "        docLink.innerHTML = docLinkHtml;\n",
              "        element.appendChild(docLink);\n",
              "      }\n",
              "    </script>\n",
              "  </div>\n",
              "\n",
              "\n",
              "<div id=\"df-a6520a04-428c-4a9f-90ee-50249a03cd73\">\n",
              "  <button class=\"colab-df-quickchart\" onclick=\"quickchart('df-a6520a04-428c-4a9f-90ee-50249a03cd73')\"\n",
              "            title=\"Suggest charts\"\n",
              "            style=\"display:none;\">\n",
              "\n",
              "<svg xmlns=\"http://www.w3.org/2000/svg\" height=\"24px\"viewBox=\"0 0 24 24\"\n",
              "     width=\"24px\">\n",
              "    <g>\n",
              "        <path d=\"M19 3H5c-1.1 0-2 .9-2 2v14c0 1.1.9 2 2 2h14c1.1 0 2-.9 2-2V5c0-1.1-.9-2-2-2zM9 17H7v-7h2v7zm4 0h-2V7h2v10zm4 0h-2v-4h2v4z\"/>\n",
              "    </g>\n",
              "</svg>\n",
              "  </button>\n",
              "\n",
              "<style>\n",
              "  .colab-df-quickchart {\n",
              "      --bg-color: #E8F0FE;\n",
              "      --fill-color: #1967D2;\n",
              "      --hover-bg-color: #E2EBFA;\n",
              "      --hover-fill-color: #174EA6;\n",
              "      --disabled-fill-color: #AAA;\n",
              "      --disabled-bg-color: #DDD;\n",
              "  }\n",
              "\n",
              "  [theme=dark] .colab-df-quickchart {\n",
              "      --bg-color: #3B4455;\n",
              "      --fill-color: #D2E3FC;\n",
              "      --hover-bg-color: #434B5C;\n",
              "      --hover-fill-color: #FFFFFF;\n",
              "      --disabled-bg-color: #3B4455;\n",
              "      --disabled-fill-color: #666;\n",
              "  }\n",
              "\n",
              "  .colab-df-quickchart {\n",
              "    background-color: var(--bg-color);\n",
              "    border: none;\n",
              "    border-radius: 50%;\n",
              "    cursor: pointer;\n",
              "    display: none;\n",
              "    fill: var(--fill-color);\n",
              "    height: 32px;\n",
              "    padding: 0;\n",
              "    width: 32px;\n",
              "  }\n",
              "\n",
              "  .colab-df-quickchart:hover {\n",
              "    background-color: var(--hover-bg-color);\n",
              "    box-shadow: 0 1px 2px rgba(60, 64, 67, 0.3), 0 1px 3px 1px rgba(60, 64, 67, 0.15);\n",
              "    fill: var(--button-hover-fill-color);\n",
              "  }\n",
              "\n",
              "  .colab-df-quickchart-complete:disabled,\n",
              "  .colab-df-quickchart-complete:disabled:hover {\n",
              "    background-color: var(--disabled-bg-color);\n",
              "    fill: var(--disabled-fill-color);\n",
              "    box-shadow: none;\n",
              "  }\n",
              "\n",
              "  .colab-df-spinner {\n",
              "    border: 2px solid var(--fill-color);\n",
              "    border-color: transparent;\n",
              "    border-bottom-color: var(--fill-color);\n",
              "    animation:\n",
              "      spin 1s steps(1) infinite;\n",
              "  }\n",
              "\n",
              "  @keyframes spin {\n",
              "    0% {\n",
              "      border-color: transparent;\n",
              "      border-bottom-color: var(--fill-color);\n",
              "      border-left-color: var(--fill-color);\n",
              "    }\n",
              "    20% {\n",
              "      border-color: transparent;\n",
              "      border-left-color: var(--fill-color);\n",
              "      border-top-color: var(--fill-color);\n",
              "    }\n",
              "    30% {\n",
              "      border-color: transparent;\n",
              "      border-left-color: var(--fill-color);\n",
              "      border-top-color: var(--fill-color);\n",
              "      border-right-color: var(--fill-color);\n",
              "    }\n",
              "    40% {\n",
              "      border-color: transparent;\n",
              "      border-right-color: var(--fill-color);\n",
              "      border-top-color: var(--fill-color);\n",
              "    }\n",
              "    60% {\n",
              "      border-color: transparent;\n",
              "      border-right-color: var(--fill-color);\n",
              "    }\n",
              "    80% {\n",
              "      border-color: transparent;\n",
              "      border-right-color: var(--fill-color);\n",
              "      border-bottom-color: var(--fill-color);\n",
              "    }\n",
              "    90% {\n",
              "      border-color: transparent;\n",
              "      border-bottom-color: var(--fill-color);\n",
              "    }\n",
              "  }\n",
              "</style>\n",
              "\n",
              "  <script>\n",
              "    async function quickchart(key) {\n",
              "      const quickchartButtonEl =\n",
              "        document.querySelector('#' + key + ' button');\n",
              "      quickchartButtonEl.disabled = true;  // To prevent multiple clicks.\n",
              "      quickchartButtonEl.classList.add('colab-df-spinner');\n",
              "      try {\n",
              "        const charts = await google.colab.kernel.invokeFunction(\n",
              "            'suggestCharts', [key], {});\n",
              "      } catch (error) {\n",
              "        console.error('Error during call to suggestCharts:', error);\n",
              "      }\n",
              "      quickchartButtonEl.classList.remove('colab-df-spinner');\n",
              "      quickchartButtonEl.classList.add('colab-df-quickchart-complete');\n",
              "    }\n",
              "    (() => {\n",
              "      let quickchartButtonEl =\n",
              "        document.querySelector('#df-a6520a04-428c-4a9f-90ee-50249a03cd73 button');\n",
              "      quickchartButtonEl.style.display =\n",
              "        google.colab.kernel.accessAllowed ? 'block' : 'none';\n",
              "    })();\n",
              "  </script>\n",
              "</div>\n",
              "\n",
              "    </div>\n",
              "  </div>\n"
            ],
            "application/vnd.google.colaboratory.intrinsic+json": {
              "type": "dataframe",
              "variable_name": "df",
              "summary": "{\n  \"name\": \"df\",\n  \"rows\": 891,\n  \"fields\": [\n    {\n      \"column\": \"PassengerId\",\n      \"properties\": {\n        \"dtype\": \"number\",\n        \"std\": 257,\n        \"min\": 1,\n        \"max\": 891,\n        \"num_unique_values\": 891,\n        \"samples\": [\n          710,\n          440,\n          841\n        ],\n        \"semantic_type\": \"\",\n        \"description\": \"\"\n      }\n    },\n    {\n      \"column\": \"Survived\",\n      \"properties\": {\n        \"dtype\": \"number\",\n        \"std\": 0,\n        \"min\": 0,\n        \"max\": 1,\n        \"num_unique_values\": 2,\n        \"samples\": [\n          1,\n          0\n        ],\n        \"semantic_type\": \"\",\n        \"description\": \"\"\n      }\n    },\n    {\n      \"column\": \"Pclass\",\n      \"properties\": {\n        \"dtype\": \"number\",\n        \"std\": 0,\n        \"min\": 1,\n        \"max\": 3,\n        \"num_unique_values\": 3,\n        \"samples\": [\n          3,\n          1\n        ],\n        \"semantic_type\": \"\",\n        \"description\": \"\"\n      }\n    },\n    {\n      \"column\": \"Name\",\n      \"properties\": {\n        \"dtype\": \"string\",\n        \"num_unique_values\": 891,\n        \"samples\": [\n          \"Moubarek, Master. Halim Gonios (\\\"William George\\\")\",\n          \"Kvillner, Mr. Johan Henrik Johannesson\"\n        ],\n        \"semantic_type\": \"\",\n        \"description\": \"\"\n      }\n    },\n    {\n      \"column\": \"Sex\",\n      \"properties\": {\n        \"dtype\": \"category\",\n        \"num_unique_values\": 2,\n        \"samples\": [\n          \"female\",\n          \"male\"\n        ],\n        \"semantic_type\": \"\",\n        \"description\": \"\"\n      }\n    },\n    {\n      \"column\": \"Age\",\n      \"properties\": {\n        \"dtype\": \"number\",\n        \"std\": 14.526497332334042,\n        \"min\": 0.42,\n        \"max\": 80.0,\n        \"num_unique_values\": 88,\n        \"samples\": [\n          0.75,\n          22.0\n        ],\n        \"semantic_type\": \"\",\n        \"description\": \"\"\n      }\n    },\n    {\n      \"column\": \"SibSp\",\n      \"properties\": {\n        \"dtype\": \"number\",\n        \"std\": 1,\n        \"min\": 0,\n        \"max\": 8,\n        \"num_unique_values\": 7,\n        \"samples\": [\n          1,\n          0\n        ],\n        \"semantic_type\": \"\",\n        \"description\": \"\"\n      }\n    },\n    {\n      \"column\": \"Parch\",\n      \"properties\": {\n        \"dtype\": \"number\",\n        \"std\": 0,\n        \"min\": 0,\n        \"max\": 6,\n        \"num_unique_values\": 7,\n        \"samples\": [\n          0,\n          1\n        ],\n        \"semantic_type\": \"\",\n        \"description\": \"\"\n      }\n    },\n    {\n      \"column\": \"Ticket\",\n      \"properties\": {\n        \"dtype\": \"string\",\n        \"num_unique_values\": 681,\n        \"samples\": [\n          \"11774\",\n          \"248740\"\n        ],\n        \"semantic_type\": \"\",\n        \"description\": \"\"\n      }\n    },\n    {\n      \"column\": \"Fare\",\n      \"properties\": {\n        \"dtype\": \"number\",\n        \"std\": 49.6934285971809,\n        \"min\": 0.0,\n        \"max\": 512.3292,\n        \"num_unique_values\": 248,\n        \"samples\": [\n          11.2417,\n          51.8625\n        ],\n        \"semantic_type\": \"\",\n        \"description\": \"\"\n      }\n    },\n    {\n      \"column\": \"Cabin\",\n      \"properties\": {\n        \"dtype\": \"category\",\n        \"num_unique_values\": 147,\n        \"samples\": [\n          \"D45\",\n          \"B49\"\n        ],\n        \"semantic_type\": \"\",\n        \"description\": \"\"\n      }\n    },\n    {\n      \"column\": \"Embarked\",\n      \"properties\": {\n        \"dtype\": \"category\",\n        \"num_unique_values\": 3,\n        \"samples\": [\n          \"S\",\n          \"C\"\n        ],\n        \"semantic_type\": \"\",\n        \"description\": \"\"\n      }\n    }\n  ]\n}"
            }
          },
          "metadata": {},
          "execution_count": 133
        }
      ]
    },
    {
      "cell_type": "markdown",
      "source": [
        "### Column Types\n",
        "\n",
        "*   Categorical : Survived, Pclass, Sex, SibSp, Parch,Embarked\n",
        "\n",
        "*   Numerical : Age,Fare,PassengerId\n",
        "\n",
        "*   Others : Name, Ticket, Cabin\n",
        "\n",
        "\n"
      ],
      "metadata": {
        "id": "kYgzD8Qnc53-"
      }
    },
    {
      "cell_type": "markdown",
      "source": [
        "### Features Description\n",
        "\n",
        "\n",
        "1.   PassengerId : passenger Id number.\n",
        "\n",
        "2.   Survived : \"0\" means passenger Died and \"1\" means  passenger survived.\n",
        "\n",
        "3.   Pclass : refers to passenger class (1st, 2nd, 3rd) in which they were travelling.\n",
        "\n",
        "4.   Name : Name of passenger\n",
        "\n",
        "5.   Sex : gender of passenger\n",
        "\n",
        "6.   Age : age of passenger\n",
        "\n",
        "7.   SibSp : how many siblings & spouses of the passenger aboard the Titanic\n",
        "\n",
        "8.   Parch : how many children & parents of the passenger aboard the Titanic.\n",
        "\n",
        "9.   Ticket : ticket number\n",
        "\n",
        "10.   Fare : total fare including all siblings and children\n",
        "\n",
        "11.   Cabin : seat no\n",
        "\n",
        "12.   Embarked : from which station they sit in titanic(Southampton, Cherbourg, and Queenstown)\n",
        "\n",
        "\n",
        "\n",
        "\n",
        "\n",
        "\n",
        "\n"
      ],
      "metadata": {
        "id": "DNqwKEBHdiNS"
      }
    },
    {
      "cell_type": "markdown",
      "source": [
        "## **Univariate analysis**"
      ],
      "metadata": {
        "id": "leXWjamliVE2"
      }
    },
    {
      "cell_type": "markdown",
      "source": [
        "###**Fare**"
      ],
      "metadata": {
        "id": "QhUVrSW_CckG"
      }
    },
    {
      "cell_type": "code",
      "source": [
        "df['Fare'].describe()"
      ],
      "metadata": {
        "colab": {
          "base_uri": "https://localhost:8080/"
        },
        "id": "55wdNs8gCqme",
        "outputId": "4479ba34-b292-4837-84b1-0a03ce18c71b"
      },
      "execution_count": null,
      "outputs": [
        {
          "output_type": "execute_result",
          "data": {
            "text/plain": [
              "count    891.000000\n",
              "mean      32.204208\n",
              "std       49.693429\n",
              "min        0.000000\n",
              "25%        7.910400\n",
              "50%       14.454200\n",
              "75%       31.000000\n",
              "max      512.329200\n",
              "Name: Fare, dtype: float64"
            ]
          },
          "metadata": {},
          "execution_count": 6
        }
      ]
    },
    {
      "cell_type": "code",
      "source": [
        "df['Fare'].isnull().sum()"
      ],
      "metadata": {
        "colab": {
          "base_uri": "https://localhost:8080/"
        },
        "id": "m3CqcqXrCzSp",
        "outputId": "e2a082c4-1c28-46f0-ffa5-a2fd248dc468"
      },
      "execution_count": null,
      "outputs": [
        {
          "output_type": "execute_result",
          "data": {
            "text/plain": [
              "0"
            ]
          },
          "metadata": {},
          "execution_count": 7
        }
      ]
    },
    {
      "cell_type": "code",
      "source": [
        "df[df['Fare']==0]"
      ],
      "metadata": {
        "colab": {
          "base_uri": "https://localhost:8080/",
          "height": 520
        },
        "id": "Aii2LfTLEnLh",
        "outputId": "fafe7634-5070-4605-e6c7-bb64b8710f72"
      },
      "execution_count": null,
      "outputs": [
        {
          "output_type": "execute_result",
          "data": {
            "text/plain": [
              "     PassengerId  Survived  Pclass                              Name   Sex  \\\n",
              "179          180         0       3               Leonard, Mr. Lionel  male   \n",
              "263          264         0       1             Harrison, Mr. William  male   \n",
              "271          272         1       3      Tornquist, Mr. William Henry  male   \n",
              "277          278         0       2       Parkes, Mr. Francis \"Frank\"  male   \n",
              "302          303         0       3   Johnson, Mr. William Cahoone Jr  male   \n",
              "413          414         0       2    Cunningham, Mr. Alfred Fleming  male   \n",
              "466          467         0       2             Campbell, Mr. William  male   \n",
              "481          482         0       2  Frost, Mr. Anthony Wood \"Archie\"  male   \n",
              "597          598         0       3               Johnson, Mr. Alfred  male   \n",
              "633          634         0       1     Parr, Mr. William Henry Marsh  male   \n",
              "674          675         0       2        Watson, Mr. Ennis Hastings  male   \n",
              "732          733         0       2              Knight, Mr. Robert J  male   \n",
              "806          807         0       1            Andrews, Mr. Thomas Jr  male   \n",
              "815          816         0       1                  Fry, Mr. Richard  male   \n",
              "822          823         0       1   Reuchlin, Jonkheer. John George  male   \n",
              "\n",
              "      Age  SibSp  Parch  Ticket  Fare Cabin Embarked  \n",
              "179  36.0      0      0    LINE   0.0   NaN        S  \n",
              "263  40.0      0      0  112059   0.0   B94        S  \n",
              "271  25.0      0      0    LINE   0.0   NaN        S  \n",
              "277   NaN      0      0  239853   0.0   NaN        S  \n",
              "302  19.0      0      0    LINE   0.0   NaN        S  \n",
              "413   NaN      0      0  239853   0.0   NaN        S  \n",
              "466   NaN      0      0  239853   0.0   NaN        S  \n",
              "481   NaN      0      0  239854   0.0   NaN        S  \n",
              "597  49.0      0      0    LINE   0.0   NaN        S  \n",
              "633   NaN      0      0  112052   0.0   NaN        S  \n",
              "674   NaN      0      0  239856   0.0   NaN        S  \n",
              "732   NaN      0      0  239855   0.0   NaN        S  \n",
              "806  39.0      0      0  112050   0.0   A36        S  \n",
              "815   NaN      0      0  112058   0.0  B102        S  \n",
              "822  38.0      0      0   19972   0.0   NaN        S  "
            ],
            "text/html": [
              "\n",
              "  <div id=\"df-b1ab6a67-364c-4e96-ab10-b600218038e7\" class=\"colab-df-container\">\n",
              "    <div>\n",
              "<style scoped>\n",
              "    .dataframe tbody tr th:only-of-type {\n",
              "        vertical-align: middle;\n",
              "    }\n",
              "\n",
              "    .dataframe tbody tr th {\n",
              "        vertical-align: top;\n",
              "    }\n",
              "\n",
              "    .dataframe thead th {\n",
              "        text-align: right;\n",
              "    }\n",
              "</style>\n",
              "<table border=\"1\" class=\"dataframe\">\n",
              "  <thead>\n",
              "    <tr style=\"text-align: right;\">\n",
              "      <th></th>\n",
              "      <th>PassengerId</th>\n",
              "      <th>Survived</th>\n",
              "      <th>Pclass</th>\n",
              "      <th>Name</th>\n",
              "      <th>Sex</th>\n",
              "      <th>Age</th>\n",
              "      <th>SibSp</th>\n",
              "      <th>Parch</th>\n",
              "      <th>Ticket</th>\n",
              "      <th>Fare</th>\n",
              "      <th>Cabin</th>\n",
              "      <th>Embarked</th>\n",
              "    </tr>\n",
              "  </thead>\n",
              "  <tbody>\n",
              "    <tr>\n",
              "      <th>179</th>\n",
              "      <td>180</td>\n",
              "      <td>0</td>\n",
              "      <td>3</td>\n",
              "      <td>Leonard, Mr. Lionel</td>\n",
              "      <td>male</td>\n",
              "      <td>36.0</td>\n",
              "      <td>0</td>\n",
              "      <td>0</td>\n",
              "      <td>LINE</td>\n",
              "      <td>0.0</td>\n",
              "      <td>NaN</td>\n",
              "      <td>S</td>\n",
              "    </tr>\n",
              "    <tr>\n",
              "      <th>263</th>\n",
              "      <td>264</td>\n",
              "      <td>0</td>\n",
              "      <td>1</td>\n",
              "      <td>Harrison, Mr. William</td>\n",
              "      <td>male</td>\n",
              "      <td>40.0</td>\n",
              "      <td>0</td>\n",
              "      <td>0</td>\n",
              "      <td>112059</td>\n",
              "      <td>0.0</td>\n",
              "      <td>B94</td>\n",
              "      <td>S</td>\n",
              "    </tr>\n",
              "    <tr>\n",
              "      <th>271</th>\n",
              "      <td>272</td>\n",
              "      <td>1</td>\n",
              "      <td>3</td>\n",
              "      <td>Tornquist, Mr. William Henry</td>\n",
              "      <td>male</td>\n",
              "      <td>25.0</td>\n",
              "      <td>0</td>\n",
              "      <td>0</td>\n",
              "      <td>LINE</td>\n",
              "      <td>0.0</td>\n",
              "      <td>NaN</td>\n",
              "      <td>S</td>\n",
              "    </tr>\n",
              "    <tr>\n",
              "      <th>277</th>\n",
              "      <td>278</td>\n",
              "      <td>0</td>\n",
              "      <td>2</td>\n",
              "      <td>Parkes, Mr. Francis \"Frank\"</td>\n",
              "      <td>male</td>\n",
              "      <td>NaN</td>\n",
              "      <td>0</td>\n",
              "      <td>0</td>\n",
              "      <td>239853</td>\n",
              "      <td>0.0</td>\n",
              "      <td>NaN</td>\n",
              "      <td>S</td>\n",
              "    </tr>\n",
              "    <tr>\n",
              "      <th>302</th>\n",
              "      <td>303</td>\n",
              "      <td>0</td>\n",
              "      <td>3</td>\n",
              "      <td>Johnson, Mr. William Cahoone Jr</td>\n",
              "      <td>male</td>\n",
              "      <td>19.0</td>\n",
              "      <td>0</td>\n",
              "      <td>0</td>\n",
              "      <td>LINE</td>\n",
              "      <td>0.0</td>\n",
              "      <td>NaN</td>\n",
              "      <td>S</td>\n",
              "    </tr>\n",
              "    <tr>\n",
              "      <th>413</th>\n",
              "      <td>414</td>\n",
              "      <td>0</td>\n",
              "      <td>2</td>\n",
              "      <td>Cunningham, Mr. Alfred Fleming</td>\n",
              "      <td>male</td>\n",
              "      <td>NaN</td>\n",
              "      <td>0</td>\n",
              "      <td>0</td>\n",
              "      <td>239853</td>\n",
              "      <td>0.0</td>\n",
              "      <td>NaN</td>\n",
              "      <td>S</td>\n",
              "    </tr>\n",
              "    <tr>\n",
              "      <th>466</th>\n",
              "      <td>467</td>\n",
              "      <td>0</td>\n",
              "      <td>2</td>\n",
              "      <td>Campbell, Mr. William</td>\n",
              "      <td>male</td>\n",
              "      <td>NaN</td>\n",
              "      <td>0</td>\n",
              "      <td>0</td>\n",
              "      <td>239853</td>\n",
              "      <td>0.0</td>\n",
              "      <td>NaN</td>\n",
              "      <td>S</td>\n",
              "    </tr>\n",
              "    <tr>\n",
              "      <th>481</th>\n",
              "      <td>482</td>\n",
              "      <td>0</td>\n",
              "      <td>2</td>\n",
              "      <td>Frost, Mr. Anthony Wood \"Archie\"</td>\n",
              "      <td>male</td>\n",
              "      <td>NaN</td>\n",
              "      <td>0</td>\n",
              "      <td>0</td>\n",
              "      <td>239854</td>\n",
              "      <td>0.0</td>\n",
              "      <td>NaN</td>\n",
              "      <td>S</td>\n",
              "    </tr>\n",
              "    <tr>\n",
              "      <th>597</th>\n",
              "      <td>598</td>\n",
              "      <td>0</td>\n",
              "      <td>3</td>\n",
              "      <td>Johnson, Mr. Alfred</td>\n",
              "      <td>male</td>\n",
              "      <td>49.0</td>\n",
              "      <td>0</td>\n",
              "      <td>0</td>\n",
              "      <td>LINE</td>\n",
              "      <td>0.0</td>\n",
              "      <td>NaN</td>\n",
              "      <td>S</td>\n",
              "    </tr>\n",
              "    <tr>\n",
              "      <th>633</th>\n",
              "      <td>634</td>\n",
              "      <td>0</td>\n",
              "      <td>1</td>\n",
              "      <td>Parr, Mr. William Henry Marsh</td>\n",
              "      <td>male</td>\n",
              "      <td>NaN</td>\n",
              "      <td>0</td>\n",
              "      <td>0</td>\n",
              "      <td>112052</td>\n",
              "      <td>0.0</td>\n",
              "      <td>NaN</td>\n",
              "      <td>S</td>\n",
              "    </tr>\n",
              "    <tr>\n",
              "      <th>674</th>\n",
              "      <td>675</td>\n",
              "      <td>0</td>\n",
              "      <td>2</td>\n",
              "      <td>Watson, Mr. Ennis Hastings</td>\n",
              "      <td>male</td>\n",
              "      <td>NaN</td>\n",
              "      <td>0</td>\n",
              "      <td>0</td>\n",
              "      <td>239856</td>\n",
              "      <td>0.0</td>\n",
              "      <td>NaN</td>\n",
              "      <td>S</td>\n",
              "    </tr>\n",
              "    <tr>\n",
              "      <th>732</th>\n",
              "      <td>733</td>\n",
              "      <td>0</td>\n",
              "      <td>2</td>\n",
              "      <td>Knight, Mr. Robert J</td>\n",
              "      <td>male</td>\n",
              "      <td>NaN</td>\n",
              "      <td>0</td>\n",
              "      <td>0</td>\n",
              "      <td>239855</td>\n",
              "      <td>0.0</td>\n",
              "      <td>NaN</td>\n",
              "      <td>S</td>\n",
              "    </tr>\n",
              "    <tr>\n",
              "      <th>806</th>\n",
              "      <td>807</td>\n",
              "      <td>0</td>\n",
              "      <td>1</td>\n",
              "      <td>Andrews, Mr. Thomas Jr</td>\n",
              "      <td>male</td>\n",
              "      <td>39.0</td>\n",
              "      <td>0</td>\n",
              "      <td>0</td>\n",
              "      <td>112050</td>\n",
              "      <td>0.0</td>\n",
              "      <td>A36</td>\n",
              "      <td>S</td>\n",
              "    </tr>\n",
              "    <tr>\n",
              "      <th>815</th>\n",
              "      <td>816</td>\n",
              "      <td>0</td>\n",
              "      <td>1</td>\n",
              "      <td>Fry, Mr. Richard</td>\n",
              "      <td>male</td>\n",
              "      <td>NaN</td>\n",
              "      <td>0</td>\n",
              "      <td>0</td>\n",
              "      <td>112058</td>\n",
              "      <td>0.0</td>\n",
              "      <td>B102</td>\n",
              "      <td>S</td>\n",
              "    </tr>\n",
              "    <tr>\n",
              "      <th>822</th>\n",
              "      <td>823</td>\n",
              "      <td>0</td>\n",
              "      <td>1</td>\n",
              "      <td>Reuchlin, Jonkheer. John George</td>\n",
              "      <td>male</td>\n",
              "      <td>38.0</td>\n",
              "      <td>0</td>\n",
              "      <td>0</td>\n",
              "      <td>19972</td>\n",
              "      <td>0.0</td>\n",
              "      <td>NaN</td>\n",
              "      <td>S</td>\n",
              "    </tr>\n",
              "  </tbody>\n",
              "</table>\n",
              "</div>\n",
              "    <div class=\"colab-df-buttons\">\n",
              "\n",
              "  <div class=\"colab-df-container\">\n",
              "    <button class=\"colab-df-convert\" onclick=\"convertToInteractive('df-b1ab6a67-364c-4e96-ab10-b600218038e7')\"\n",
              "            title=\"Convert this dataframe to an interactive table.\"\n",
              "            style=\"display:none;\">\n",
              "\n",
              "  <svg xmlns=\"http://www.w3.org/2000/svg\" height=\"24px\" viewBox=\"0 -960 960 960\">\n",
              "    <path d=\"M120-120v-720h720v720H120Zm60-500h600v-160H180v160Zm220 220h160v-160H400v160Zm0 220h160v-160H400v160ZM180-400h160v-160H180v160Zm440 0h160v-160H620v160ZM180-180h160v-160H180v160Zm440 0h160v-160H620v160Z\"/>\n",
              "  </svg>\n",
              "    </button>\n",
              "\n",
              "  <style>\n",
              "    .colab-df-container {\n",
              "      display:flex;\n",
              "      gap: 12px;\n",
              "    }\n",
              "\n",
              "    .colab-df-convert {\n",
              "      background-color: #E8F0FE;\n",
              "      border: none;\n",
              "      border-radius: 50%;\n",
              "      cursor: pointer;\n",
              "      display: none;\n",
              "      fill: #1967D2;\n",
              "      height: 32px;\n",
              "      padding: 0 0 0 0;\n",
              "      width: 32px;\n",
              "    }\n",
              "\n",
              "    .colab-df-convert:hover {\n",
              "      background-color: #E2EBFA;\n",
              "      box-shadow: 0px 1px 2px rgba(60, 64, 67, 0.3), 0px 1px 3px 1px rgba(60, 64, 67, 0.15);\n",
              "      fill: #174EA6;\n",
              "    }\n",
              "\n",
              "    .colab-df-buttons div {\n",
              "      margin-bottom: 4px;\n",
              "    }\n",
              "\n",
              "    [theme=dark] .colab-df-convert {\n",
              "      background-color: #3B4455;\n",
              "      fill: #D2E3FC;\n",
              "    }\n",
              "\n",
              "    [theme=dark] .colab-df-convert:hover {\n",
              "      background-color: #434B5C;\n",
              "      box-shadow: 0px 1px 3px 1px rgba(0, 0, 0, 0.15);\n",
              "      filter: drop-shadow(0px 1px 2px rgba(0, 0, 0, 0.3));\n",
              "      fill: #FFFFFF;\n",
              "    }\n",
              "  </style>\n",
              "\n",
              "    <script>\n",
              "      const buttonEl =\n",
              "        document.querySelector('#df-b1ab6a67-364c-4e96-ab10-b600218038e7 button.colab-df-convert');\n",
              "      buttonEl.style.display =\n",
              "        google.colab.kernel.accessAllowed ? 'block' : 'none';\n",
              "\n",
              "      async function convertToInteractive(key) {\n",
              "        const element = document.querySelector('#df-b1ab6a67-364c-4e96-ab10-b600218038e7');\n",
              "        const dataTable =\n",
              "          await google.colab.kernel.invokeFunction('convertToInteractive',\n",
              "                                                    [key], {});\n",
              "        if (!dataTable) return;\n",
              "\n",
              "        const docLinkHtml = 'Like what you see? Visit the ' +\n",
              "          '<a target=\"_blank\" href=https://colab.research.google.com/notebooks/data_table.ipynb>data table notebook</a>'\n",
              "          + ' to learn more about interactive tables.';\n",
              "        element.innerHTML = '';\n",
              "        dataTable['output_type'] = 'display_data';\n",
              "        await google.colab.output.renderOutput(dataTable, element);\n",
              "        const docLink = document.createElement('div');\n",
              "        docLink.innerHTML = docLinkHtml;\n",
              "        element.appendChild(docLink);\n",
              "      }\n",
              "    </script>\n",
              "  </div>\n",
              "\n",
              "\n",
              "<div id=\"df-96602d70-0e57-40c8-bca4-e93ddab952f7\">\n",
              "  <button class=\"colab-df-quickchart\" onclick=\"quickchart('df-96602d70-0e57-40c8-bca4-e93ddab952f7')\"\n",
              "            title=\"Suggest charts\"\n",
              "            style=\"display:none;\">\n",
              "\n",
              "<svg xmlns=\"http://www.w3.org/2000/svg\" height=\"24px\"viewBox=\"0 0 24 24\"\n",
              "     width=\"24px\">\n",
              "    <g>\n",
              "        <path d=\"M19 3H5c-1.1 0-2 .9-2 2v14c0 1.1.9 2 2 2h14c1.1 0 2-.9 2-2V5c0-1.1-.9-2-2-2zM9 17H7v-7h2v7zm4 0h-2V7h2v10zm4 0h-2v-4h2v4z\"/>\n",
              "    </g>\n",
              "</svg>\n",
              "  </button>\n",
              "\n",
              "<style>\n",
              "  .colab-df-quickchart {\n",
              "      --bg-color: #E8F0FE;\n",
              "      --fill-color: #1967D2;\n",
              "      --hover-bg-color: #E2EBFA;\n",
              "      --hover-fill-color: #174EA6;\n",
              "      --disabled-fill-color: #AAA;\n",
              "      --disabled-bg-color: #DDD;\n",
              "  }\n",
              "\n",
              "  [theme=dark] .colab-df-quickchart {\n",
              "      --bg-color: #3B4455;\n",
              "      --fill-color: #D2E3FC;\n",
              "      --hover-bg-color: #434B5C;\n",
              "      --hover-fill-color: #FFFFFF;\n",
              "      --disabled-bg-color: #3B4455;\n",
              "      --disabled-fill-color: #666;\n",
              "  }\n",
              "\n",
              "  .colab-df-quickchart {\n",
              "    background-color: var(--bg-color);\n",
              "    border: none;\n",
              "    border-radius: 50%;\n",
              "    cursor: pointer;\n",
              "    display: none;\n",
              "    fill: var(--fill-color);\n",
              "    height: 32px;\n",
              "    padding: 0;\n",
              "    width: 32px;\n",
              "  }\n",
              "\n",
              "  .colab-df-quickchart:hover {\n",
              "    background-color: var(--hover-bg-color);\n",
              "    box-shadow: 0 1px 2px rgba(60, 64, 67, 0.3), 0 1px 3px 1px rgba(60, 64, 67, 0.15);\n",
              "    fill: var(--button-hover-fill-color);\n",
              "  }\n",
              "\n",
              "  .colab-df-quickchart-complete:disabled,\n",
              "  .colab-df-quickchart-complete:disabled:hover {\n",
              "    background-color: var(--disabled-bg-color);\n",
              "    fill: var(--disabled-fill-color);\n",
              "    box-shadow: none;\n",
              "  }\n",
              "\n",
              "  .colab-df-spinner {\n",
              "    border: 2px solid var(--fill-color);\n",
              "    border-color: transparent;\n",
              "    border-bottom-color: var(--fill-color);\n",
              "    animation:\n",
              "      spin 1s steps(1) infinite;\n",
              "  }\n",
              "\n",
              "  @keyframes spin {\n",
              "    0% {\n",
              "      border-color: transparent;\n",
              "      border-bottom-color: var(--fill-color);\n",
              "      border-left-color: var(--fill-color);\n",
              "    }\n",
              "    20% {\n",
              "      border-color: transparent;\n",
              "      border-left-color: var(--fill-color);\n",
              "      border-top-color: var(--fill-color);\n",
              "    }\n",
              "    30% {\n",
              "      border-color: transparent;\n",
              "      border-left-color: var(--fill-color);\n",
              "      border-top-color: var(--fill-color);\n",
              "      border-right-color: var(--fill-color);\n",
              "    }\n",
              "    40% {\n",
              "      border-color: transparent;\n",
              "      border-right-color: var(--fill-color);\n",
              "      border-top-color: var(--fill-color);\n",
              "    }\n",
              "    60% {\n",
              "      border-color: transparent;\n",
              "      border-right-color: var(--fill-color);\n",
              "    }\n",
              "    80% {\n",
              "      border-color: transparent;\n",
              "      border-right-color: var(--fill-color);\n",
              "      border-bottom-color: var(--fill-color);\n",
              "    }\n",
              "    90% {\n",
              "      border-color: transparent;\n",
              "      border-bottom-color: var(--fill-color);\n",
              "    }\n",
              "  }\n",
              "</style>\n",
              "\n",
              "  <script>\n",
              "    async function quickchart(key) {\n",
              "      const quickchartButtonEl =\n",
              "        document.querySelector('#' + key + ' button');\n",
              "      quickchartButtonEl.disabled = true;  // To prevent multiple clicks.\n",
              "      quickchartButtonEl.classList.add('colab-df-spinner');\n",
              "      try {\n",
              "        const charts = await google.colab.kernel.invokeFunction(\n",
              "            'suggestCharts', [key], {});\n",
              "      } catch (error) {\n",
              "        console.error('Error during call to suggestCharts:', error);\n",
              "      }\n",
              "      quickchartButtonEl.classList.remove('colab-df-spinner');\n",
              "      quickchartButtonEl.classList.add('colab-df-quickchart-complete');\n",
              "    }\n",
              "    (() => {\n",
              "      let quickchartButtonEl =\n",
              "        document.querySelector('#df-96602d70-0e57-40c8-bca4-e93ddab952f7 button');\n",
              "      quickchartButtonEl.style.display =\n",
              "        google.colab.kernel.accessAllowed ? 'block' : 'none';\n",
              "    })();\n",
              "  </script>\n",
              "</div>\n",
              "\n",
              "    </div>\n",
              "  </div>\n"
            ],
            "application/vnd.google.colaboratory.intrinsic+json": {
              "type": "dataframe",
              "summary": "{\n  \"name\": \"df[df['Fare']==0]\",\n  \"rows\": 15,\n  \"fields\": [\n    {\n      \"column\": \"PassengerId\",\n      \"properties\": {\n        \"dtype\": \"number\",\n        \"std\": 225,\n        \"min\": 180,\n        \"max\": 823,\n        \"num_unique_values\": 15,\n        \"samples\": [\n          634,\n          733,\n          180\n        ],\n        \"semantic_type\": \"\",\n        \"description\": \"\"\n      }\n    },\n    {\n      \"column\": \"Survived\",\n      \"properties\": {\n        \"dtype\": \"number\",\n        \"std\": 0,\n        \"min\": 0,\n        \"max\": 1,\n        \"num_unique_values\": 2,\n        \"samples\": [\n          1,\n          0\n        ],\n        \"semantic_type\": \"\",\n        \"description\": \"\"\n      }\n    },\n    {\n      \"column\": \"Pclass\",\n      \"properties\": {\n        \"dtype\": \"number\",\n        \"std\": 0,\n        \"min\": 1,\n        \"max\": 3,\n        \"num_unique_values\": 3,\n        \"samples\": [\n          3,\n          1\n        ],\n        \"semantic_type\": \"\",\n        \"description\": \"\"\n      }\n    },\n    {\n      \"column\": \"Name\",\n      \"properties\": {\n        \"dtype\": \"string\",\n        \"num_unique_values\": 15,\n        \"samples\": [\n          \"Parr, Mr. William Henry Marsh\",\n          \"Knight, Mr. Robert J\"\n        ],\n        \"semantic_type\": \"\",\n        \"description\": \"\"\n      }\n    },\n    {\n      \"column\": \"Sex\",\n      \"properties\": {\n        \"dtype\": \"category\",\n        \"num_unique_values\": 1,\n        \"samples\": [\n          \"male\"\n        ],\n        \"semantic_type\": \"\",\n        \"description\": \"\"\n      }\n    },\n    {\n      \"column\": \"Age\",\n      \"properties\": {\n        \"dtype\": \"number\",\n        \"std\": 10.023781246425447,\n        \"min\": 19.0,\n        \"max\": 49.0,\n        \"num_unique_values\": 7,\n        \"samples\": [\n          36.0\n        ],\n        \"semantic_type\": \"\",\n        \"description\": \"\"\n      }\n    },\n    {\n      \"column\": \"SibSp\",\n      \"properties\": {\n        \"dtype\": \"number\",\n        \"std\": 0,\n        \"min\": 0,\n        \"max\": 0,\n        \"num_unique_values\": 1,\n        \"samples\": [\n          0\n        ],\n        \"semantic_type\": \"\",\n        \"description\": \"\"\n      }\n    },\n    {\n      \"column\": \"Parch\",\n      \"properties\": {\n        \"dtype\": \"number\",\n        \"std\": 0,\n        \"min\": 0,\n        \"max\": 0,\n        \"num_unique_values\": 1,\n        \"samples\": [\n          0\n        ],\n        \"semantic_type\": \"\",\n        \"description\": \"\"\n      }\n    },\n    {\n      \"column\": \"Ticket\",\n      \"properties\": {\n        \"dtype\": \"string\",\n        \"num_unique_values\": 10,\n        \"samples\": [\n          \"112058\"\n        ],\n        \"semantic_type\": \"\",\n        \"description\": \"\"\n      }\n    },\n    {\n      \"column\": \"Fare\",\n      \"properties\": {\n        \"dtype\": \"number\",\n        \"std\": 0.0,\n        \"min\": 0.0,\n        \"max\": 0.0,\n        \"num_unique_values\": 1,\n        \"samples\": [\n          0.0\n        ],\n        \"semantic_type\": \"\",\n        \"description\": \"\"\n      }\n    },\n    {\n      \"column\": \"Cabin\",\n      \"properties\": {\n        \"dtype\": \"category\",\n        \"num_unique_values\": 3,\n        \"samples\": [\n          \"B94\"\n        ],\n        \"semantic_type\": \"\",\n        \"description\": \"\"\n      }\n    },\n    {\n      \"column\": \"Embarked\",\n      \"properties\": {\n        \"dtype\": \"category\",\n        \"num_unique_values\": 1,\n        \"samples\": [\n          \"S\"\n        ],\n        \"semantic_type\": \"\",\n        \"description\": \"\"\n      }\n    }\n  ]\n}"
            }
          },
          "metadata": {},
          "execution_count": 8
        }
      ]
    },
    {
      "cell_type": "code",
      "source": [
        "len(df[df['Fare']>50])/len(df)"
      ],
      "metadata": {
        "colab": {
          "base_uri": "https://localhost:8080/"
        },
        "id": "GNeJZ8dCzNS6",
        "outputId": "e32c8ed7-cf8e-4162-eae8-bfabe15112c8"
      },
      "execution_count": null,
      "outputs": [
        {
          "output_type": "execute_result",
          "data": {
            "text/plain": [
              "0.17957351290684623"
            ]
          },
          "metadata": {},
          "execution_count": 9
        }
      ]
    },
    {
      "cell_type": "code",
      "source": [
        "df[df['Fare']==512.329200]"
      ],
      "metadata": {
        "colab": {
          "base_uri": "https://localhost:8080/",
          "height": 196
        },
        "id": "1l1Y_LZiFh3q",
        "outputId": "feff4e8b-fe5c-4623-869d-7b71c5071e21"
      },
      "execution_count": null,
      "outputs": [
        {
          "output_type": "execute_result",
          "data": {
            "text/plain": [
              "     PassengerId  Survived  Pclass                                Name  \\\n",
              "258          259         1       1                    Ward, Miss. Anna   \n",
              "679          680         1       1  Cardeza, Mr. Thomas Drake Martinez   \n",
              "737          738         1       1              Lesurer, Mr. Gustave J   \n",
              "\n",
              "        Sex   Age  SibSp  Parch    Ticket      Fare        Cabin Embarked  \n",
              "258  female  35.0      0      0  PC 17755  512.3292          NaN        C  \n",
              "679    male  36.0      0      1  PC 17755  512.3292  B51 B53 B55        C  \n",
              "737    male  35.0      0      0  PC 17755  512.3292         B101        C  "
            ],
            "text/html": [
              "\n",
              "  <div id=\"df-a27cb7ee-1b31-4b3f-8a39-2ed8ab6edb1b\" class=\"colab-df-container\">\n",
              "    <div>\n",
              "<style scoped>\n",
              "    .dataframe tbody tr th:only-of-type {\n",
              "        vertical-align: middle;\n",
              "    }\n",
              "\n",
              "    .dataframe tbody tr th {\n",
              "        vertical-align: top;\n",
              "    }\n",
              "\n",
              "    .dataframe thead th {\n",
              "        text-align: right;\n",
              "    }\n",
              "</style>\n",
              "<table border=\"1\" class=\"dataframe\">\n",
              "  <thead>\n",
              "    <tr style=\"text-align: right;\">\n",
              "      <th></th>\n",
              "      <th>PassengerId</th>\n",
              "      <th>Survived</th>\n",
              "      <th>Pclass</th>\n",
              "      <th>Name</th>\n",
              "      <th>Sex</th>\n",
              "      <th>Age</th>\n",
              "      <th>SibSp</th>\n",
              "      <th>Parch</th>\n",
              "      <th>Ticket</th>\n",
              "      <th>Fare</th>\n",
              "      <th>Cabin</th>\n",
              "      <th>Embarked</th>\n",
              "    </tr>\n",
              "  </thead>\n",
              "  <tbody>\n",
              "    <tr>\n",
              "      <th>258</th>\n",
              "      <td>259</td>\n",
              "      <td>1</td>\n",
              "      <td>1</td>\n",
              "      <td>Ward, Miss. Anna</td>\n",
              "      <td>female</td>\n",
              "      <td>35.0</td>\n",
              "      <td>0</td>\n",
              "      <td>0</td>\n",
              "      <td>PC 17755</td>\n",
              "      <td>512.3292</td>\n",
              "      <td>NaN</td>\n",
              "      <td>C</td>\n",
              "    </tr>\n",
              "    <tr>\n",
              "      <th>679</th>\n",
              "      <td>680</td>\n",
              "      <td>1</td>\n",
              "      <td>1</td>\n",
              "      <td>Cardeza, Mr. Thomas Drake Martinez</td>\n",
              "      <td>male</td>\n",
              "      <td>36.0</td>\n",
              "      <td>0</td>\n",
              "      <td>1</td>\n",
              "      <td>PC 17755</td>\n",
              "      <td>512.3292</td>\n",
              "      <td>B51 B53 B55</td>\n",
              "      <td>C</td>\n",
              "    </tr>\n",
              "    <tr>\n",
              "      <th>737</th>\n",
              "      <td>738</td>\n",
              "      <td>1</td>\n",
              "      <td>1</td>\n",
              "      <td>Lesurer, Mr. Gustave J</td>\n",
              "      <td>male</td>\n",
              "      <td>35.0</td>\n",
              "      <td>0</td>\n",
              "      <td>0</td>\n",
              "      <td>PC 17755</td>\n",
              "      <td>512.3292</td>\n",
              "      <td>B101</td>\n",
              "      <td>C</td>\n",
              "    </tr>\n",
              "  </tbody>\n",
              "</table>\n",
              "</div>\n",
              "    <div class=\"colab-df-buttons\">\n",
              "\n",
              "  <div class=\"colab-df-container\">\n",
              "    <button class=\"colab-df-convert\" onclick=\"convertToInteractive('df-a27cb7ee-1b31-4b3f-8a39-2ed8ab6edb1b')\"\n",
              "            title=\"Convert this dataframe to an interactive table.\"\n",
              "            style=\"display:none;\">\n",
              "\n",
              "  <svg xmlns=\"http://www.w3.org/2000/svg\" height=\"24px\" viewBox=\"0 -960 960 960\">\n",
              "    <path d=\"M120-120v-720h720v720H120Zm60-500h600v-160H180v160Zm220 220h160v-160H400v160Zm0 220h160v-160H400v160ZM180-400h160v-160H180v160Zm440 0h160v-160H620v160ZM180-180h160v-160H180v160Zm440 0h160v-160H620v160Z\"/>\n",
              "  </svg>\n",
              "    </button>\n",
              "\n",
              "  <style>\n",
              "    .colab-df-container {\n",
              "      display:flex;\n",
              "      gap: 12px;\n",
              "    }\n",
              "\n",
              "    .colab-df-convert {\n",
              "      background-color: #E8F0FE;\n",
              "      border: none;\n",
              "      border-radius: 50%;\n",
              "      cursor: pointer;\n",
              "      display: none;\n",
              "      fill: #1967D2;\n",
              "      height: 32px;\n",
              "      padding: 0 0 0 0;\n",
              "      width: 32px;\n",
              "    }\n",
              "\n",
              "    .colab-df-convert:hover {\n",
              "      background-color: #E2EBFA;\n",
              "      box-shadow: 0px 1px 2px rgba(60, 64, 67, 0.3), 0px 1px 3px 1px rgba(60, 64, 67, 0.15);\n",
              "      fill: #174EA6;\n",
              "    }\n",
              "\n",
              "    .colab-df-buttons div {\n",
              "      margin-bottom: 4px;\n",
              "    }\n",
              "\n",
              "    [theme=dark] .colab-df-convert {\n",
              "      background-color: #3B4455;\n",
              "      fill: #D2E3FC;\n",
              "    }\n",
              "\n",
              "    [theme=dark] .colab-df-convert:hover {\n",
              "      background-color: #434B5C;\n",
              "      box-shadow: 0px 1px 3px 1px rgba(0, 0, 0, 0.15);\n",
              "      filter: drop-shadow(0px 1px 2px rgba(0, 0, 0, 0.3));\n",
              "      fill: #FFFFFF;\n",
              "    }\n",
              "  </style>\n",
              "\n",
              "    <script>\n",
              "      const buttonEl =\n",
              "        document.querySelector('#df-a27cb7ee-1b31-4b3f-8a39-2ed8ab6edb1b button.colab-df-convert');\n",
              "      buttonEl.style.display =\n",
              "        google.colab.kernel.accessAllowed ? 'block' : 'none';\n",
              "\n",
              "      async function convertToInteractive(key) {\n",
              "        const element = document.querySelector('#df-a27cb7ee-1b31-4b3f-8a39-2ed8ab6edb1b');\n",
              "        const dataTable =\n",
              "          await google.colab.kernel.invokeFunction('convertToInteractive',\n",
              "                                                    [key], {});\n",
              "        if (!dataTable) return;\n",
              "\n",
              "        const docLinkHtml = 'Like what you see? Visit the ' +\n",
              "          '<a target=\"_blank\" href=https://colab.research.google.com/notebooks/data_table.ipynb>data table notebook</a>'\n",
              "          + ' to learn more about interactive tables.';\n",
              "        element.innerHTML = '';\n",
              "        dataTable['output_type'] = 'display_data';\n",
              "        await google.colab.output.renderOutput(dataTable, element);\n",
              "        const docLink = document.createElement('div');\n",
              "        docLink.innerHTML = docLinkHtml;\n",
              "        element.appendChild(docLink);\n",
              "      }\n",
              "    </script>\n",
              "  </div>\n",
              "\n",
              "\n",
              "<div id=\"df-7bc4711e-76d5-4a5b-9ced-a7aef93c57da\">\n",
              "  <button class=\"colab-df-quickchart\" onclick=\"quickchart('df-7bc4711e-76d5-4a5b-9ced-a7aef93c57da')\"\n",
              "            title=\"Suggest charts\"\n",
              "            style=\"display:none;\">\n",
              "\n",
              "<svg xmlns=\"http://www.w3.org/2000/svg\" height=\"24px\"viewBox=\"0 0 24 24\"\n",
              "     width=\"24px\">\n",
              "    <g>\n",
              "        <path d=\"M19 3H5c-1.1 0-2 .9-2 2v14c0 1.1.9 2 2 2h14c1.1 0 2-.9 2-2V5c0-1.1-.9-2-2-2zM9 17H7v-7h2v7zm4 0h-2V7h2v10zm4 0h-2v-4h2v4z\"/>\n",
              "    </g>\n",
              "</svg>\n",
              "  </button>\n",
              "\n",
              "<style>\n",
              "  .colab-df-quickchart {\n",
              "      --bg-color: #E8F0FE;\n",
              "      --fill-color: #1967D2;\n",
              "      --hover-bg-color: #E2EBFA;\n",
              "      --hover-fill-color: #174EA6;\n",
              "      --disabled-fill-color: #AAA;\n",
              "      --disabled-bg-color: #DDD;\n",
              "  }\n",
              "\n",
              "  [theme=dark] .colab-df-quickchart {\n",
              "      --bg-color: #3B4455;\n",
              "      --fill-color: #D2E3FC;\n",
              "      --hover-bg-color: #434B5C;\n",
              "      --hover-fill-color: #FFFFFF;\n",
              "      --disabled-bg-color: #3B4455;\n",
              "      --disabled-fill-color: #666;\n",
              "  }\n",
              "\n",
              "  .colab-df-quickchart {\n",
              "    background-color: var(--bg-color);\n",
              "    border: none;\n",
              "    border-radius: 50%;\n",
              "    cursor: pointer;\n",
              "    display: none;\n",
              "    fill: var(--fill-color);\n",
              "    height: 32px;\n",
              "    padding: 0;\n",
              "    width: 32px;\n",
              "  }\n",
              "\n",
              "  .colab-df-quickchart:hover {\n",
              "    background-color: var(--hover-bg-color);\n",
              "    box-shadow: 0 1px 2px rgba(60, 64, 67, 0.3), 0 1px 3px 1px rgba(60, 64, 67, 0.15);\n",
              "    fill: var(--button-hover-fill-color);\n",
              "  }\n",
              "\n",
              "  .colab-df-quickchart-complete:disabled,\n",
              "  .colab-df-quickchart-complete:disabled:hover {\n",
              "    background-color: var(--disabled-bg-color);\n",
              "    fill: var(--disabled-fill-color);\n",
              "    box-shadow: none;\n",
              "  }\n",
              "\n",
              "  .colab-df-spinner {\n",
              "    border: 2px solid var(--fill-color);\n",
              "    border-color: transparent;\n",
              "    border-bottom-color: var(--fill-color);\n",
              "    animation:\n",
              "      spin 1s steps(1) infinite;\n",
              "  }\n",
              "\n",
              "  @keyframes spin {\n",
              "    0% {\n",
              "      border-color: transparent;\n",
              "      border-bottom-color: var(--fill-color);\n",
              "      border-left-color: var(--fill-color);\n",
              "    }\n",
              "    20% {\n",
              "      border-color: transparent;\n",
              "      border-left-color: var(--fill-color);\n",
              "      border-top-color: var(--fill-color);\n",
              "    }\n",
              "    30% {\n",
              "      border-color: transparent;\n",
              "      border-left-color: var(--fill-color);\n",
              "      border-top-color: var(--fill-color);\n",
              "      border-right-color: var(--fill-color);\n",
              "    }\n",
              "    40% {\n",
              "      border-color: transparent;\n",
              "      border-right-color: var(--fill-color);\n",
              "      border-top-color: var(--fill-color);\n",
              "    }\n",
              "    60% {\n",
              "      border-color: transparent;\n",
              "      border-right-color: var(--fill-color);\n",
              "    }\n",
              "    80% {\n",
              "      border-color: transparent;\n",
              "      border-right-color: var(--fill-color);\n",
              "      border-bottom-color: var(--fill-color);\n",
              "    }\n",
              "    90% {\n",
              "      border-color: transparent;\n",
              "      border-bottom-color: var(--fill-color);\n",
              "    }\n",
              "  }\n",
              "</style>\n",
              "\n",
              "  <script>\n",
              "    async function quickchart(key) {\n",
              "      const quickchartButtonEl =\n",
              "        document.querySelector('#' + key + ' button');\n",
              "      quickchartButtonEl.disabled = true;  // To prevent multiple clicks.\n",
              "      quickchartButtonEl.classList.add('colab-df-spinner');\n",
              "      try {\n",
              "        const charts = await google.colab.kernel.invokeFunction(\n",
              "            'suggestCharts', [key], {});\n",
              "      } catch (error) {\n",
              "        console.error('Error during call to suggestCharts:', error);\n",
              "      }\n",
              "      quickchartButtonEl.classList.remove('colab-df-spinner');\n",
              "      quickchartButtonEl.classList.add('colab-df-quickchart-complete');\n",
              "    }\n",
              "    (() => {\n",
              "      let quickchartButtonEl =\n",
              "        document.querySelector('#df-7bc4711e-76d5-4a5b-9ced-a7aef93c57da button');\n",
              "      quickchartButtonEl.style.display =\n",
              "        google.colab.kernel.accessAllowed ? 'block' : 'none';\n",
              "    })();\n",
              "  </script>\n",
              "</div>\n",
              "\n",
              "    </div>\n",
              "  </div>\n"
            ],
            "application/vnd.google.colaboratory.intrinsic+json": {
              "type": "dataframe",
              "summary": "{\n  \"name\": \"df[df['Fare']==512\",\n  \"rows\": 3,\n  \"fields\": [\n    {\n      \"column\": \"PassengerId\",\n      \"properties\": {\n        \"dtype\": \"number\",\n        \"std\": 261,\n        \"min\": 259,\n        \"max\": 738,\n        \"num_unique_values\": 3,\n        \"samples\": [\n          259,\n          680,\n          738\n        ],\n        \"semantic_type\": \"\",\n        \"description\": \"\"\n      }\n    },\n    {\n      \"column\": \"Survived\",\n      \"properties\": {\n        \"dtype\": \"number\",\n        \"std\": 0,\n        \"min\": 1,\n        \"max\": 1,\n        \"num_unique_values\": 1,\n        \"samples\": [\n          1\n        ],\n        \"semantic_type\": \"\",\n        \"description\": \"\"\n      }\n    },\n    {\n      \"column\": \"Pclass\",\n      \"properties\": {\n        \"dtype\": \"number\",\n        \"std\": 0,\n        \"min\": 1,\n        \"max\": 1,\n        \"num_unique_values\": 1,\n        \"samples\": [\n          1\n        ],\n        \"semantic_type\": \"\",\n        \"description\": \"\"\n      }\n    },\n    {\n      \"column\": \"Name\",\n      \"properties\": {\n        \"dtype\": \"string\",\n        \"num_unique_values\": 3,\n        \"samples\": [\n          \"Ward, Miss. Anna\"\n        ],\n        \"semantic_type\": \"\",\n        \"description\": \"\"\n      }\n    },\n    {\n      \"column\": \"Sex\",\n      \"properties\": {\n        \"dtype\": \"string\",\n        \"num_unique_values\": 2,\n        \"samples\": [\n          \"male\"\n        ],\n        \"semantic_type\": \"\",\n        \"description\": \"\"\n      }\n    },\n    {\n      \"column\": \"Age\",\n      \"properties\": {\n        \"dtype\": \"number\",\n        \"std\": 0.5773502691896258,\n        \"min\": 35.0,\n        \"max\": 36.0,\n        \"num_unique_values\": 2,\n        \"samples\": [\n          36.0\n        ],\n        \"semantic_type\": \"\",\n        \"description\": \"\"\n      }\n    },\n    {\n      \"column\": \"SibSp\",\n      \"properties\": {\n        \"dtype\": \"number\",\n        \"std\": 0,\n        \"min\": 0,\n        \"max\": 0,\n        \"num_unique_values\": 1,\n        \"samples\": [\n          0\n        ],\n        \"semantic_type\": \"\",\n        \"description\": \"\"\n      }\n    },\n    {\n      \"column\": \"Parch\",\n      \"properties\": {\n        \"dtype\": \"number\",\n        \"std\": 0,\n        \"min\": 0,\n        \"max\": 1,\n        \"num_unique_values\": 2,\n        \"samples\": [\n          1\n        ],\n        \"semantic_type\": \"\",\n        \"description\": \"\"\n      }\n    },\n    {\n      \"column\": \"Ticket\",\n      \"properties\": {\n        \"dtype\": \"category\",\n        \"num_unique_values\": 1,\n        \"samples\": [\n          \"PC 17755\"\n        ],\n        \"semantic_type\": \"\",\n        \"description\": \"\"\n      }\n    },\n    {\n      \"column\": \"Fare\",\n      \"properties\": {\n        \"dtype\": \"number\",\n        \"std\": 0.0,\n        \"min\": 512.3292,\n        \"max\": 512.3292,\n        \"num_unique_values\": 1,\n        \"samples\": [\n          512.3292\n        ],\n        \"semantic_type\": \"\",\n        \"description\": \"\"\n      }\n    },\n    {\n      \"column\": \"Cabin\",\n      \"properties\": {\n        \"dtype\": \"string\",\n        \"num_unique_values\": 2,\n        \"samples\": [\n          \"B101\"\n        ],\n        \"semantic_type\": \"\",\n        \"description\": \"\"\n      }\n    },\n    {\n      \"column\": \"Embarked\",\n      \"properties\": {\n        \"dtype\": \"category\",\n        \"num_unique_values\": 1,\n        \"samples\": [\n          \"C\"\n        ],\n        \"semantic_type\": \"\",\n        \"description\": \"\"\n      }\n    }\n  ]\n}"
            }
          },
          "metadata": {},
          "execution_count": 10
        }
      ]
    },
    {
      "cell_type": "code",
      "source": [
        "px.histogram(df,x=df['Fare'])"
      ],
      "metadata": {
        "colab": {
          "base_uri": "https://localhost:8080/",
          "height": 542
        },
        "id": "bfw0UUxgC5sV",
        "outputId": "e747b315-57dd-4fdb-b77b-616d83d5ed80"
      },
      "execution_count": null,
      "outputs": [
        {
          "output_type": "display_data",
          "data": {
            "text/html": [
              "<html>\n",
              "<head><meta charset=\"utf-8\" /></head>\n",
              "<body>\n",
              "    <div>            <script src=\"https://cdnjs.cloudflare.com/ajax/libs/mathjax/2.7.5/MathJax.js?config=TeX-AMS-MML_SVG\"></script><script type=\"text/javascript\">if (window.MathJax && window.MathJax.Hub && window.MathJax.Hub.Config) {window.MathJax.Hub.Config({SVG: {font: \"STIX-Web\"}});}</script>                <script type=\"text/javascript\">window.PlotlyConfig = {MathJaxConfig: 'local'};</script>\n",
              "        <script charset=\"utf-8\" src=\"https://cdn.plot.ly/plotly-2.24.1.min.js\"></script>                <div id=\"6c33238e-db19-4ff4-854e-c33c41a0cde2\" class=\"plotly-graph-div\" style=\"height:525px; width:100%;\"></div>            <script type=\"text/javascript\">                                    window.PLOTLYENV=window.PLOTLYENV || {};                                    if (document.getElementById(\"6c33238e-db19-4ff4-854e-c33c41a0cde2\")) {                    Plotly.newPlot(                        \"6c33238e-db19-4ff4-854e-c33c41a0cde2\",                        [{\"alignmentgroup\":\"True\",\"bingroup\":\"x\",\"hovertemplate\":\"Fare=%{x}\\u003cbr\\u003ecount=%{y}\\u003cextra\\u003e\\u003c\\u002fextra\\u003e\",\"legendgroup\":\"\",\"marker\":{\"color\":\"#636efa\",\"pattern\":{\"shape\":\"\"}},\"name\":\"\",\"offsetgroup\":\"\",\"orientation\":\"v\",\"showlegend\":false,\"x\":[7.25,71.2833,7.925,53.1,8.05,8.4583,51.8625,21.075,11.1333,30.0708,16.7,26.55,8.05,31.275,7.8542,16.0,29.125,13.0,18.0,7.225,26.0,13.0,8.0292,35.5,21.075,31.3875,7.225,263.0,7.8792,7.8958,27.7208,146.5208,7.75,10.5,82.1708,52.0,7.2292,8.05,18.0,11.2417,9.475,21.0,7.8958,41.5792,7.8792,8.05,15.5,7.75,21.6792,17.8,39.6875,7.8,76.7292,26.0,61.9792,35.5,10.5,7.2292,27.75,46.9,7.2292,80.0,83.475,27.9,27.7208,15.2458,10.5,8.1583,7.925,8.6625,10.5,46.9,73.5,14.4542,56.4958,7.65,7.8958,8.05,29.0,12.475,9.0,9.5,7.7875,47.1,10.5,15.85,34.375,8.05,263.0,8.05,8.05,7.8542,61.175,20.575,7.25,8.05,34.6542,63.3583,23.0,26.0,7.8958,7.8958,77.2875,8.6542,7.925,7.8958,7.65,7.775,7.8958,24.15,52.0,14.4542,8.05,9.825,14.4583,7.925,7.75,21.0,247.5208,31.275,73.5,8.05,30.0708,13.0,77.2875,11.2417,7.75,7.1417,22.3583,6.975,7.8958,7.05,14.5,26.0,13.0,15.0458,26.2833,53.1,9.2167,79.2,15.2458,7.75,15.85,6.75,11.5,36.75,7.7958,34.375,26.0,13.0,12.525,66.6,8.05,14.5,7.3125,61.3792,7.7333,8.05,8.6625,69.55,16.1,15.75,7.775,8.6625,39.6875,20.525,55.0,27.9,25.925,56.4958,33.5,29.125,11.1333,7.925,30.6958,7.8542,25.4667,28.7125,13.0,0.0,69.55,15.05,31.3875,39.0,22.025,50.0,15.5,26.55,15.5,7.8958,13.0,13.0,7.8542,26.0,27.7208,146.5208,7.75,8.4042,7.75,13.0,9.5,69.55,6.4958,7.225,8.05,10.4625,15.85,18.7875,7.75,31.0,7.05,21.0,7.25,13.0,7.75,113.275,7.925,27.0,76.2917,10.5,8.05,13.0,8.05,7.8958,90.0,9.35,10.5,7.25,13.0,25.4667,83.475,7.775,13.5,31.3875,10.5,7.55,26.0,26.25,10.5,12.275,14.4542,15.5,10.5,7.125,7.225,90.0,7.775,14.5,52.5542,26.0,7.25,10.4625,26.55,16.1,20.2125,15.2458,79.2,86.5,512.3292,26.0,7.75,31.3875,79.65,0.0,7.75,10.5,39.6875,7.775,153.4625,135.6333,31.0,0.0,19.5,29.7,7.75,77.9583,7.75,0.0,29.125,20.25,7.75,7.8542,9.5,8.05,26.0,8.6625,9.5,7.8958,13.0,7.75,78.85,91.0792,12.875,8.85,7.8958,27.7208,7.2292,151.55,30.5,247.5208,7.75,23.25,0.0,12.35,8.05,151.55,110.8833,108.9,24.0,56.9292,83.1583,262.375,26.0,7.8958,26.25,7.8542,26.0,14.0,164.8667,134.5,7.25,7.8958,12.35,29.0,69.55,135.6333,6.2375,13.0,20.525,57.9792,23.25,28.5,153.4625,18.0,133.65,7.8958,66.6,134.5,8.05,35.5,26.0,263.0,13.0,13.0,13.0,13.0,13.0,16.1,15.9,8.6625,9.225,35.0,7.2292,17.8,7.225,9.5,55.0,13.0,7.8792,7.8792,27.9,27.7208,14.4542,7.05,15.5,7.25,75.25,7.2292,7.75,69.3,55.4417,6.4958,8.05,135.6333,21.075,82.1708,7.25,211.5,4.0125,7.775,227.525,15.7417,7.925,52.0,7.8958,73.5,46.9,13.0,7.7292,12.0,120.0,7.7958,7.925,113.275,16.7,7.7958,7.8542,26.0,10.5,12.65,7.925,8.05,9.825,15.85,8.6625,21.0,7.75,18.75,7.775,25.4667,7.8958,6.8583,90.0,0.0,7.925,8.05,32.5,13.0,13.0,24.15,7.8958,7.7333,7.875,14.4,20.2125,7.25,26.0,26.0,7.75,8.05,26.55,16.1,26.0,7.125,55.9,120.0,34.375,18.75,263.0,10.5,26.25,9.5,7.775,13.0,8.1125,81.8583,19.5,26.55,19.2583,30.5,27.75,19.9667,27.75,89.1042,8.05,7.8958,26.55,51.8625,10.5,7.75,26.55,8.05,38.5,13.0,8.05,7.05,0.0,26.55,7.725,19.2583,7.25,8.6625,27.75,13.7917,9.8375,52.0,21.0,7.0458,7.5208,12.2875,46.9,0.0,8.05,9.5875,91.0792,25.4667,90.0,29.7,8.05,15.9,19.9667,7.25,30.5,49.5042,8.05,14.4583,78.2667,15.1,151.55,7.7958,8.6625,7.75,7.6292,9.5875,86.5,108.9,26.0,26.55,22.525,56.4958,7.75,8.05,26.2875,59.4,7.4958,34.0208,10.5,24.15,26.0,7.8958,93.5,7.8958,7.225,57.9792,7.2292,7.75,10.5,221.7792,7.925,11.5,26.0,7.2292,7.2292,22.3583,8.6625,26.25,26.55,106.425,14.5,49.5,71.0,31.275,31.275,26.0,106.425,26.0,26.0,13.8625,20.525,36.75,110.8833,26.0,7.8292,7.225,7.775,26.55,39.6,227.525,79.65,17.4,7.75,7.8958,13.5,8.05,8.05,24.15,7.8958,21.075,7.2292,7.8542,10.5,51.4792,26.3875,7.75,8.05,14.5,13.0,55.9,14.4583,7.925,30.0,110.8833,26.0,40.125,8.7125,79.65,15.0,79.2,8.05,8.05,7.125,78.2667,7.25,7.75,26.0,24.15,33.0,0.0,7.225,56.9292,27.0,7.8958,42.4,8.05,26.55,15.55,7.8958,30.5,41.5792,153.4625,31.275,7.05,15.5,7.75,8.05,65.0,14.4,16.1,39.0,10.5,14.4542,52.5542,15.7417,7.8542,16.1,32.3208,12.35,77.9583,7.8958,7.7333,30.0,7.0542,30.5,0.0,27.9,13.0,7.925,26.25,39.6875,16.1,7.8542,69.3,27.9,56.4958,19.2583,76.7292,7.8958,35.5,7.55,7.55,7.8958,23.0,8.4333,7.8292,6.75,73.5,7.8958,15.5,13.0,113.275,133.65,7.225,25.5875,7.4958,7.925,73.5,13.0,7.775,8.05,52.0,39.0,52.0,10.5,13.0,0.0,7.775,8.05,9.8417,46.9,512.3292,8.1375,76.7292,9.225,46.9,39.0,41.5792,39.6875,10.1708,7.7958,211.3375,57.0,13.4167,56.4958,7.225,26.55,13.5,8.05,7.7333,110.8833,7.65,227.525,26.2875,14.4542,7.7417,7.8542,26.0,13.5,26.2875,151.55,15.2458,49.5042,26.55,52.0,9.4833,13.0,7.65,227.525,10.5,15.5,7.775,33.0,7.0542,13.0,13.0,53.1,8.6625,21.0,7.7375,26.0,7.925,211.3375,18.7875,0.0,13.0,13.0,16.1,34.375,512.3292,7.8958,7.8958,30.0,78.85,262.375,16.1,7.925,71.0,20.25,13.0,53.1,7.75,23.0,12.475,9.5,7.8958,65.0,14.5,7.7958,11.5,8.05,86.5,14.5,7.125,7.2292,120.0,7.775,77.9583,39.6,7.75,24.15,8.3625,9.5,7.8542,10.5,7.225,23.0,7.75,7.75,12.475,7.7375,211.3375,7.2292,57.0,30.0,23.45,7.05,7.25,7.4958,29.125,20.575,79.2,7.75,26.0,69.55,30.6958,7.8958,13.0,25.9292,8.6833,7.2292,24.15,13.0,26.25,120.0,8.5167,6.975,7.775,0.0,7.775,13.0,53.1,7.8875,24.15,10.5,31.275,8.05,0.0,7.925,37.0042,6.45,27.9,93.5,8.6625,0.0,12.475,39.6875,6.95,56.4958,37.0042,7.75,80.0,14.4542,18.75,7.2292,7.8542,8.3,83.1583,8.6625,8.05,56.4958,29.7,7.925,10.5,31.0,6.4375,8.6625,7.55,69.55,7.8958,33.0,89.1042,31.275,7.775,15.2458,39.4,26.0,9.35,164.8667,26.55,19.2583,7.2292,14.1083,11.5,25.9292,69.55,13.0,13.0,13.8583,50.4958,9.5,11.1333,7.8958,52.5542,5.0,9.0,24.0,7.225,9.8458,7.8958,7.8958,83.1583,26.0,7.8958,10.5167,10.5,7.05,29.125,13.0,30.0,23.45,30.0,7.75],\"xaxis\":\"x\",\"yaxis\":\"y\",\"type\":\"histogram\"}],                        {\"template\":{\"data\":{\"histogram2dcontour\":[{\"type\":\"histogram2dcontour\",\"colorbar\":{\"outlinewidth\":0,\"ticks\":\"\"},\"colorscale\":[[0.0,\"#0d0887\"],[0.1111111111111111,\"#46039f\"],[0.2222222222222222,\"#7201a8\"],[0.3333333333333333,\"#9c179e\"],[0.4444444444444444,\"#bd3786\"],[0.5555555555555556,\"#d8576b\"],[0.6666666666666666,\"#ed7953\"],[0.7777777777777778,\"#fb9f3a\"],[0.8888888888888888,\"#fdca26\"],[1.0,\"#f0f921\"]]}],\"choropleth\":[{\"type\":\"choropleth\",\"colorbar\":{\"outlinewidth\":0,\"ticks\":\"\"}}],\"histogram2d\":[{\"type\":\"histogram2d\",\"colorbar\":{\"outlinewidth\":0,\"ticks\":\"\"},\"colorscale\":[[0.0,\"#0d0887\"],[0.1111111111111111,\"#46039f\"],[0.2222222222222222,\"#7201a8\"],[0.3333333333333333,\"#9c179e\"],[0.4444444444444444,\"#bd3786\"],[0.5555555555555556,\"#d8576b\"],[0.6666666666666666,\"#ed7953\"],[0.7777777777777778,\"#fb9f3a\"],[0.8888888888888888,\"#fdca26\"],[1.0,\"#f0f921\"]]}],\"heatmap\":[{\"type\":\"heatmap\",\"colorbar\":{\"outlinewidth\":0,\"ticks\":\"\"},\"colorscale\":[[0.0,\"#0d0887\"],[0.1111111111111111,\"#46039f\"],[0.2222222222222222,\"#7201a8\"],[0.3333333333333333,\"#9c179e\"],[0.4444444444444444,\"#bd3786\"],[0.5555555555555556,\"#d8576b\"],[0.6666666666666666,\"#ed7953\"],[0.7777777777777778,\"#fb9f3a\"],[0.8888888888888888,\"#fdca26\"],[1.0,\"#f0f921\"]]}],\"heatmapgl\":[{\"type\":\"heatmapgl\",\"colorbar\":{\"outlinewidth\":0,\"ticks\":\"\"},\"colorscale\":[[0.0,\"#0d0887\"],[0.1111111111111111,\"#46039f\"],[0.2222222222222222,\"#7201a8\"],[0.3333333333333333,\"#9c179e\"],[0.4444444444444444,\"#bd3786\"],[0.5555555555555556,\"#d8576b\"],[0.6666666666666666,\"#ed7953\"],[0.7777777777777778,\"#fb9f3a\"],[0.8888888888888888,\"#fdca26\"],[1.0,\"#f0f921\"]]}],\"contourcarpet\":[{\"type\":\"contourcarpet\",\"colorbar\":{\"outlinewidth\":0,\"ticks\":\"\"}}],\"contour\":[{\"type\":\"contour\",\"colorbar\":{\"outlinewidth\":0,\"ticks\":\"\"},\"colorscale\":[[0.0,\"#0d0887\"],[0.1111111111111111,\"#46039f\"],[0.2222222222222222,\"#7201a8\"],[0.3333333333333333,\"#9c179e\"],[0.4444444444444444,\"#bd3786\"],[0.5555555555555556,\"#d8576b\"],[0.6666666666666666,\"#ed7953\"],[0.7777777777777778,\"#fb9f3a\"],[0.8888888888888888,\"#fdca26\"],[1.0,\"#f0f921\"]]}],\"surface\":[{\"type\":\"surface\",\"colorbar\":{\"outlinewidth\":0,\"ticks\":\"\"},\"colorscale\":[[0.0,\"#0d0887\"],[0.1111111111111111,\"#46039f\"],[0.2222222222222222,\"#7201a8\"],[0.3333333333333333,\"#9c179e\"],[0.4444444444444444,\"#bd3786\"],[0.5555555555555556,\"#d8576b\"],[0.6666666666666666,\"#ed7953\"],[0.7777777777777778,\"#fb9f3a\"],[0.8888888888888888,\"#fdca26\"],[1.0,\"#f0f921\"]]}],\"mesh3d\":[{\"type\":\"mesh3d\",\"colorbar\":{\"outlinewidth\":0,\"ticks\":\"\"}}],\"scatter\":[{\"fillpattern\":{\"fillmode\":\"overlay\",\"size\":10,\"solidity\":0.2},\"type\":\"scatter\"}],\"parcoords\":[{\"type\":\"parcoords\",\"line\":{\"colorbar\":{\"outlinewidth\":0,\"ticks\":\"\"}}}],\"scatterpolargl\":[{\"type\":\"scatterpolargl\",\"marker\":{\"colorbar\":{\"outlinewidth\":0,\"ticks\":\"\"}}}],\"bar\":[{\"error_x\":{\"color\":\"#2a3f5f\"},\"error_y\":{\"color\":\"#2a3f5f\"},\"marker\":{\"line\":{\"color\":\"#E5ECF6\",\"width\":0.5},\"pattern\":{\"fillmode\":\"overlay\",\"size\":10,\"solidity\":0.2}},\"type\":\"bar\"}],\"scattergeo\":[{\"type\":\"scattergeo\",\"marker\":{\"colorbar\":{\"outlinewidth\":0,\"ticks\":\"\"}}}],\"scatterpolar\":[{\"type\":\"scatterpolar\",\"marker\":{\"colorbar\":{\"outlinewidth\":0,\"ticks\":\"\"}}}],\"histogram\":[{\"marker\":{\"pattern\":{\"fillmode\":\"overlay\",\"size\":10,\"solidity\":0.2}},\"type\":\"histogram\"}],\"scattergl\":[{\"type\":\"scattergl\",\"marker\":{\"colorbar\":{\"outlinewidth\":0,\"ticks\":\"\"}}}],\"scatter3d\":[{\"type\":\"scatter3d\",\"line\":{\"colorbar\":{\"outlinewidth\":0,\"ticks\":\"\"}},\"marker\":{\"colorbar\":{\"outlinewidth\":0,\"ticks\":\"\"}}}],\"scattermapbox\":[{\"type\":\"scattermapbox\",\"marker\":{\"colorbar\":{\"outlinewidth\":0,\"ticks\":\"\"}}}],\"scatterternary\":[{\"type\":\"scatterternary\",\"marker\":{\"colorbar\":{\"outlinewidth\":0,\"ticks\":\"\"}}}],\"scattercarpet\":[{\"type\":\"scattercarpet\",\"marker\":{\"colorbar\":{\"outlinewidth\":0,\"ticks\":\"\"}}}],\"carpet\":[{\"aaxis\":{\"endlinecolor\":\"#2a3f5f\",\"gridcolor\":\"white\",\"linecolor\":\"white\",\"minorgridcolor\":\"white\",\"startlinecolor\":\"#2a3f5f\"},\"baxis\":{\"endlinecolor\":\"#2a3f5f\",\"gridcolor\":\"white\",\"linecolor\":\"white\",\"minorgridcolor\":\"white\",\"startlinecolor\":\"#2a3f5f\"},\"type\":\"carpet\"}],\"table\":[{\"cells\":{\"fill\":{\"color\":\"#EBF0F8\"},\"line\":{\"color\":\"white\"}},\"header\":{\"fill\":{\"color\":\"#C8D4E3\"},\"line\":{\"color\":\"white\"}},\"type\":\"table\"}],\"barpolar\":[{\"marker\":{\"line\":{\"color\":\"#E5ECF6\",\"width\":0.5},\"pattern\":{\"fillmode\":\"overlay\",\"size\":10,\"solidity\":0.2}},\"type\":\"barpolar\"}],\"pie\":[{\"automargin\":true,\"type\":\"pie\"}]},\"layout\":{\"autotypenumbers\":\"strict\",\"colorway\":[\"#636efa\",\"#EF553B\",\"#00cc96\",\"#ab63fa\",\"#FFA15A\",\"#19d3f3\",\"#FF6692\",\"#B6E880\",\"#FF97FF\",\"#FECB52\"],\"font\":{\"color\":\"#2a3f5f\"},\"hovermode\":\"closest\",\"hoverlabel\":{\"align\":\"left\"},\"paper_bgcolor\":\"white\",\"plot_bgcolor\":\"#E5ECF6\",\"polar\":{\"bgcolor\":\"#E5ECF6\",\"angularaxis\":{\"gridcolor\":\"white\",\"linecolor\":\"white\",\"ticks\":\"\"},\"radialaxis\":{\"gridcolor\":\"white\",\"linecolor\":\"white\",\"ticks\":\"\"}},\"ternary\":{\"bgcolor\":\"#E5ECF6\",\"aaxis\":{\"gridcolor\":\"white\",\"linecolor\":\"white\",\"ticks\":\"\"},\"baxis\":{\"gridcolor\":\"white\",\"linecolor\":\"white\",\"ticks\":\"\"},\"caxis\":{\"gridcolor\":\"white\",\"linecolor\":\"white\",\"ticks\":\"\"}},\"coloraxis\":{\"colorbar\":{\"outlinewidth\":0,\"ticks\":\"\"}},\"colorscale\":{\"sequential\":[[0.0,\"#0d0887\"],[0.1111111111111111,\"#46039f\"],[0.2222222222222222,\"#7201a8\"],[0.3333333333333333,\"#9c179e\"],[0.4444444444444444,\"#bd3786\"],[0.5555555555555556,\"#d8576b\"],[0.6666666666666666,\"#ed7953\"],[0.7777777777777778,\"#fb9f3a\"],[0.8888888888888888,\"#fdca26\"],[1.0,\"#f0f921\"]],\"sequentialminus\":[[0.0,\"#0d0887\"],[0.1111111111111111,\"#46039f\"],[0.2222222222222222,\"#7201a8\"],[0.3333333333333333,\"#9c179e\"],[0.4444444444444444,\"#bd3786\"],[0.5555555555555556,\"#d8576b\"],[0.6666666666666666,\"#ed7953\"],[0.7777777777777778,\"#fb9f3a\"],[0.8888888888888888,\"#fdca26\"],[1.0,\"#f0f921\"]],\"diverging\":[[0,\"#8e0152\"],[0.1,\"#c51b7d\"],[0.2,\"#de77ae\"],[0.3,\"#f1b6da\"],[0.4,\"#fde0ef\"],[0.5,\"#f7f7f7\"],[0.6,\"#e6f5d0\"],[0.7,\"#b8e186\"],[0.8,\"#7fbc41\"],[0.9,\"#4d9221\"],[1,\"#276419\"]]},\"xaxis\":{\"gridcolor\":\"white\",\"linecolor\":\"white\",\"ticks\":\"\",\"title\":{\"standoff\":15},\"zerolinecolor\":\"white\",\"automargin\":true,\"zerolinewidth\":2},\"yaxis\":{\"gridcolor\":\"white\",\"linecolor\":\"white\",\"ticks\":\"\",\"title\":{\"standoff\":15},\"zerolinecolor\":\"white\",\"automargin\":true,\"zerolinewidth\":2},\"scene\":{\"xaxis\":{\"backgroundcolor\":\"#E5ECF6\",\"gridcolor\":\"white\",\"linecolor\":\"white\",\"showbackground\":true,\"ticks\":\"\",\"zerolinecolor\":\"white\",\"gridwidth\":2},\"yaxis\":{\"backgroundcolor\":\"#E5ECF6\",\"gridcolor\":\"white\",\"linecolor\":\"white\",\"showbackground\":true,\"ticks\":\"\",\"zerolinecolor\":\"white\",\"gridwidth\":2},\"zaxis\":{\"backgroundcolor\":\"#E5ECF6\",\"gridcolor\":\"white\",\"linecolor\":\"white\",\"showbackground\":true,\"ticks\":\"\",\"zerolinecolor\":\"white\",\"gridwidth\":2}},\"shapedefaults\":{\"line\":{\"color\":\"#2a3f5f\"}},\"annotationdefaults\":{\"arrowcolor\":\"#2a3f5f\",\"arrowhead\":0,\"arrowwidth\":1},\"geo\":{\"bgcolor\":\"white\",\"landcolor\":\"#E5ECF6\",\"subunitcolor\":\"white\",\"showland\":true,\"showlakes\":true,\"lakecolor\":\"white\"},\"title\":{\"x\":0.05},\"mapbox\":{\"style\":\"light\"}}},\"xaxis\":{\"anchor\":\"y\",\"domain\":[0.0,1.0],\"title\":{\"text\":\"Fare\"}},\"yaxis\":{\"anchor\":\"x\",\"domain\":[0.0,1.0],\"title\":{\"text\":\"count\"}},\"legend\":{\"tracegroupgap\":0},\"margin\":{\"t\":60},\"barmode\":\"relative\"},                        {\"responsive\": true}                    ).then(function(){\n",
              "                            \n",
              "var gd = document.getElementById('6c33238e-db19-4ff4-854e-c33c41a0cde2');\n",
              "var x = new MutationObserver(function (mutations, observer) {{\n",
              "        var display = window.getComputedStyle(gd).display;\n",
              "        if (!display || display === 'none') {{\n",
              "            console.log([gd, 'removed!']);\n",
              "            Plotly.purge(gd);\n",
              "            observer.disconnect();\n",
              "        }}\n",
              "}});\n",
              "\n",
              "// Listen for the removal of the full notebook cells\n",
              "var notebookContainer = gd.closest('#notebook-container');\n",
              "if (notebookContainer) {{\n",
              "    x.observe(notebookContainer, {childList: true});\n",
              "}}\n",
              "\n",
              "// Listen for the clearing of the current output cell\n",
              "var outputEl = gd.closest('.output');\n",
              "if (outputEl) {{\n",
              "    x.observe(outputEl, {childList: true});\n",
              "}}\n",
              "\n",
              "                        })                };                            </script>        </div>\n",
              "</body>\n",
              "</html>"
            ]
          },
          "metadata": {}
        }
      ]
    },
    {
      "cell_type": "code",
      "source": [
        "df['Fare'].skew()"
      ],
      "metadata": {
        "colab": {
          "base_uri": "https://localhost:8080/"
        },
        "id": "aladLWLsDInQ",
        "outputId": "cbf09141-26d6-424d-cb78-16aef70e2447"
      },
      "execution_count": null,
      "outputs": [
        {
          "output_type": "execute_result",
          "data": {
            "text/plain": [
              "4.787316519674893"
            ]
          },
          "metadata": {},
          "execution_count": 12
        }
      ]
    },
    {
      "cell_type": "code",
      "source": [
        "sns.kdeplot(df,x='Fare')"
      ],
      "metadata": {
        "colab": {
          "base_uri": "https://localhost:8080/",
          "height": 467
        },
        "id": "eWOtZ8elDThn",
        "outputId": "f37eea7a-416b-4a86-fc78-c630ea4546f7"
      },
      "execution_count": null,
      "outputs": [
        {
          "output_type": "execute_result",
          "data": {
            "text/plain": [
              "<Axes: xlabel='Fare', ylabel='Density'>"
            ]
          },
          "metadata": {},
          "execution_count": 13
        },
        {
          "output_type": "display_data",
          "data": {
            "text/plain": [
              "<Figure size 640x480 with 1 Axes>"
            ],
            "image/png": "[encoded data removed]"
          },
          "metadata": {}
        }
      ]
    },
    {
      "cell_type": "code",
      "source": [
        "sns.boxplot(df,y='Fare')"
      ],
      "metadata": {
        "colab": {
          "base_uri": "https://localhost:8080/",
          "height": 429
        },
        "id": "lk8wbF0lGS8d",
        "outputId": "6fa6e6f5-eced-40d5-8783-ff9c91c09f79"
      },
      "execution_count": null,
      "outputs": [
        {
          "output_type": "execute_result",
          "data": {
            "text/plain": [
              "<Axes: ylabel='Fare'>"
            ]
          },
          "metadata": {},
          "execution_count": 14
        },
        {
          "output_type": "display_data",
          "data": {
            "text/plain": [
              "<Figure size 640x480 with 1 Axes>"
            ],
            "image/png": "[encoded data removed]"
          },
          "metadata": {}
        }
      ]
    },
    {
      "cell_type": "markdown",
      "source": [
        "#### **Conclusion**\n",
        "\n",
        "*   15 passenger were travelling for free without any siblings or parents . may be staff members\n",
        "*   most of the people(abouth 80%)  were travelling with low Fare_value(<50) only  few were travelling with lagrge Fare_value\n",
        "*   Fare is highly positive skewed\n",
        "*   there is no missing values\n",
        "*   maximum fare_value was 512.329200\n",
        "\n"
      ],
      "metadata": {
        "id": "6PFDVB0_w5Q4"
      }
    },
    {
      "cell_type": "markdown",
      "source": [
        "### **Age**"
      ],
      "metadata": {
        "id": "-SrJwj3_iylS"
      }
    },
    {
      "cell_type": "code",
      "source": [
        "df['Age'].describe()"
      ],
      "metadata": {
        "colab": {
          "base_uri": "https://localhost:8080/"
        },
        "id": "FPsyVc1gi_0S",
        "outputId": "aadfbf65-e84a-4571-8eac-caaa4bb554b3"
      },
      "execution_count": null,
      "outputs": [
        {
          "output_type": "execute_result",
          "data": {
            "text/plain": [
              "count    714.000000\n",
              "mean      29.699118\n",
              "std       14.526497\n",
              "min        0.420000\n",
              "25%       20.125000\n",
              "50%       28.000000\n",
              "75%       38.000000\n",
              "max       80.000000\n",
              "Name: Age, dtype: float64"
            ]
          },
          "metadata": {},
          "execution_count": 15
        }
      ]
    },
    {
      "cell_type": "code",
      "source": [
        "df['Age'].isnull().sum()/len(df['Age'])"
      ],
      "metadata": {
        "colab": {
          "base_uri": "https://localhost:8080/"
        },
        "id": "i38jDtODjXqR",
        "outputId": "1750e909-1351-41c9-ab96-010eb962d877"
      },
      "execution_count": null,
      "outputs": [
        {
          "output_type": "execute_result",
          "data": {
            "text/plain": [
              "0.19865319865319866"
            ]
          },
          "metadata": {},
          "execution_count": 16
        }
      ]
    },
    {
      "cell_type": "code",
      "source": [
        "len(df[df['Age']<10])"
      ],
      "metadata": {
        "colab": {
          "base_uri": "https://localhost:8080/"
        },
        "id": "i-7tI1u70mAj",
        "outputId": "b4dc1f11-a2c1-4c3c-d229-679caaf40043"
      },
      "execution_count": null,
      "outputs": [
        {
          "output_type": "execute_result",
          "data": {
            "text/plain": [
              "62"
            ]
          },
          "metadata": {},
          "execution_count": 17
        }
      ]
    },
    {
      "cell_type": "code",
      "source": [
        "px.histogram(df, x=\"Age\")\n"
      ],
      "metadata": {
        "colab": {
          "base_uri": "https://localhost:8080/",
          "height": 542
        },
        "id": "OGwIU9LrkMID",
        "outputId": "20cba951-ffc6-4a47-d52c-00de7bf614db"
      },
      "execution_count": null,
      "outputs": [
        {
          "output_type": "display_data",
          "data": {
            "text/html": [
              "<html>\n",
              "<head><meta charset=\"utf-8\" /></head>\n",
              "<body>\n",
              "    <div>            <script src=\"https://cdnjs.cloudflare.com/ajax/libs/mathjax/2.7.5/MathJax.js?config=TeX-AMS-MML_SVG\"></script><script type=\"text/javascript\">if (window.MathJax && window.MathJax.Hub && window.MathJax.Hub.Config) {window.MathJax.Hub.Config({SVG: {font: \"STIX-Web\"}});}</script>                <script type=\"text/javascript\">window.PlotlyConfig = {MathJaxConfig: 'local'};</script>\n",
              "        <script charset=\"utf-8\" src=\"https://cdn.plot.ly/plotly-2.24.1.min.js\"></script>                <div id=\"a11ee0c4-079a-48ee-b216-691f01de51ec\" class=\"plotly-graph-div\" style=\"height:525px; width:100%;\"></div>            <script type=\"text/javascript\">                                    window.PLOTLYENV=window.PLOTLYENV || {};                                    if (document.getElementById(\"a11ee0c4-079a-48ee-b216-691f01de51ec\")) {                    Plotly.newPlot(                        \"a11ee0c4-079a-48ee-b216-691f01de51ec\",                        [{\"alignmentgroup\":\"True\",\"bingroup\":\"x\",\"hovertemplate\":\"Age=%{x}\\u003cbr\\u003ecount=%{y}\\u003cextra\\u003e\\u003c\\u002fextra\\u003e\",\"legendgroup\":\"\",\"marker\":{\"color\":\"#636efa\",\"pattern\":{\"shape\":\"\"}},\"name\":\"\",\"offsetgroup\":\"\",\"orientation\":\"v\",\"showlegend\":false,\"x\":[22.0,38.0,26.0,35.0,35.0,null,54.0,2.0,27.0,14.0,4.0,58.0,20.0,39.0,14.0,55.0,2.0,null,31.0,null,35.0,34.0,15.0,28.0,8.0,38.0,null,19.0,null,null,40.0,null,null,66.0,28.0,42.0,null,21.0,18.0,14.0,40.0,27.0,null,3.0,19.0,null,null,null,null,18.0,7.0,21.0,49.0,29.0,65.0,null,21.0,28.5,5.0,11.0,22.0,38.0,45.0,4.0,null,null,29.0,19.0,17.0,26.0,32.0,16.0,21.0,26.0,32.0,25.0,null,null,0.83,30.0,22.0,29.0,null,28.0,17.0,33.0,16.0,null,23.0,24.0,29.0,20.0,46.0,26.0,59.0,null,71.0,23.0,34.0,34.0,28.0,null,21.0,33.0,37.0,28.0,21.0,null,38.0,null,47.0,14.5,22.0,20.0,17.0,21.0,70.5,29.0,24.0,2.0,21.0,null,32.5,32.5,54.0,12.0,null,24.0,null,45.0,33.0,20.0,47.0,29.0,25.0,23.0,19.0,37.0,16.0,24.0,null,22.0,24.0,19.0,18.0,19.0,27.0,9.0,36.5,42.0,51.0,22.0,55.5,40.5,null,51.0,16.0,30.0,null,null,44.0,40.0,26.0,17.0,1.0,9.0,null,45.0,null,28.0,61.0,4.0,1.0,21.0,56.0,18.0,null,50.0,30.0,36.0,null,null,9.0,1.0,4.0,null,null,45.0,40.0,36.0,32.0,19.0,19.0,3.0,44.0,58.0,null,42.0,null,24.0,28.0,null,34.0,45.5,18.0,2.0,32.0,26.0,16.0,40.0,24.0,35.0,22.0,30.0,null,31.0,27.0,42.0,32.0,30.0,16.0,27.0,51.0,null,38.0,22.0,19.0,20.5,18.0,null,35.0,29.0,59.0,5.0,24.0,null,44.0,8.0,19.0,33.0,null,null,29.0,22.0,30.0,44.0,25.0,24.0,37.0,54.0,null,29.0,62.0,30.0,41.0,29.0,null,30.0,35.0,50.0,null,3.0,52.0,40.0,null,36.0,16.0,25.0,58.0,35.0,null,25.0,41.0,37.0,null,63.0,45.0,null,7.0,35.0,65.0,28.0,16.0,19.0,null,33.0,30.0,22.0,42.0,22.0,26.0,19.0,36.0,24.0,24.0,null,23.5,2.0,null,50.0,null,null,19.0,null,null,0.92,null,17.0,30.0,30.0,24.0,18.0,26.0,28.0,43.0,26.0,24.0,54.0,31.0,40.0,22.0,27.0,30.0,22.0,null,36.0,61.0,36.0,31.0,16.0,null,45.5,38.0,16.0,null,null,29.0,41.0,45.0,45.0,2.0,24.0,28.0,25.0,36.0,24.0,40.0,null,3.0,42.0,23.0,null,15.0,25.0,null,28.0,22.0,38.0,null,null,40.0,29.0,45.0,35.0,null,30.0,60.0,null,null,24.0,25.0,18.0,19.0,22.0,3.0,null,22.0,27.0,20.0,19.0,42.0,1.0,32.0,35.0,null,18.0,1.0,36.0,null,17.0,36.0,21.0,28.0,23.0,24.0,22.0,31.0,46.0,23.0,28.0,39.0,26.0,21.0,28.0,20.0,34.0,51.0,3.0,21.0,null,null,null,33.0,null,44.0,null,34.0,18.0,30.0,10.0,null,21.0,29.0,28.0,18.0,null,28.0,19.0,null,32.0,28.0,null,42.0,17.0,50.0,14.0,21.0,24.0,64.0,31.0,45.0,20.0,25.0,28.0,null,4.0,13.0,34.0,5.0,52.0,36.0,null,30.0,49.0,null,29.0,65.0,null,50.0,null,48.0,34.0,47.0,48.0,null,38.0,null,56.0,null,0.75,null,38.0,33.0,23.0,22.0,null,34.0,29.0,22.0,2.0,9.0,null,50.0,63.0,25.0,null,35.0,58.0,30.0,9.0,null,21.0,55.0,71.0,21.0,null,54.0,null,25.0,24.0,17.0,21.0,null,37.0,16.0,18.0,33.0,null,28.0,26.0,29.0,null,36.0,54.0,24.0,47.0,34.0,null,36.0,32.0,30.0,22.0,null,44.0,null,40.5,50.0,null,39.0,23.0,2.0,null,17.0,null,30.0,7.0,45.0,30.0,null,22.0,36.0,9.0,11.0,32.0,50.0,64.0,19.0,null,33.0,8.0,17.0,27.0,null,22.0,22.0,62.0,48.0,null,39.0,36.0,null,40.0,28.0,null,null,24.0,19.0,29.0,null,32.0,62.0,53.0,36.0,null,16.0,19.0,34.0,39.0,null,32.0,25.0,39.0,54.0,36.0,null,18.0,47.0,60.0,22.0,null,35.0,52.0,47.0,null,37.0,36.0,null,49.0,null,49.0,24.0,null,null,44.0,35.0,36.0,30.0,27.0,22.0,40.0,39.0,null,null,null,35.0,24.0,34.0,26.0,4.0,26.0,27.0,42.0,20.0,21.0,21.0,61.0,57.0,21.0,26.0,null,80.0,51.0,32.0,null,9.0,28.0,32.0,31.0,41.0,null,20.0,24.0,2.0,null,0.75,48.0,19.0,56.0,null,23.0,null,18.0,21.0,null,18.0,24.0,null,32.0,23.0,58.0,50.0,40.0,47.0,36.0,20.0,32.0,25.0,null,43.0,null,40.0,31.0,70.0,31.0,null,18.0,24.5,18.0,43.0,36.0,null,27.0,20.0,14.0,60.0,25.0,14.0,19.0,18.0,15.0,31.0,4.0,null,25.0,60.0,52.0,44.0,null,49.0,42.0,18.0,35.0,18.0,25.0,26.0,39.0,45.0,42.0,22.0,null,24.0,null,48.0,29.0,52.0,19.0,38.0,27.0,null,33.0,6.0,17.0,34.0,50.0,27.0,20.0,30.0,null,25.0,25.0,29.0,11.0,null,23.0,23.0,28.5,48.0,35.0,null,null,null,36.0,21.0,24.0,31.0,70.0,16.0,30.0,19.0,31.0,4.0,6.0,33.0,23.0,48.0,0.67,28.0,18.0,34.0,33.0,null,41.0,20.0,36.0,16.0,51.0,null,30.5,null,32.0,24.0,48.0,57.0,null,54.0,18.0,null,5.0,null,43.0,13.0,17.0,29.0,null,25.0,25.0,18.0,8.0,1.0,46.0,null,16.0,null,null,25.0,39.0,49.0,31.0,30.0,30.0,34.0,31.0,11.0,0.42,27.0,31.0,39.0,18.0,39.0,33.0,26.0,39.0,35.0,6.0,30.5,null,23.0,31.0,43.0,10.0,52.0,27.0,38.0,27.0,2.0,null,null,1.0,null,62.0,15.0,0.83,null,23.0,18.0,39.0,21.0,null,32.0,null,20.0,16.0,30.0,34.5,17.0,42.0,null,35.0,28.0,null,4.0,74.0,9.0,16.0,44.0,18.0,45.0,51.0,24.0,null,41.0,21.0,48.0,null,24.0,42.0,27.0,31.0,null,4.0,26.0,47.0,33.0,47.0,28.0,15.0,20.0,19.0,null,56.0,25.0,33.0,22.0,28.0,25.0,39.0,27.0,19.0,null,26.0,32.0],\"xaxis\":\"x\",\"yaxis\":\"y\",\"type\":\"histogram\"}],                        {\"template\":{\"data\":{\"histogram2dcontour\":[{\"type\":\"histogram2dcontour\",\"colorbar\":{\"outlinewidth\":0,\"ticks\":\"\"},\"colorscale\":[[0.0,\"#0d0887\"],[0.1111111111111111,\"#46039f\"],[0.2222222222222222,\"#7201a8\"],[0.3333333333333333,\"#9c179e\"],[0.4444444444444444,\"#bd3786\"],[0.5555555555555556,\"#d8576b\"],[0.6666666666666666,\"#ed7953\"],[0.7777777777777778,\"#fb9f3a\"],[0.8888888888888888,\"#fdca26\"],[1.0,\"#f0f921\"]]}],\"choropleth\":[{\"type\":\"choropleth\",\"colorbar\":{\"outlinewidth\":0,\"ticks\":\"\"}}],\"histogram2d\":[{\"type\":\"histogram2d\",\"colorbar\":{\"outlinewidth\":0,\"ticks\":\"\"},\"colorscale\":[[0.0,\"#0d0887\"],[0.1111111111111111,\"#46039f\"],[0.2222222222222222,\"#7201a8\"],[0.3333333333333333,\"#9c179e\"],[0.4444444444444444,\"#bd3786\"],[0.5555555555555556,\"#d8576b\"],[0.6666666666666666,\"#ed7953\"],[0.7777777777777778,\"#fb9f3a\"],[0.8888888888888888,\"#fdca26\"],[1.0,\"#f0f921\"]]}],\"heatmap\":[{\"type\":\"heatmap\",\"colorbar\":{\"outlinewidth\":0,\"ticks\":\"\"},\"colorscale\":[[0.0,\"#0d0887\"],[0.1111111111111111,\"#46039f\"],[0.2222222222222222,\"#7201a8\"],[0.3333333333333333,\"#9c179e\"],[0.4444444444444444,\"#bd3786\"],[0.5555555555555556,\"#d8576b\"],[0.6666666666666666,\"#ed7953\"],[0.7777777777777778,\"#fb9f3a\"],[0.8888888888888888,\"#fdca26\"],[1.0,\"#f0f921\"]]}],\"heatmapgl\":[{\"type\":\"heatmapgl\",\"colorbar\":{\"outlinewidth\":0,\"ticks\":\"\"},\"colorscale\":[[0.0,\"#0d0887\"],[0.1111111111111111,\"#46039f\"],[0.2222222222222222,\"#7201a8\"],[0.3333333333333333,\"#9c179e\"],[0.4444444444444444,\"#bd3786\"],[0.5555555555555556,\"#d8576b\"],[0.6666666666666666,\"#ed7953\"],[0.7777777777777778,\"#fb9f3a\"],[0.8888888888888888,\"#fdca26\"],[1.0,\"#f0f921\"]]}],\"contourcarpet\":[{\"type\":\"contourcarpet\",\"colorbar\":{\"outlinewidth\":0,\"ticks\":\"\"}}],\"contour\":[{\"type\":\"contour\",\"colorbar\":{\"outlinewidth\":0,\"ticks\":\"\"},\"colorscale\":[[0.0,\"#0d0887\"],[0.1111111111111111,\"#46039f\"],[0.2222222222222222,\"#7201a8\"],[0.3333333333333333,\"#9c179e\"],[0.4444444444444444,\"#bd3786\"],[0.5555555555555556,\"#d8576b\"],[0.6666666666666666,\"#ed7953\"],[0.7777777777777778,\"#fb9f3a\"],[0.8888888888888888,\"#fdca26\"],[1.0,\"#f0f921\"]]}],\"surface\":[{\"type\":\"surface\",\"colorbar\":{\"outlinewidth\":0,\"ticks\":\"\"},\"colorscale\":[[0.0,\"#0d0887\"],[0.1111111111111111,\"#46039f\"],[0.2222222222222222,\"#7201a8\"],[0.3333333333333333,\"#9c179e\"],[0.4444444444444444,\"#bd3786\"],[0.5555555555555556,\"#d8576b\"],[0.6666666666666666,\"#ed7953\"],[0.7777777777777778,\"#fb9f3a\"],[0.8888888888888888,\"#fdca26\"],[1.0,\"#f0f921\"]]}],\"mesh3d\":[{\"type\":\"mesh3d\",\"colorbar\":{\"outlinewidth\":0,\"ticks\":\"\"}}],\"scatter\":[{\"fillpattern\":{\"fillmode\":\"overlay\",\"size\":10,\"solidity\":0.2},\"type\":\"scatter\"}],\"parcoords\":[{\"type\":\"parcoords\",\"line\":{\"colorbar\":{\"outlinewidth\":0,\"ticks\":\"\"}}}],\"scatterpolargl\":[{\"type\":\"scatterpolargl\",\"marker\":{\"colorbar\":{\"outlinewidth\":0,\"ticks\":\"\"}}}],\"bar\":[{\"error_x\":{\"color\":\"#2a3f5f\"},\"error_y\":{\"color\":\"#2a3f5f\"},\"marker\":{\"line\":{\"color\":\"#E5ECF6\",\"width\":0.5},\"pattern\":{\"fillmode\":\"overlay\",\"size\":10,\"solidity\":0.2}},\"type\":\"bar\"}],\"scattergeo\":[{\"type\":\"scattergeo\",\"marker\":{\"colorbar\":{\"outlinewidth\":0,\"ticks\":\"\"}}}],\"scatterpolar\":[{\"type\":\"scatterpolar\",\"marker\":{\"colorbar\":{\"outlinewidth\":0,\"ticks\":\"\"}}}],\"histogram\":[{\"marker\":{\"pattern\":{\"fillmode\":\"overlay\",\"size\":10,\"solidity\":0.2}},\"type\":\"histogram\"}],\"scattergl\":[{\"type\":\"scattergl\",\"marker\":{\"colorbar\":{\"outlinewidth\":0,\"ticks\":\"\"}}}],\"scatter3d\":[{\"type\":\"scatter3d\",\"line\":{\"colorbar\":{\"outlinewidth\":0,\"ticks\":\"\"}},\"marker\":{\"colorbar\":{\"outlinewidth\":0,\"ticks\":\"\"}}}],\"scattermapbox\":[{\"type\":\"scattermapbox\",\"marker\":{\"colorbar\":{\"outlinewidth\":0,\"ticks\":\"\"}}}],\"scatterternary\":[{\"type\":\"scatterternary\",\"marker\":{\"colorbar\":{\"outlinewidth\":0,\"ticks\":\"\"}}}],\"scattercarpet\":[{\"type\":\"scattercarpet\",\"marker\":{\"colorbar\":{\"outlinewidth\":0,\"ticks\":\"\"}}}],\"carpet\":[{\"aaxis\":{\"endlinecolor\":\"#2a3f5f\",\"gridcolor\":\"white\",\"linecolor\":\"white\",\"minorgridcolor\":\"white\",\"startlinecolor\":\"#2a3f5f\"},\"baxis\":{\"endlinecolor\":\"#2a3f5f\",\"gridcolor\":\"white\",\"linecolor\":\"white\",\"minorgridcolor\":\"white\",\"startlinecolor\":\"#2a3f5f\"},\"type\":\"carpet\"}],\"table\":[{\"cells\":{\"fill\":{\"color\":\"#EBF0F8\"},\"line\":{\"color\":\"white\"}},\"header\":{\"fill\":{\"color\":\"#C8D4E3\"},\"line\":{\"color\":\"white\"}},\"type\":\"table\"}],\"barpolar\":[{\"marker\":{\"line\":{\"color\":\"#E5ECF6\",\"width\":0.5},\"pattern\":{\"fillmode\":\"overlay\",\"size\":10,\"solidity\":0.2}},\"type\":\"barpolar\"}],\"pie\":[{\"automargin\":true,\"type\":\"pie\"}]},\"layout\":{\"autotypenumbers\":\"strict\",\"colorway\":[\"#636efa\",\"#EF553B\",\"#00cc96\",\"#ab63fa\",\"#FFA15A\",\"#19d3f3\",\"#FF6692\",\"#B6E880\",\"#FF97FF\",\"#FECB52\"],\"font\":{\"color\":\"#2a3f5f\"},\"hovermode\":\"closest\",\"hoverlabel\":{\"align\":\"left\"},\"paper_bgcolor\":\"white\",\"plot_bgcolor\":\"#E5ECF6\",\"polar\":{\"bgcolor\":\"#E5ECF6\",\"angularaxis\":{\"gridcolor\":\"white\",\"linecolor\":\"white\",\"ticks\":\"\"},\"radialaxis\":{\"gridcolor\":\"white\",\"linecolor\":\"white\",\"ticks\":\"\"}},\"ternary\":{\"bgcolor\":\"#E5ECF6\",\"aaxis\":{\"gridcolor\":\"white\",\"linecolor\":\"white\",\"ticks\":\"\"},\"baxis\":{\"gridcolor\":\"white\",\"linecolor\":\"white\",\"ticks\":\"\"},\"caxis\":{\"gridcolor\":\"white\",\"linecolor\":\"white\",\"ticks\":\"\"}},\"coloraxis\":{\"colorbar\":{\"outlinewidth\":0,\"ticks\":\"\"}},\"colorscale\":{\"sequential\":[[0.0,\"#0d0887\"],[0.1111111111111111,\"#46039f\"],[0.2222222222222222,\"#7201a8\"],[0.3333333333333333,\"#9c179e\"],[0.4444444444444444,\"#bd3786\"],[0.5555555555555556,\"#d8576b\"],[0.6666666666666666,\"#ed7953\"],[0.7777777777777778,\"#fb9f3a\"],[0.8888888888888888,\"#fdca26\"],[1.0,\"#f0f921\"]],\"sequentialminus\":[[0.0,\"#0d0887\"],[0.1111111111111111,\"#46039f\"],[0.2222222222222222,\"#7201a8\"],[0.3333333333333333,\"#9c179e\"],[0.4444444444444444,\"#bd3786\"],[0.5555555555555556,\"#d8576b\"],[0.6666666666666666,\"#ed7953\"],[0.7777777777777778,\"#fb9f3a\"],[0.8888888888888888,\"#fdca26\"],[1.0,\"#f0f921\"]],\"diverging\":[[0,\"#8e0152\"],[0.1,\"#c51b7d\"],[0.2,\"#de77ae\"],[0.3,\"#f1b6da\"],[0.4,\"#fde0ef\"],[0.5,\"#f7f7f7\"],[0.6,\"#e6f5d0\"],[0.7,\"#b8e186\"],[0.8,\"#7fbc41\"],[0.9,\"#4d9221\"],[1,\"#276419\"]]},\"xaxis\":{\"gridcolor\":\"white\",\"linecolor\":\"white\",\"ticks\":\"\",\"title\":{\"standoff\":15},\"zerolinecolor\":\"white\",\"automargin\":true,\"zerolinewidth\":2},\"yaxis\":{\"gridcolor\":\"white\",\"linecolor\":\"white\",\"ticks\":\"\",\"title\":{\"standoff\":15},\"zerolinecolor\":\"white\",\"automargin\":true,\"zerolinewidth\":2},\"scene\":{\"xaxis\":{\"backgroundcolor\":\"#E5ECF6\",\"gridcolor\":\"white\",\"linecolor\":\"white\",\"showbackground\":true,\"ticks\":\"\",\"zerolinecolor\":\"white\",\"gridwidth\":2},\"yaxis\":{\"backgroundcolor\":\"#E5ECF6\",\"gridcolor\":\"white\",\"linecolor\":\"white\",\"showbackground\":true,\"ticks\":\"\",\"zerolinecolor\":\"white\",\"gridwidth\":2},\"zaxis\":{\"backgroundcolor\":\"#E5ECF6\",\"gridcolor\":\"white\",\"linecolor\":\"white\",\"showbackground\":true,\"ticks\":\"\",\"zerolinecolor\":\"white\",\"gridwidth\":2}},\"shapedefaults\":{\"line\":{\"color\":\"#2a3f5f\"}},\"annotationdefaults\":{\"arrowcolor\":\"#2a3f5f\",\"arrowhead\":0,\"arrowwidth\":1},\"geo\":{\"bgcolor\":\"white\",\"landcolor\":\"#E5ECF6\",\"subunitcolor\":\"white\",\"showland\":true,\"showlakes\":true,\"lakecolor\":\"white\"},\"title\":{\"x\":0.05},\"mapbox\":{\"style\":\"light\"}}},\"xaxis\":{\"anchor\":\"y\",\"domain\":[0.0,1.0],\"title\":{\"text\":\"Age\"}},\"yaxis\":{\"anchor\":\"x\",\"domain\":[0.0,1.0],\"title\":{\"text\":\"count\"}},\"legend\":{\"tracegroupgap\":0},\"margin\":{\"t\":60},\"barmode\":\"relative\"},                        {\"responsive\": true}                    ).then(function(){\n",
              "                            \n",
              "var gd = document.getElementById('a11ee0c4-079a-48ee-b216-691f01de51ec');\n",
              "var x = new MutationObserver(function (mutations, observer) {{\n",
              "        var display = window.getComputedStyle(gd).display;\n",
              "        if (!display || display === 'none') {{\n",
              "            console.log([gd, 'removed!']);\n",
              "            Plotly.purge(gd);\n",
              "            observer.disconnect();\n",
              "        }}\n",
              "}});\n",
              "\n",
              "// Listen for the removal of the full notebook cells\n",
              "var notebookContainer = gd.closest('#notebook-container');\n",
              "if (notebookContainer) {{\n",
              "    x.observe(notebookContainer, {childList: true});\n",
              "}}\n",
              "\n",
              "// Listen for the clearing of the current output cell\n",
              "var outputEl = gd.closest('.output');\n",
              "if (outputEl) {{\n",
              "    x.observe(outputEl, {childList: true});\n",
              "}}\n",
              "\n",
              "                        })                };                            </script>        </div>\n",
              "</body>\n",
              "</html>"
            ]
          },
          "metadata": {}
        }
      ]
    },
    {
      "cell_type": "code",
      "source": [
        "df['Age'].skew()"
      ],
      "metadata": {
        "colab": {
          "base_uri": "https://localhost:8080/"
        },
        "id": "UX866oQ8kcIJ",
        "outputId": "2a19d46f-4484-4e86-e6fb-e23ba7f43c35"
      },
      "execution_count": null,
      "outputs": [
        {
          "output_type": "execute_result",
          "data": {
            "text/plain": [
              "0.38910778230082704"
            ]
          },
          "metadata": {},
          "execution_count": 19
        }
      ]
    },
    {
      "cell_type": "code",
      "source": [
        "df['Age'].plot(kind='kde')"
      ],
      "metadata": {
        "colab": {
          "base_uri": "https://localhost:8080/",
          "height": 448
        },
        "id": "mq2xojdIk9Al",
        "outputId": "69352913-8e90-473c-ddaf-dc2a5c758e0c"
      },
      "execution_count": null,
      "outputs": [
        {
          "output_type": "execute_result",
          "data": {
            "text/plain": [
              "<Axes: ylabel='Density'>"
            ]
          },
          "metadata": {},
          "execution_count": 20
        },
        {
          "output_type": "display_data",
          "data": {
            "text/plain": [
              "<Figure size 640x480 with 1 Axes>"
            ],
            "image/png": "[encoded data removed]"
          },
          "metadata": {}
        }
      ]
    },
    {
      "cell_type": "code",
      "source": [
        "sns.boxplot(df,y='Age',hue='Sex')"
      ],
      "metadata": {
        "colab": {
          "base_uri": "https://localhost:8080/",
          "height": 429
        },
        "id": "XuIynZMalgUH",
        "outputId": "b51d889b-b471-4047-b8a4-960d8a146e5c"
      },
      "execution_count": null,
      "outputs": [
        {
          "output_type": "execute_result",
          "data": {
            "text/plain": [
              "<Axes: ylabel='Age'>"
            ]
          },
          "metadata": {},
          "execution_count": 21
        },
        {
          "output_type": "display_data",
          "data": {
            "text/plain": [
              "<Figure size 640x480 with 1 Axes>"
            ],
            "image/png": "[encoded data removed]"
          },
          "metadata": {}
        }
      ]
    },
    {
      "cell_type": "code",
      "source": [
        "df.groupby('Sex')['Age'].mean()"
      ],
      "metadata": {
        "colab": {
          "base_uri": "https://localhost:8080/"
        },
        "id": "yVA703ws-qwm",
        "outputId": "33ab8e40-25d1-4859-c799-e28cf21fe622"
      },
      "execution_count": null,
      "outputs": [
        {
          "output_type": "execute_result",
          "data": {
            "text/plain": [
              "Sex\n",
              "female    27.915709\n",
              "male      30.726645\n",
              "Name: Age, dtype: float64"
            ]
          },
          "metadata": {},
          "execution_count": 22
        }
      ]
    },
    {
      "cell_type": "markdown",
      "source": [
        "#### **Conclusion**\n",
        "\n",
        "\n",
        "---\n",
        "\n",
        "\n",
        "\n",
        "\n",
        "*   most of the passenger belongs to 29-30 age groups.\n",
        "*   62 kids whose age was less than 10 were travelling\n",
        "*   almost 20% of the values are missing\n",
        "*   age is almost normally distributed which means passengers were from all age groups\n",
        "\n",
        "*   All the older passenger above 65 years were male passenger\n",
        "\n",
        "\n",
        "\n",
        "\n"
      ],
      "metadata": {
        "id": "v2VH8U9CmDWo"
      }
    },
    {
      "cell_type": "markdown",
      "source": [
        "### **Survived**"
      ],
      "metadata": {
        "id": "K6g6apTD2E5O"
      }
    },
    {
      "cell_type": "code",
      "source": [
        "df['Survived'].value_counts()"
      ],
      "metadata": {
        "colab": {
          "base_uri": "https://localhost:8080/"
        },
        "id": "OOfGaBOi2M-M",
        "outputId": "e4308233-08fe-4daa-a9e5-a33112548ec7"
      },
      "execution_count": null,
      "outputs": [
        {
          "output_type": "execute_result",
          "data": {
            "text/plain": [
              "Survived\n",
              "0    549\n",
              "1    342\n",
              "Name: count, dtype: int64"
            ]
          },
          "metadata": {},
          "execution_count": 23
        }
      ]
    },
    {
      "cell_type": "code",
      "source": [
        "df['Survived'].value_counts().plot(kind='bar',color=['#FF2E2E','green'])"
      ],
      "metadata": {
        "colab": {
          "base_uri": "https://localhost:8080/",
          "height": 462
        },
        "id": "eM3FYxzy2jny",
        "outputId": "d255399b-d691-4193-a28a-24663a220049"
      },
      "execution_count": null,
      "outputs": [
        {
          "output_type": "execute_result",
          "data": {
            "text/plain": [
              "<Axes: xlabel='Survived'>"
            ]
          },
          "metadata": {},
          "execution_count": 24
        },
        {
          "output_type": "display_data",
          "data": {
            "text/plain": [
              "<Figure size 640x480 with 1 Axes>"
            ],
            "image/png": "[encoded data removed]"
          },
          "metadata": {}
        }
      ]
    },
    {
      "cell_type": "code",
      "source": [
        "df['Survived'].isnull().sum()"
      ],
      "metadata": {
        "colab": {
          "base_uri": "https://localhost:8080/"
        },
        "id": "G_GwdXvK4n9S",
        "outputId": "5604b8fa-4bc0-455c-b6e3-0de924ffc506"
      },
      "execution_count": null,
      "outputs": [
        {
          "output_type": "execute_result",
          "data": {
            "text/plain": [
              "0"
            ]
          },
          "metadata": {},
          "execution_count": 25
        }
      ]
    },
    {
      "cell_type": "code",
      "source": [
        "df['Survived'].value_counts().plot(kind='pie',autopct='%0.1f%%')"
      ],
      "metadata": {
        "colab": {
          "base_uri": "https://localhost:8080/",
          "height": 424
        },
        "id": "NhqcL5SM4wKg",
        "outputId": "77f4c0f2-da2a-46bd-e978-82748ae2a517"
      },
      "execution_count": null,
      "outputs": [
        {
          "output_type": "execute_result",
          "data": {
            "text/plain": [
              "<Axes: ylabel='count'>"
            ]
          },
          "metadata": {},
          "execution_count": 26
        },
        {
          "output_type": "display_data",
          "data": {
            "text/plain": [
              "<Figure size 640x480 with 1 Axes>"
            ],
            "image/png": "[encoded data removed]"
          },
          "metadata": {}
        }
      ]
    },
    {
      "cell_type": "markdown",
      "source": [
        "####**Conclusion**\n",
        "\n",
        "*   Accident was very Deadly ,  more than 60% passenger lost thier life\n",
        "*   out of 891 passenger  only 342 were rescued.\n",
        "\n"
      ],
      "metadata": {
        "id": "zkD4qdIC5Xmr"
      }
    },
    {
      "cell_type": "markdown",
      "source": [
        "### **Pclass**"
      ],
      "metadata": {
        "id": "Hh28TzD47K3s"
      }
    },
    {
      "cell_type": "code",
      "source": [
        "df['Pclass'].value_counts()"
      ],
      "metadata": {
        "colab": {
          "base_uri": "https://localhost:8080/"
        },
        "id": "QyV8hW6D7TbJ",
        "outputId": "e09428a9-da24-4621-ab1a-1d54fc55c10e"
      },
      "execution_count": null,
      "outputs": [
        {
          "output_type": "execute_result",
          "data": {
            "text/plain": [
              "Pclass\n",
              "3    491\n",
              "1    216\n",
              "2    184\n",
              "Name: count, dtype: int64"
            ]
          },
          "metadata": {},
          "execution_count": 27
        }
      ]
    },
    {
      "cell_type": "code",
      "source": [
        "df['Pclass'].value_counts().plot(kind='bar',color=['purple','orange','green'])"
      ],
      "metadata": {
        "colab": {
          "base_uri": "https://localhost:8080/",
          "height": 462
        },
        "id": "g22wV_VO7uIa",
        "outputId": "737e93a2-7094-4cb5-e9d6-91083dd0ea71"
      },
      "execution_count": null,
      "outputs": [
        {
          "output_type": "execute_result",
          "data": {
            "text/plain": [
              "<Axes: xlabel='Pclass'>"
            ]
          },
          "metadata": {},
          "execution_count": 28
        },
        {
          "output_type": "display_data",
          "data": {
            "text/plain": [
              "<Figure size 640x480 with 1 Axes>"
            ],
            "image/png": "[encoded data removed]"
          },
          "metadata": {}
        }
      ]
    },
    {
      "cell_type": "code",
      "source": [
        "df['Pclass'].value_counts().plot(kind='pie',autopct='%0.1f%%')"
      ],
      "metadata": {
        "colab": {
          "base_uri": "https://localhost:8080/",
          "height": 424
        },
        "id": "LamPHnYW8L6E",
        "outputId": "144ee9cf-9ae8-4c7d-903a-2103fe475e02"
      },
      "execution_count": null,
      "outputs": [
        {
          "output_type": "execute_result",
          "data": {
            "text/plain": [
              "<Axes: ylabel='count'>"
            ]
          },
          "metadata": {},
          "execution_count": 29
        },
        {
          "output_type": "display_data",
          "data": {
            "text/plain": [
              "<Figure size 640x480 with 1 Axes>"
            ],
            "image/png": "[encoded data removed]"
          },
          "metadata": {}
        }
      ]
    },
    {
      "cell_type": "markdown",
      "source": [
        "#### **Conclusion**\n",
        "\n",
        "\n",
        "*   most of the passenger were travelling in Class3 abouth 55%.\n",
        "*   out of 891 , 491 were in Class_3 , 216 were in Class_1 and rest(184) were in Class_2.\n",
        "   \n",
        "\n"
      ],
      "metadata": {
        "id": "duh6fPJR8vy-"
      }
    },
    {
      "cell_type": "markdown",
      "source": [
        "### **Sex**"
      ],
      "metadata": {
        "id": "K8CjTxkG-3tF"
      }
    },
    {
      "cell_type": "code",
      "source": [
        "df['Sex'].value_counts()"
      ],
      "metadata": {
        "colab": {
          "base_uri": "https://localhost:8080/"
        },
        "id": "3zOU_C-R-7ys",
        "outputId": "47534419-f626-4ade-a8f9-fe5254d3d08b"
      },
      "execution_count": null,
      "outputs": [
        {
          "output_type": "execute_result",
          "data": {
            "text/plain": [
              "Sex\n",
              "male      577\n",
              "female    314\n",
              "Name: count, dtype: int64"
            ]
          },
          "metadata": {},
          "execution_count": 30
        }
      ]
    },
    {
      "cell_type": "code",
      "source": [
        "len(df[df['Sex']=='male'])/len(df)"
      ],
      "metadata": {
        "colab": {
          "base_uri": "https://localhost:8080/"
        },
        "id": "_OFZU5O5-vIi",
        "outputId": "1e65dce0-b70e-4426-e479-7e3462162a59"
      },
      "execution_count": null,
      "outputs": [
        {
          "output_type": "execute_result",
          "data": {
            "text/plain": [
              "0.6475869809203143"
            ]
          },
          "metadata": {},
          "execution_count": 31
        }
      ]
    },
    {
      "cell_type": "code",
      "source": [
        "df['Sex'].value_counts().plot(kind='bar',color=['black','pink'])"
      ],
      "metadata": {
        "colab": {
          "base_uri": "https://localhost:8080/",
          "height": 503
        },
        "id": "j7L3f71b_g3k",
        "outputId": "b13097da-b59c-419a-8296-fca79b8bb111"
      },
      "execution_count": null,
      "outputs": [
        {
          "output_type": "execute_result",
          "data": {
            "text/plain": [
              "<Axes: xlabel='Sex'>"
            ]
          },
          "metadata": {},
          "execution_count": 32
        },
        {
          "output_type": "display_data",
          "data": {
            "text/plain": [
              "<Figure size 640x480 with 1 Axes>"
            ],
            "image/png": "[encoded data removed]"
          },
          "metadata": {}
        }
      ]
    },
    {
      "cell_type": "code",
      "source": [
        "df['Sex'].value_counts().plot(kind='pie',autopct='%0.1f%%')"
      ],
      "metadata": {
        "colab": {
          "base_uri": "https://localhost:8080/",
          "height": 424
        },
        "id": "Av0OgOoS_0_p",
        "outputId": "c390d29e-3178-45e4-95a8-ad8b86cf08c8"
      },
      "execution_count": null,
      "outputs": [
        {
          "output_type": "execute_result",
          "data": {
            "text/plain": [
              "<Axes: ylabel='count'>"
            ]
          },
          "metadata": {},
          "execution_count": 33
        },
        {
          "output_type": "display_data",
          "data": {
            "text/plain": [
              "<Figure size 640x480 with 1 Axes>"
            ],
            "image/png": "[encoded data removed]"
          },
          "metadata": {}
        }
      ]
    },
    {
      "cell_type": "markdown",
      "source": [
        "#### **Conclusion**\n",
        "\n",
        "*    64.8% passenger were male and 35.2% were Female\n",
        "*   577 were male and 314 Female\n",
        "   \n",
        "\n"
      ],
      "metadata": {
        "id": "qI38XTp_AMkn"
      }
    },
    {
      "cell_type": "markdown",
      "source": [
        "### **Embarked**"
      ],
      "metadata": {
        "id": "uCfj93MhBCss"
      }
    },
    {
      "cell_type": "code",
      "source": [
        "df['Embarked'].value_counts()"
      ],
      "metadata": {
        "colab": {
          "base_uri": "https://localhost:8080/"
        },
        "id": "CtGXgvydBIWi",
        "outputId": "1a270a92-2583-41f2-db98-ae5b5d9465fc"
      },
      "execution_count": null,
      "outputs": [
        {
          "output_type": "execute_result",
          "data": {
            "text/plain": [
              "Embarked\n",
              "S    644\n",
              "C    168\n",
              "Q     77\n",
              "Name: count, dtype: int64"
            ]
          },
          "metadata": {},
          "execution_count": 34
        }
      ]
    },
    {
      "cell_type": "code",
      "source": [
        "df['Embarked'].isnull().sum()"
      ],
      "metadata": {
        "colab": {
          "base_uri": "https://localhost:8080/"
        },
        "id": "Iaji4VSmBTLD",
        "outputId": "5107d2dd-ab10-41d1-addb-bb357d95e24b"
      },
      "execution_count": null,
      "outputs": [
        {
          "output_type": "execute_result",
          "data": {
            "text/plain": [
              "2"
            ]
          },
          "metadata": {},
          "execution_count": 35
        }
      ]
    },
    {
      "cell_type": "code",
      "source": [
        "df['Embarked'].value_counts().plot(kind='bar',color=['violet','yellow','red'])"
      ],
      "metadata": {
        "colab": {
          "base_uri": "https://localhost:8080/",
          "height": 464
        },
        "id": "7CH7G_AJBeUc",
        "outputId": "7d238c81-b05c-408b-a411-1d454bccad07"
      },
      "execution_count": null,
      "outputs": [
        {
          "output_type": "execute_result",
          "data": {
            "text/plain": [
              "<Axes: xlabel='Embarked'>"
            ]
          },
          "metadata": {},
          "execution_count": 36
        },
        {
          "output_type": "display_data",
          "data": {
            "text/plain": [
              "<Figure size 640x480 with 1 Axes>"
            ],
            "image/png": "[encoded data removed]"
          },
          "metadata": {}
        }
      ]
    },
    {
      "cell_type": "code",
      "source": [
        "df['Embarked'].value_counts().plot(kind='pie',autopct='%0.1f%%')"
      ],
      "metadata": {
        "colab": {
          "base_uri": "https://localhost:8080/",
          "height": 424
        },
        "id": "Ph30u09GB21v",
        "outputId": "c679f678-2d05-425c-e9bd-05b2da4df569"
      },
      "execution_count": null,
      "outputs": [
        {
          "output_type": "execute_result",
          "data": {
            "text/plain": [
              "<Axes: ylabel='count'>"
            ]
          },
          "metadata": {},
          "execution_count": 37
        },
        {
          "output_type": "display_data",
          "data": {
            "text/plain": [
              "<Figure size 640x480 with 1 Axes>"
            ],
            "image/png": "[encoded data removed]"
          },
          "metadata": {}
        }
      ]
    },
    {
      "cell_type": "markdown",
      "source": [
        "#### **Conclusion**\n",
        "\n",
        "*   about 73% of the passenger board from Southampton and about 19% were boared from Cherbourg and rest were from Queenstown\n",
        "\n",
        "\n"
      ],
      "metadata": {
        "id": "VnemQhbeCEGz"
      }
    },
    {
      "cell_type": "code",
      "source": [],
      "metadata": {
        "id": "ipA7E7orDU9c"
      },
      "execution_count": null,
      "outputs": []
    },
    {
      "cell_type": "markdown",
      "source": [
        "### **SibSp**"
      ],
      "metadata": {
        "id": "03rfE5XbDlOI"
      }
    },
    {
      "cell_type": "code",
      "source": [
        "df['SibSp'].value_counts()"
      ],
      "metadata": {
        "colab": {
          "base_uri": "https://localhost:8080/"
        },
        "id": "_iPV2IKvDo-Y",
        "outputId": "c3d5bbf4-6468-437e-8821-5a4c607a1f35"
      },
      "execution_count": null,
      "outputs": [
        {
          "output_type": "execute_result",
          "data": {
            "text/plain": [
              "SibSp\n",
              "0    608\n",
              "1    209\n",
              "2     28\n",
              "4     18\n",
              "3     16\n",
              "8      7\n",
              "5      5\n",
              "Name: count, dtype: int64"
            ]
          },
          "metadata": {},
          "execution_count": 38
        }
      ]
    },
    {
      "cell_type": "code",
      "source": [
        "df['SibSp'].isnull().sum()"
      ],
      "metadata": {
        "colab": {
          "base_uri": "https://localhost:8080/"
        },
        "id": "ueMr5djlEdZ-",
        "outputId": "f873f285-00e2-4651-c1cc-54944914688b"
      },
      "execution_count": null,
      "outputs": [
        {
          "output_type": "execute_result",
          "data": {
            "text/plain": [
              "0"
            ]
          },
          "metadata": {},
          "execution_count": 39
        }
      ]
    },
    {
      "cell_type": "code",
      "source": [
        "df['SibSp'].value_counts().plot(kind='bar',color=['purple','black','orange','violet','pink'])"
      ],
      "metadata": {
        "colab": {
          "base_uri": "https://localhost:8080/",
          "height": 462
        },
        "id": "xx6IVdUGEjsi",
        "outputId": "16d7614f-6d05-41b1-d503-a6adc3d39d08"
      },
      "execution_count": null,
      "outputs": [
        {
          "output_type": "execute_result",
          "data": {
            "text/plain": [
              "<Axes: xlabel='SibSp'>"
            ]
          },
          "metadata": {},
          "execution_count": 40
        },
        {
          "output_type": "display_data",
          "data": {
            "text/plain": [
              "<Figure size 640x480 with 1 Axes>"
            ],
            "image/png": "[encoded data removed]"
          },
          "metadata": {}
        }
      ]
    },
    {
      "cell_type": "code",
      "source": [
        "df['SibSp'].value_counts().plot(kind='pie',autopct='%0.1f%%')"
      ],
      "metadata": {
        "colab": {
          "base_uri": "https://localhost:8080/",
          "height": 424
        },
        "id": "agsZU8m0E7-z",
        "outputId": "e4deb3d0-4e45-40d7-d6ef-49e3d2cf4953"
      },
      "execution_count": null,
      "outputs": [
        {
          "output_type": "execute_result",
          "data": {
            "text/plain": [
              "<Axes: ylabel='count'>"
            ]
          },
          "metadata": {},
          "execution_count": 41
        },
        {
          "output_type": "display_data",
          "data": {
            "text/plain": [
              "<Figure size 640x480 with 1 Axes>"
            ],
            "image/png": "[encoded data removed]"
          },
          "metadata": {}
        }
      ]
    },
    {
      "cell_type": "markdown",
      "source": [
        "#### **Conclusion**\n",
        "\n",
        "*   maximum people about 68% were travelling alone .and about 24% were travelling with one siblings\n",
        "\n"
      ],
      "metadata": {
        "id": "lR1DKEdbFR65"
      }
    },
    {
      "cell_type": "markdown",
      "source": [
        "### **Parch**\n"
      ],
      "metadata": {
        "id": "0DhwsuJ0FxjN"
      }
    },
    {
      "cell_type": "code",
      "source": [
        "df['Parch'].value_counts()"
      ],
      "metadata": {
        "colab": {
          "base_uri": "https://localhost:8080/"
        },
        "id": "Z_plNGpMF71j",
        "outputId": "a004fa96-bf2b-4cbf-c7a4-d7f4a51de611"
      },
      "execution_count": null,
      "outputs": [
        {
          "output_type": "execute_result",
          "data": {
            "text/plain": [
              "Parch\n",
              "0    678\n",
              "1    118\n",
              "2     80\n",
              "5      5\n",
              "3      5\n",
              "4      4\n",
              "6      1\n",
              "Name: count, dtype: int64"
            ]
          },
          "metadata": {},
          "execution_count": 42
        }
      ]
    },
    {
      "cell_type": "markdown",
      "source": [
        "#### **Conclusion**\n",
        "\n",
        "*   same as above most of they were travelling without parents\n",
        "\n",
        "\n"
      ],
      "metadata": {
        "id": "LlMeJ1k8GEvK"
      }
    },
    {
      "cell_type": "markdown",
      "source": [
        "### **Cabin**"
      ],
      "metadata": {
        "id": "IAPTjI6yGYoP"
      }
    },
    {
      "cell_type": "code",
      "source": [
        "df['Cabin']"
      ],
      "metadata": {
        "colab": {
          "base_uri": "https://localhost:8080/"
        },
        "id": "YjEXAlOCHYn3",
        "outputId": "320fb97e-1994-4399-df08-3b0b336b28a9"
      },
      "execution_count": null,
      "outputs": [
        {
          "output_type": "execute_result",
          "data": {
            "text/plain": [
              "0       NaN\n",
              "1       C85\n",
              "2       NaN\n",
              "3      C123\n",
              "4       NaN\n",
              "       ... \n",
              "886     NaN\n",
              "887     B42\n",
              "888     NaN\n",
              "889    C148\n",
              "890     NaN\n",
              "Name: Cabin, Length: 891, dtype: object"
            ]
          },
          "metadata": {},
          "execution_count": 43
        }
      ]
    },
    {
      "cell_type": "code",
      "source": [
        "df['Cabin'].isnull().sum()"
      ],
      "metadata": {
        "colab": {
          "base_uri": "https://localhost:8080/"
        },
        "id": "4He0rJdjGwHD",
        "outputId": "83c3b125-0be6-499d-96a4-416508069de2"
      },
      "execution_count": null,
      "outputs": [
        {
          "output_type": "execute_result",
          "data": {
            "text/plain": [
              "687"
            ]
          },
          "metadata": {},
          "execution_count": 44
        }
      ]
    },
    {
      "cell_type": "code",
      "source": [
        "df['Cabin'].isnull().sum()/len(df)"
      ],
      "metadata": {
        "colab": {
          "base_uri": "https://localhost:8080/"
        },
        "id": "BsQ3jZSlG79y",
        "outputId": "2c908f80-bd16-4852-d5d0-1fd6eea0748f"
      },
      "execution_count": null,
      "outputs": [
        {
          "output_type": "execute_result",
          "data": {
            "text/plain": [
              "0.7710437710437711"
            ]
          },
          "metadata": {},
          "execution_count": 45
        }
      ]
    },
    {
      "cell_type": "markdown",
      "source": [
        "####**Conclusion**\n",
        "\n",
        "*   about 78% of the values are missing\n",
        "*   more than one passenger have same cabin\n",
        "\n"
      ],
      "metadata": {
        "id": "VLiJx4gOGduS"
      }
    },
    {
      "cell_type": "markdown",
      "source": [
        "### **Ticket**\n",
        "\n",
        "\n"
      ],
      "metadata": {
        "id": "bLzozOq9Il9w"
      }
    },
    {
      "cell_type": "code",
      "source": [
        "df['Ticket']"
      ],
      "metadata": {
        "colab": {
          "base_uri": "https://localhost:8080/"
        },
        "id": "JM47pRYYIvRn",
        "outputId": "9081aed0-fba8-4f06-c6d4-46cf55d5c4d9"
      },
      "execution_count": null,
      "outputs": [
        {
          "output_type": "execute_result",
          "data": {
            "text/plain": [
              "0             A/5 21171\n",
              "1              PC 17599\n",
              "2      STON/O2. 3101282\n",
              "3                113803\n",
              "4                373450\n",
              "             ...       \n",
              "886              211536\n",
              "887              112053\n",
              "888          W./C. 6607\n",
              "889              111369\n",
              "890              370376\n",
              "Name: Ticket, Length: 891, dtype: object"
            ]
          },
          "metadata": {},
          "execution_count": 46
        }
      ]
    },
    {
      "cell_type": "code",
      "source": [
        "df['Ticket'].isnull().sum()"
      ],
      "metadata": {
        "colab": {
          "base_uri": "https://localhost:8080/"
        },
        "id": "Ole3LGi-I1Mw",
        "outputId": "8dd0a8fb-99e3-4029-84bc-902a52418fb6"
      },
      "execution_count": null,
      "outputs": [
        {
          "output_type": "execute_result",
          "data": {
            "text/plain": [
              "0"
            ]
          },
          "metadata": {},
          "execution_count": 47
        }
      ]
    },
    {
      "cell_type": "code",
      "source": [
        "df['Ticket'].value_counts()"
      ],
      "metadata": {
        "colab": {
          "base_uri": "https://localhost:8080/"
        },
        "id": "jfSHZyAnI7S3",
        "outputId": "bb15683b-4580-4f29-a29e-27b18da8afcb"
      },
      "execution_count": null,
      "outputs": [
        {
          "output_type": "execute_result",
          "data": {
            "text/plain": [
              "Ticket\n",
              "347082      7\n",
              "CA. 2343    7\n",
              "1601        7\n",
              "3101295     6\n",
              "CA 2144     6\n",
              "           ..\n",
              "9234        1\n",
              "19988       1\n",
              "2693        1\n",
              "PC 17612    1\n",
              "370376      1\n",
              "Name: count, Length: 681, dtype: int64"
            ]
          },
          "metadata": {},
          "execution_count": 48
        }
      ]
    },
    {
      "cell_type": "markdown",
      "source": [
        "#### **Conclusion**\n",
        "\n",
        "\n",
        "*   more than one passenger have same ticket number, it means all the family\n",
        " members have same ticket\n",
        "\n"
      ],
      "metadata": {
        "id": "mpzLPnQLJEdW"
      }
    },
    {
      "cell_type": "markdown",
      "source": [
        "## **Bivariate Analysis**"
      ],
      "metadata": {
        "id": "HsgpuKBTJ2b0"
      }
    },
    {
      "cell_type": "markdown",
      "source": [
        "### **Survived vs Sex**"
      ],
      "metadata": {
        "id": "NnxUAVn_J9ug"
      }
    },
    {
      "cell_type": "code",
      "source": [
        "pd.crosstab(df['Survived'],df['Sex'])"
      ],
      "metadata": {
        "colab": {
          "base_uri": "https://localhost:8080/",
          "height": 143
        },
        "id": "_c36E8x5Lm5-",
        "outputId": "ba23a0bb-3d4a-42d2-a86f-5a296064968c"
      },
      "execution_count": null,
      "outputs": [
        {
          "output_type": "execute_result",
          "data": {
            "text/plain": [
              "Sex       female  male\n",
              "Survived              \n",
              "0             81   468\n",
              "1            233   109"
            ],
            "text/html": [
              "\n",
              "  <div id=\"df-24fd0b0f-e7c9-48b0-ab03-485c0c95b12f\" class=\"colab-df-container\">\n",
              "    <div>\n",
              "<style scoped>\n",
              "    .dataframe tbody tr th:only-of-type {\n",
              "        vertical-align: middle;\n",
              "    }\n",
              "\n",
              "    .dataframe tbody tr th {\n",
              "        vertical-align: top;\n",
              "    }\n",
              "\n",
              "    .dataframe thead th {\n",
              "        text-align: right;\n",
              "    }\n",
              "</style>\n",
              "<table border=\"1\" class=\"dataframe\">\n",
              "  <thead>\n",
              "    <tr style=\"text-align: right;\">\n",
              "      <th>Sex</th>\n",
              "      <th>female</th>\n",
              "      <th>male</th>\n",
              "    </tr>\n",
              "    <tr>\n",
              "      <th>Survived</th>\n",
              "      <th></th>\n",
              "      <th></th>\n",
              "    </tr>\n",
              "  </thead>\n",
              "  <tbody>\n",
              "    <tr>\n",
              "      <th>0</th>\n",
              "      <td>81</td>\n",
              "      <td>468</td>\n",
              "    </tr>\n",
              "    <tr>\n",
              "      <th>1</th>\n",
              "      <td>233</td>\n",
              "      <td>109</td>\n",
              "    </tr>\n",
              "  </tbody>\n",
              "</table>\n",
              "</div>\n",
              "    <div class=\"colab-df-buttons\">\n",
              "\n",
              "  <div class=\"colab-df-container\">\n",
              "    <button class=\"colab-df-convert\" onclick=\"convertToInteractive('df-24fd0b0f-e7c9-48b0-ab03-485c0c95b12f')\"\n",
              "            title=\"Convert this dataframe to an interactive table.\"\n",
              "            style=\"display:none;\">\n",
              "\n",
              "  <svg xmlns=\"http://www.w3.org/2000/svg\" height=\"24px\" viewBox=\"0 -960 960 960\">\n",
              "    <path d=\"M120-120v-720h720v720H120Zm60-500h600v-160H180v160Zm220 220h160v-160H400v160Zm0 220h160v-160H400v160ZM180-400h160v-160H180v160Zm440 0h160v-160H620v160ZM180-180h160v-160H180v160Zm440 0h160v-160H620v160Z\"/>\n",
              "  </svg>\n",
              "    </button>\n",
              "\n",
              "  <style>\n",
              "    .colab-df-container {\n",
              "      display:flex;\n",
              "      gap: 12px;\n",
              "    }\n",
              "\n",
              "    .colab-df-convert {\n",
              "      background-color: #E8F0FE;\n",
              "      border: none;\n",
              "      border-radius: 50%;\n",
              "      cursor: pointer;\n",
              "      display: none;\n",
              "      fill: #1967D2;\n",
              "      height: 32px;\n",
              "      padding: 0 0 0 0;\n",
              "      width: 32px;\n",
              "    }\n",
              "\n",
              "    .colab-df-convert:hover {\n",
              "      background-color: #E2EBFA;\n",
              "      box-shadow: 0px 1px 2px rgba(60, 64, 67, 0.3), 0px 1px 3px 1px rgba(60, 64, 67, 0.15);\n",
              "      fill: #174EA6;\n",
              "    }\n",
              "\n",
              "    .colab-df-buttons div {\n",
              "      margin-bottom: 4px;\n",
              "    }\n",
              "\n",
              "    [theme=dark] .colab-df-convert {\n",
              "      background-color: #3B4455;\n",
              "      fill: #D2E3FC;\n",
              "    }\n",
              "\n",
              "    [theme=dark] .colab-df-convert:hover {\n",
              "      background-color: #434B5C;\n",
              "      box-shadow: 0px 1px 3px 1px rgba(0, 0, 0, 0.15);\n",
              "      filter: drop-shadow(0px 1px 2px rgba(0, 0, 0, 0.3));\n",
              "      fill: #FFFFFF;\n",
              "    }\n",
              "  </style>\n",
              "\n",
              "    <script>\n",
              "      const buttonEl =\n",
              "        document.querySelector('#df-24fd0b0f-e7c9-48b0-ab03-485c0c95b12f button.colab-df-convert');\n",
              "      buttonEl.style.display =\n",
              "        google.colab.kernel.accessAllowed ? 'block' : 'none';\n",
              "\n",
              "      async function convertToInteractive(key) {\n",
              "        const element = document.querySelector('#df-24fd0b0f-e7c9-48b0-ab03-485c0c95b12f');\n",
              "        const dataTable =\n",
              "          await google.colab.kernel.invokeFunction('convertToInteractive',\n",
              "                                                    [key], {});\n",
              "        if (!dataTable) return;\n",
              "\n",
              "        const docLinkHtml = 'Like what you see? Visit the ' +\n",
              "          '<a target=\"_blank\" href=https://colab.research.google.com/notebooks/data_table.ipynb>data table notebook</a>'\n",
              "          + ' to learn more about interactive tables.';\n",
              "        element.innerHTML = '';\n",
              "        dataTable['output_type'] = 'display_data';\n",
              "        await google.colab.output.renderOutput(dataTable, element);\n",
              "        const docLink = document.createElement('div');\n",
              "        docLink.innerHTML = docLinkHtml;\n",
              "        element.appendChild(docLink);\n",
              "      }\n",
              "    </script>\n",
              "  </div>\n",
              "\n",
              "\n",
              "<div id=\"df-cbc161fe-5c50-4c10-8127-549eb7ef28c7\">\n",
              "  <button class=\"colab-df-quickchart\" onclick=\"quickchart('df-cbc161fe-5c50-4c10-8127-549eb7ef28c7')\"\n",
              "            title=\"Suggest charts\"\n",
              "            style=\"display:none;\">\n",
              "\n",
              "<svg xmlns=\"http://www.w3.org/2000/svg\" height=\"24px\"viewBox=\"0 0 24 24\"\n",
              "     width=\"24px\">\n",
              "    <g>\n",
              "        <path d=\"M19 3H5c-1.1 0-2 .9-2 2v14c0 1.1.9 2 2 2h14c1.1 0 2-.9 2-2V5c0-1.1-.9-2-2-2zM9 17H7v-7h2v7zm4 0h-2V7h2v10zm4 0h-2v-4h2v4z\"/>\n",
              "    </g>\n",
              "</svg>\n",
              "  </button>\n",
              "\n",
              "<style>\n",
              "  .colab-df-quickchart {\n",
              "      --bg-color: #E8F0FE;\n",
              "      --fill-color: #1967D2;\n",
              "      --hover-bg-color: #E2EBFA;\n",
              "      --hover-fill-color: #174EA6;\n",
              "      --disabled-fill-color: #AAA;\n",
              "      --disabled-bg-color: #DDD;\n",
              "  }\n",
              "\n",
              "  [theme=dark] .colab-df-quickchart {\n",
              "      --bg-color: #3B4455;\n",
              "      --fill-color: #D2E3FC;\n",
              "      --hover-bg-color: #434B5C;\n",
              "      --hover-fill-color: #FFFFFF;\n",
              "      --disabled-bg-color: #3B4455;\n",
              "      --disabled-fill-color: #666;\n",
              "  }\n",
              "\n",
              "  .colab-df-quickchart {\n",
              "    background-color: var(--bg-color);\n",
              "    border: none;\n",
              "    border-radius: 50%;\n",
              "    cursor: pointer;\n",
              "    display: none;\n",
              "    fill: var(--fill-color);\n",
              "    height: 32px;\n",
              "    padding: 0;\n",
              "    width: 32px;\n",
              "  }\n",
              "\n",
              "  .colab-df-quickchart:hover {\n",
              "    background-color: var(--hover-bg-color);\n",
              "    box-shadow: 0 1px 2px rgba(60, 64, 67, 0.3), 0 1px 3px 1px rgba(60, 64, 67, 0.15);\n",
              "    fill: var(--button-hover-fill-color);\n",
              "  }\n",
              "\n",
              "  .colab-df-quickchart-complete:disabled,\n",
              "  .colab-df-quickchart-complete:disabled:hover {\n",
              "    background-color: var(--disabled-bg-color);\n",
              "    fill: var(--disabled-fill-color);\n",
              "    box-shadow: none;\n",
              "  }\n",
              "\n",
              "  .colab-df-spinner {\n",
              "    border: 2px solid var(--fill-color);\n",
              "    border-color: transparent;\n",
              "    border-bottom-color: var(--fill-color);\n",
              "    animation:\n",
              "      spin 1s steps(1) infinite;\n",
              "  }\n",
              "\n",
              "  @keyframes spin {\n",
              "    0% {\n",
              "      border-color: transparent;\n",
              "      border-bottom-color: var(--fill-color);\n",
              "      border-left-color: var(--fill-color);\n",
              "    }\n",
              "    20% {\n",
              "      border-color: transparent;\n",
              "      border-left-color: var(--fill-color);\n",
              "      border-top-color: var(--fill-color);\n",
              "    }\n",
              "    30% {\n",
              "      border-color: transparent;\n",
              "      border-left-color: var(--fill-color);\n",
              "      border-top-color: var(--fill-color);\n",
              "      border-right-color: var(--fill-color);\n",
              "    }\n",
              "    40% {\n",
              "      border-color: transparent;\n",
              "      border-right-color: var(--fill-color);\n",
              "      border-top-color: var(--fill-color);\n",
              "    }\n",
              "    60% {\n",
              "      border-color: transparent;\n",
              "      border-right-color: var(--fill-color);\n",
              "    }\n",
              "    80% {\n",
              "      border-color: transparent;\n",
              "      border-right-color: var(--fill-color);\n",
              "      border-bottom-color: var(--fill-color);\n",
              "    }\n",
              "    90% {\n",
              "      border-color: transparent;\n",
              "      border-bottom-color: var(--fill-color);\n",
              "    }\n",
              "  }\n",
              "</style>\n",
              "\n",
              "  <script>\n",
              "    async function quickchart(key) {\n",
              "      const quickchartButtonEl =\n",
              "        document.querySelector('#' + key + ' button');\n",
              "      quickchartButtonEl.disabled = true;  // To prevent multiple clicks.\n",
              "      quickchartButtonEl.classList.add('colab-df-spinner');\n",
              "      try {\n",
              "        const charts = await google.colab.kernel.invokeFunction(\n",
              "            'suggestCharts', [key], {});\n",
              "      } catch (error) {\n",
              "        console.error('Error during call to suggestCharts:', error);\n",
              "      }\n",
              "      quickchartButtonEl.classList.remove('colab-df-spinner');\n",
              "      quickchartButtonEl.classList.add('colab-df-quickchart-complete');\n",
              "    }\n",
              "    (() => {\n",
              "      let quickchartButtonEl =\n",
              "        document.querySelector('#df-cbc161fe-5c50-4c10-8127-549eb7ef28c7 button');\n",
              "      quickchartButtonEl.style.display =\n",
              "        google.colab.kernel.accessAllowed ? 'block' : 'none';\n",
              "    })();\n",
              "  </script>\n",
              "</div>\n",
              "\n",
              "    </div>\n",
              "  </div>\n"
            ],
            "application/vnd.google.colaboratory.intrinsic+json": {
              "type": "dataframe",
              "summary": "{\n  \"name\": \"pd\",\n  \"rows\": 2,\n  \"fields\": [\n    {\n      \"column\": \"Survived\",\n      \"properties\": {\n        \"dtype\": \"number\",\n        \"std\": 0,\n        \"min\": 0,\n        \"max\": 1,\n        \"num_unique_values\": 2,\n        \"samples\": [\n          1,\n          0\n        ],\n        \"semantic_type\": \"\",\n        \"description\": \"\"\n      }\n    },\n    {\n      \"column\": \"female\",\n      \"properties\": {\n        \"dtype\": \"number\",\n        \"std\": 107,\n        \"min\": 81,\n        \"max\": 233,\n        \"num_unique_values\": 2,\n        \"samples\": [\n          233,\n          81\n        ],\n        \"semantic_type\": \"\",\n        \"description\": \"\"\n      }\n    },\n    {\n      \"column\": \"male\",\n      \"properties\": {\n        \"dtype\": \"number\",\n        \"std\": 253,\n        \"min\": 109,\n        \"max\": 468,\n        \"num_unique_values\": 2,\n        \"samples\": [\n          109,\n          468\n        ],\n        \"semantic_type\": \"\",\n        \"description\": \"\"\n      }\n    }\n  ]\n}"
            }
          },
          "metadata": {},
          "execution_count": 60
        }
      ]
    },
    {
      "cell_type": "code",
      "source": [
        "pd.crosstab(df['Survived'],df['Sex']).plot(kind='bar',stacked=True)"
      ],
      "metadata": {
        "colab": {
          "base_uri": "https://localhost:8080/",
          "height": 462
        },
        "id": "NYrK9ODQqpTz",
        "outputId": "753da13c-cb9f-4f23-c9db-f732fbbf27e8"
      },
      "execution_count": null,
      "outputs": [
        {
          "output_type": "execute_result",
          "data": {
            "text/plain": [
              "<Axes: xlabel='Survived'>"
            ]
          },
          "metadata": {},
          "execution_count": 113
        },
        {
          "output_type": "display_data",
          "data": {
            "text/plain": [
              "<Figure size 640x480 with 1 Axes>"
            ],
            "image/png": "[encoded data removed]"
          },
          "metadata": {}
        }
      ]
    },
    {
      "cell_type": "code",
      "source": [
        "sns.heatmap(pd.crosstab(df['Survived'],df['Sex']))"
      ],
      "metadata": {
        "colab": {
          "base_uri": "https://localhost:8080/",
          "height": 467
        },
        "id": "-5GE_KUXMwC1",
        "outputId": "97b59d53-bf01-4e62-a3ed-8ec462621773"
      },
      "execution_count": null,
      "outputs": [
        {
          "output_type": "execute_result",
          "data": {
            "text/plain": [
              "<Axes: xlabel='Sex', ylabel='Survived'>"
            ]
          },
          "metadata": {},
          "execution_count": 106
        },
        {
          "output_type": "display_data",
          "data": {
            "text/plain": [
              "<Figure size 640x480 with 2 Axes>"
            ],
            "image/png": "[encoded data removed]"
          },
          "metadata": {}
        }
      ]
    },
    {
      "cell_type": "code",
      "source": [
        "df[df['Survived']==1]['Sex'].value_counts()"
      ],
      "metadata": {
        "colab": {
          "base_uri": "https://localhost:8080/"
        },
        "id": "Ns9n-5XoNYl_",
        "outputId": "d9767beb-e2be-4c66-d020-bf8b7d2ce1c2"
      },
      "execution_count": null,
      "outputs": [
        {
          "output_type": "execute_result",
          "data": {
            "text/plain": [
              "female    233\n",
              "male      109\n",
              "Name: Sex, dtype: int64"
            ]
          },
          "metadata": {},
          "execution_count": 107
        }
      ]
    },
    {
      "cell_type": "code",
      "source": [
        "df[df['Survived']==1]['Sex'].value_counts().plot(kind='bar',label='survived',color=['orange','purple'])\n"
      ],
      "metadata": {
        "colab": {
          "base_uri": "https://localhost:8080/",
          "height": 501
        },
        "id": "sYA8xkV6Nms9",
        "outputId": "8a1cb793-8789-4033-9b03-9145c1284bdc"
      },
      "execution_count": null,
      "outputs": [
        {
          "output_type": "execute_result",
          "data": {
            "text/plain": [
              "<Axes: xlabel='Sex'>"
            ]
          },
          "metadata": {},
          "execution_count": 65
        },
        {
          "output_type": "display_data",
          "data": {
            "text/plain": [
              "<Figure size 640x480 with 1 Axes>"
            ],
            "image/png": "[encoded data removed]"
          },
          "metadata": {}
        }
      ]
    },
    {
      "cell_type": "markdown",
      "source": [
        "#### **conclusion**\n",
        "\n",
        "*   Female passengers were given priority , out of 342 total rescued passenger 233 were Female and only 109 was male.\n",
        "*   in this accident total 539 passenger lost there life out of them 468 were male and only 81 were Female\n",
        "\n"
      ],
      "metadata": {
        "id": "VuH1P1Zxbf1i"
      }
    },
    {
      "cell_type": "markdown",
      "source": [
        "### **Survived vs Age**"
      ],
      "metadata": {
        "id": "obCbLsV5dFsL"
      }
    },
    {
      "cell_type": "code",
      "source": [
        "df[df['Survived'] == 1]['Age'].plot(kind='kde',label='Survived')\n",
        "df[df['Survived'] == 0]['Age'].plot(kind='kde',label='Not Survived')\n",
        "\n",
        "plt.legend()\n",
        "plt.show()"
      ],
      "metadata": {
        "colab": {
          "base_uri": "https://localhost:8080/",
          "height": 430
        },
        "id": "aA9wMTsddS_9",
        "outputId": "7e4c2598-01a4-4b72-8adb-26dff45d253c"
      },
      "execution_count": null,
      "outputs": [
        {
          "output_type": "display_data",
          "data": {
            "text/plain": [
              "<Figure size 640x480 with 1 Axes>"
            ],
            "image/png": "[encoded data removed]"
          },
          "metadata": {}
        }
      ]
    },
    {
      "cell_type": "code",
      "source": [
        "(df[df['Age']<25]['Survived']==1).sum()/len(df[df['Age']<25]['Survived']==1)\n"
      ],
      "metadata": {
        "colab": {
          "base_uri": "https://localhost:8080/"
        },
        "id": "79V_Mk5xjd5V",
        "outputId": "106cef84-28ad-4d00-bf63-5a444cba5787"
      },
      "execution_count": null,
      "outputs": [
        {
          "output_type": "execute_result",
          "data": {
            "text/plain": [
              "0.4244604316546763"
            ]
          },
          "metadata": {},
          "execution_count": 98
        }
      ]
    },
    {
      "cell_type": "markdown",
      "source": [],
      "metadata": {
        "id": "LVTsblvxlLHE"
      }
    },
    {
      "cell_type": "code",
      "source": [
        "sns.boxplot(df,x=df['Survived'],y=df['Age'])"
      ],
      "metadata": {
        "colab": {
          "base_uri": "https://localhost:8080/",
          "height": 467
        },
        "id": "8VNBuhcFd9SL",
        "outputId": "c185e7c6-2ef3-4ef3-89ff-00c111fea552"
      },
      "execution_count": null,
      "outputs": [
        {
          "output_type": "execute_result",
          "data": {
            "text/plain": [
              "<Axes: xlabel='Survived', ylabel='Age'>"
            ]
          },
          "metadata": {},
          "execution_count": 89
        },
        {
          "output_type": "display_data",
          "data": {
            "text/plain": [
              "<Figure size 640x480 with 1 Axes>"
            ],
            "image/png": "[encoded data removed]"
          },
          "metadata": {}
        }
      ]
    },
    {
      "cell_type": "code",
      "source": [
        "sns.violinplot(df,x=df['Survived'],y=df['Age'])"
      ],
      "metadata": {
        "colab": {
          "base_uri": "https://localhost:8080/",
          "height": 467
        },
        "id": "hv32-qpOiDaC",
        "outputId": "71b328c2-c591-4d36-d393-cd4ae4fef352"
      },
      "execution_count": null,
      "outputs": [
        {
          "output_type": "execute_result",
          "data": {
            "text/plain": [
              "<Axes: xlabel='Survived', ylabel='Age'>"
            ]
          },
          "metadata": {},
          "execution_count": 87
        },
        {
          "output_type": "display_data",
          "data": {
            "text/plain": [
              "<Figure size 640x480 with 1 Axes>"
            ],
            "image/png": "[encoded data removed]"
          },
          "metadata": {}
        }
      ]
    },
    {
      "cell_type": "markdown",
      "source": [
        "#### **conclusion**\n",
        "\n",
        "*    Low age group passengers were given priority almost 40% of passenger having age less than 25 were rescused.\n",
        "*   while passengers of age between 25 to 40 years were not given any priority and their probablity of survival is less\n",
        "*   Similarly  passenger between age of 60 to 80 have less probablity of survival\n",
        "*   List item\n",
        "\n",
        "\n",
        "\n"
      ],
      "metadata": {
        "id": "FPy_YzcAjP_8"
      }
    },
    {
      "cell_type": "markdown",
      "source": [
        "### **Survived vs Pclass**"
      ],
      "metadata": {
        "id": "-UjJSJLonR_L"
      }
    },
    {
      "cell_type": "code",
      "source": [
        "pd.crosstab(df['Survived'],df['Pclass'])"
      ],
      "metadata": {
        "colab": {
          "base_uri": "https://localhost:8080/",
          "height": 143
        },
        "id": "QLBsKB5Fn1Qd",
        "outputId": "64924e43-98cb-4b67-8eb8-aa63761bf46b"
      },
      "execution_count": null,
      "outputs": [
        {
          "output_type": "execute_result",
          "data": {
            "text/plain": [
              "Pclass      1   2    3\n",
              "Survived              \n",
              "0          80  97  372\n",
              "1         136  87  119"
            ],
            "text/html": [
              "\n",
              "  <div id=\"df-1d13dfda-6fcf-4d04-bc8f-e1ba74e5d5f5\" class=\"colab-df-container\">\n",
              "    <div>\n",
              "<style scoped>\n",
              "    .dataframe tbody tr th:only-of-type {\n",
              "        vertical-align: middle;\n",
              "    }\n",
              "\n",
              "    .dataframe tbody tr th {\n",
              "        vertical-align: top;\n",
              "    }\n",
              "\n",
              "    .dataframe thead th {\n",
              "        text-align: right;\n",
              "    }\n",
              "</style>\n",
              "<table border=\"1\" class=\"dataframe\">\n",
              "  <thead>\n",
              "    <tr style=\"text-align: right;\">\n",
              "      <th>Pclass</th>\n",
              "      <th>1</th>\n",
              "      <th>2</th>\n",
              "      <th>3</th>\n",
              "    </tr>\n",
              "    <tr>\n",
              "      <th>Survived</th>\n",
              "      <th></th>\n",
              "      <th></th>\n",
              "      <th></th>\n",
              "    </tr>\n",
              "  </thead>\n",
              "  <tbody>\n",
              "    <tr>\n",
              "      <th>0</th>\n",
              "      <td>80</td>\n",
              "      <td>97</td>\n",
              "      <td>372</td>\n",
              "    </tr>\n",
              "    <tr>\n",
              "      <th>1</th>\n",
              "      <td>136</td>\n",
              "      <td>87</td>\n",
              "      <td>119</td>\n",
              "    </tr>\n",
              "  </tbody>\n",
              "</table>\n",
              "</div>\n",
              "    <div class=\"colab-df-buttons\">\n",
              "\n",
              "  <div class=\"colab-df-container\">\n",
              "    <button class=\"colab-df-convert\" onclick=\"convertToInteractive('df-1d13dfda-6fcf-4d04-bc8f-e1ba74e5d5f5')\"\n",
              "            title=\"Convert this dataframe to an interactive table.\"\n",
              "            style=\"display:none;\">\n",
              "\n",
              "  <svg xmlns=\"http://www.w3.org/2000/svg\" height=\"24px\" viewBox=\"0 -960 960 960\">\n",
              "    <path d=\"M120-120v-720h720v720H120Zm60-500h600v-160H180v160Zm220 220h160v-160H400v160Zm0 220h160v-160H400v160ZM180-400h160v-160H180v160Zm440 0h160v-160H620v160ZM180-180h160v-160H180v160Zm440 0h160v-160H620v160Z\"/>\n",
              "  </svg>\n",
              "    </button>\n",
              "\n",
              "  <style>\n",
              "    .colab-df-container {\n",
              "      display:flex;\n",
              "      gap: 12px;\n",
              "    }\n",
              "\n",
              "    .colab-df-convert {\n",
              "      background-color: #E8F0FE;\n",
              "      border: none;\n",
              "      border-radius: 50%;\n",
              "      cursor: pointer;\n",
              "      display: none;\n",
              "      fill: #1967D2;\n",
              "      height: 32px;\n",
              "      padding: 0 0 0 0;\n",
              "      width: 32px;\n",
              "    }\n",
              "\n",
              "    .colab-df-convert:hover {\n",
              "      background-color: #E2EBFA;\n",
              "      box-shadow: 0px 1px 2px rgba(60, 64, 67, 0.3), 0px 1px 3px 1px rgba(60, 64, 67, 0.15);\n",
              "      fill: #174EA6;\n",
              "    }\n",
              "\n",
              "    .colab-df-buttons div {\n",
              "      margin-bottom: 4px;\n",
              "    }\n",
              "\n",
              "    [theme=dark] .colab-df-convert {\n",
              "      background-color: #3B4455;\n",
              "      fill: #D2E3FC;\n",
              "    }\n",
              "\n",
              "    [theme=dark] .colab-df-convert:hover {\n",
              "      background-color: #434B5C;\n",
              "      box-shadow: 0px 1px 3px 1px rgba(0, 0, 0, 0.15);\n",
              "      filter: drop-shadow(0px 1px 2px rgba(0, 0, 0, 0.3));\n",
              "      fill: #FFFFFF;\n",
              "    }\n",
              "  </style>\n",
              "\n",
              "    <script>\n",
              "      const buttonEl =\n",
              "        document.querySelector('#df-1d13dfda-6fcf-4d04-bc8f-e1ba74e5d5f5 button.colab-df-convert');\n",
              "      buttonEl.style.display =\n",
              "        google.colab.kernel.accessAllowed ? 'block' : 'none';\n",
              "\n",
              "      async function convertToInteractive(key) {\n",
              "        const element = document.querySelector('#df-1d13dfda-6fcf-4d04-bc8f-e1ba74e5d5f5');\n",
              "        const dataTable =\n",
              "          await google.colab.kernel.invokeFunction('convertToInteractive',\n",
              "                                                    [key], {});\n",
              "        if (!dataTable) return;\n",
              "\n",
              "        const docLinkHtml = 'Like what you see? Visit the ' +\n",
              "          '<a target=\"_blank\" href=https://colab.research.google.com/notebooks/data_table.ipynb>data table notebook</a>'\n",
              "          + ' to learn more about interactive tables.';\n",
              "        element.innerHTML = '';\n",
              "        dataTable['output_type'] = 'display_data';\n",
              "        await google.colab.output.renderOutput(dataTable, element);\n",
              "        const docLink = document.createElement('div');\n",
              "        docLink.innerHTML = docLinkHtml;\n",
              "        element.appendChild(docLink);\n",
              "      }\n",
              "    </script>\n",
              "  </div>\n",
              "\n",
              "\n",
              "<div id=\"df-ae8b3b72-385d-4e6b-8835-fde7f7aa5030\">\n",
              "  <button class=\"colab-df-quickchart\" onclick=\"quickchart('df-ae8b3b72-385d-4e6b-8835-fde7f7aa5030')\"\n",
              "            title=\"Suggest charts\"\n",
              "            style=\"display:none;\">\n",
              "\n",
              "<svg xmlns=\"http://www.w3.org/2000/svg\" height=\"24px\"viewBox=\"0 0 24 24\"\n",
              "     width=\"24px\">\n",
              "    <g>\n",
              "        <path d=\"M19 3H5c-1.1 0-2 .9-2 2v14c0 1.1.9 2 2 2h14c1.1 0 2-.9 2-2V5c0-1.1-.9-2-2-2zM9 17H7v-7h2v7zm4 0h-2V7h2v10zm4 0h-2v-4h2v4z\"/>\n",
              "    </g>\n",
              "</svg>\n",
              "  </button>\n",
              "\n",
              "<style>\n",
              "  .colab-df-quickchart {\n",
              "      --bg-color: #E8F0FE;\n",
              "      --fill-color: #1967D2;\n",
              "      --hover-bg-color: #E2EBFA;\n",
              "      --hover-fill-color: #174EA6;\n",
              "      --disabled-fill-color: #AAA;\n",
              "      --disabled-bg-color: #DDD;\n",
              "  }\n",
              "\n",
              "  [theme=dark] .colab-df-quickchart {\n",
              "      --bg-color: #3B4455;\n",
              "      --fill-color: #D2E3FC;\n",
              "      --hover-bg-color: #434B5C;\n",
              "      --hover-fill-color: #FFFFFF;\n",
              "      --disabled-bg-color: #3B4455;\n",
              "      --disabled-fill-color: #666;\n",
              "  }\n",
              "\n",
              "  .colab-df-quickchart {\n",
              "    background-color: var(--bg-color);\n",
              "    border: none;\n",
              "    border-radius: 50%;\n",
              "    cursor: pointer;\n",
              "    display: none;\n",
              "    fill: var(--fill-color);\n",
              "    height: 32px;\n",
              "    padding: 0;\n",
              "    width: 32px;\n",
              "  }\n",
              "\n",
              "  .colab-df-quickchart:hover {\n",
              "    background-color: var(--hover-bg-color);\n",
              "    box-shadow: 0 1px 2px rgba(60, 64, 67, 0.3), 0 1px 3px 1px rgba(60, 64, 67, 0.15);\n",
              "    fill: var(--button-hover-fill-color);\n",
              "  }\n",
              "\n",
              "  .colab-df-quickchart-complete:disabled,\n",
              "  .colab-df-quickchart-complete:disabled:hover {\n",
              "    background-color: var(--disabled-bg-color);\n",
              "    fill: var(--disabled-fill-color);\n",
              "    box-shadow: none;\n",
              "  }\n",
              "\n",
              "  .colab-df-spinner {\n",
              "    border: 2px solid var(--fill-color);\n",
              "    border-color: transparent;\n",
              "    border-bottom-color: var(--fill-color);\n",
              "    animation:\n",
              "      spin 1s steps(1) infinite;\n",
              "  }\n",
              "\n",
              "  @keyframes spin {\n",
              "    0% {\n",
              "      border-color: transparent;\n",
              "      border-bottom-color: var(--fill-color);\n",
              "      border-left-color: var(--fill-color);\n",
              "    }\n",
              "    20% {\n",
              "      border-color: transparent;\n",
              "      border-left-color: var(--fill-color);\n",
              "      border-top-color: var(--fill-color);\n",
              "    }\n",
              "    30% {\n",
              "      border-color: transparent;\n",
              "      border-left-color: var(--fill-color);\n",
              "      border-top-color: var(--fill-color);\n",
              "      border-right-color: var(--fill-color);\n",
              "    }\n",
              "    40% {\n",
              "      border-color: transparent;\n",
              "      border-right-color: var(--fill-color);\n",
              "      border-top-color: var(--fill-color);\n",
              "    }\n",
              "    60% {\n",
              "      border-color: transparent;\n",
              "      border-right-color: var(--fill-color);\n",
              "    }\n",
              "    80% {\n",
              "      border-color: transparent;\n",
              "      border-right-color: var(--fill-color);\n",
              "      border-bottom-color: var(--fill-color);\n",
              "    }\n",
              "    90% {\n",
              "      border-color: transparent;\n",
              "      border-bottom-color: var(--fill-color);\n",
              "    }\n",
              "  }\n",
              "</style>\n",
              "\n",
              "  <script>\n",
              "    async function quickchart(key) {\n",
              "      const quickchartButtonEl =\n",
              "        document.querySelector('#' + key + ' button');\n",
              "      quickchartButtonEl.disabled = true;  // To prevent multiple clicks.\n",
              "      quickchartButtonEl.classList.add('colab-df-spinner');\n",
              "      try {\n",
              "        const charts = await google.colab.kernel.invokeFunction(\n",
              "            'suggestCharts', [key], {});\n",
              "      } catch (error) {\n",
              "        console.error('Error during call to suggestCharts:', error);\n",
              "      }\n",
              "      quickchartButtonEl.classList.remove('colab-df-spinner');\n",
              "      quickchartButtonEl.classList.add('colab-df-quickchart-complete');\n",
              "    }\n",
              "    (() => {\n",
              "      let quickchartButtonEl =\n",
              "        document.querySelector('#df-ae8b3b72-385d-4e6b-8835-fde7f7aa5030 button');\n",
              "      quickchartButtonEl.style.display =\n",
              "        google.colab.kernel.accessAllowed ? 'block' : 'none';\n",
              "    })();\n",
              "  </script>\n",
              "</div>\n",
              "\n",
              "    </div>\n",
              "  </div>\n"
            ],
            "application/vnd.google.colaboratory.intrinsic+json": {
              "type": "dataframe",
              "summary": "{\n  \"name\": \"pd\",\n  \"rows\": 2,\n  \"fields\": [\n    {\n      \"column\": \"Survived\",\n      \"properties\": {\n        \"dtype\": \"number\",\n        \"std\": 0,\n        \"min\": 0,\n        \"max\": 1,\n        \"num_unique_values\": 2,\n        \"samples\": [\n          1,\n          0\n        ],\n        \"semantic_type\": \"\",\n        \"description\": \"\"\n      }\n    },\n    {\n      \"column\": 1,\n      \"properties\": {\n        \"dtype\": \"number\",\n        \"std\": 39,\n        \"min\": 80,\n        \"max\": 136,\n        \"num_unique_values\": 2,\n        \"samples\": [\n          136,\n          80\n        ],\n        \"semantic_type\": \"\",\n        \"description\": \"\"\n      }\n    },\n    {\n      \"column\": 2,\n      \"properties\": {\n        \"dtype\": \"number\",\n        \"std\": 7,\n        \"min\": 87,\n        \"max\": 97,\n        \"num_unique_values\": 2,\n        \"samples\": [\n          87,\n          97\n        ],\n        \"semantic_type\": \"\",\n        \"description\": \"\"\n      }\n    },\n    {\n      \"column\": 3,\n      \"properties\": {\n        \"dtype\": \"number\",\n        \"std\": 178,\n        \"min\": 119,\n        \"max\": 372,\n        \"num_unique_values\": 2,\n        \"samples\": [\n          119,\n          372\n        ],\n        \"semantic_type\": \"\",\n        \"description\": \"\"\n      }\n    }\n  ]\n}"
            }
          },
          "metadata": {},
          "execution_count": 101
        }
      ]
    },
    {
      "cell_type": "code",
      "source": [
        "pd.crosstab(df['Survived'],df['Pclass']).plot(kind='bar',stacked=True)"
      ],
      "metadata": {
        "colab": {
          "base_uri": "https://localhost:8080/",
          "height": 462
        },
        "id": "A6D_SByYp-la",
        "outputId": "c4c9da12-b04b-4f42-d253-7ea66a0c8c31"
      },
      "execution_count": null,
      "outputs": [
        {
          "output_type": "execute_result",
          "data": {
            "text/plain": [
              "<Axes: xlabel='Survived'>"
            ]
          },
          "metadata": {},
          "execution_count": 111
        },
        {
          "output_type": "display_data",
          "data": {
            "text/plain": [
              "<Figure size 640x480 with 1 Axes>"
            ],
            "image/png": "[encoded data removed]"
          },
          "metadata": {}
        }
      ]
    },
    {
      "cell_type": "code",
      "source": [
        "(df[df['Pclass']==3]['Survived']==0).sum()/len(df[df['Pclass']==3])"
      ],
      "metadata": {
        "colab": {
          "base_uri": "https://localhost:8080/"
        },
        "id": "HW9IjcQBsBnH",
        "outputId": "43e55b31-b4a0-42c2-fca7-a755ac4353ca"
      },
      "execution_count": null,
      "outputs": [
        {
          "output_type": "execute_result",
          "data": {
            "text/plain": [
              "0.7576374745417516"
            ]
          },
          "metadata": {},
          "execution_count": 116
        }
      ]
    },
    {
      "cell_type": "code",
      "source": [
        "(df[df['Pclass']==1]['Survived']==1).sum()/len(df[df['Pclass']==1])"
      ],
      "metadata": {
        "colab": {
          "base_uri": "https://localhost:8080/"
        },
        "id": "_ymNHy9dt-RJ",
        "outputId": "679165ba-9453-405e-f028-a0a82a0657fe"
      },
      "execution_count": null,
      "outputs": [
        {
          "output_type": "execute_result",
          "data": {
            "text/plain": [
              "0.6296296296296297"
            ]
          },
          "metadata": {},
          "execution_count": 117
        }
      ]
    },
    {
      "cell_type": "code",
      "source": [
        "sns.heatmap(pd.crosstab(df['Survived'],df['Pclass']))"
      ],
      "metadata": {
        "colab": {
          "base_uri": "https://localhost:8080/",
          "height": 467
        },
        "id": "hDwnE-0In_Se",
        "outputId": "e3585df6-90fd-4c85-88f0-63e7a0ed1089"
      },
      "execution_count": null,
      "outputs": [
        {
          "output_type": "execute_result",
          "data": {
            "text/plain": [
              "<Axes: xlabel='Pclass', ylabel='Survived'>"
            ]
          },
          "metadata": {},
          "execution_count": 102
        },
        {
          "output_type": "display_data",
          "data": {
            "text/plain": [
              "<Figure size 640x480 with 2 Axes>"
            ],
            "image/png": "[encoded data removed]"
          },
          "metadata": {}
        }
      ]
    },
    {
      "cell_type": "markdown",
      "source": [
        "#### **conclusion**\n",
        "\n",
        "*   Clearly Pclass 1 were given priority during the rescue .\n",
        "*   abouth 76% of the passenger travelling in the Pclass3 lost their life. maximum death occur from Pclass3>Pclass2>Pclass1\n",
        "*   abouth 63% of passenger travelling in the Pclass1 were rescued. while only 24% in the Pcalss1 were saved\n",
        "\n",
        "\n",
        "\n",
        "\n"
      ],
      "metadata": {
        "id": "t7cqyT_Or3EQ"
      }
    },
    {
      "cell_type": "code",
      "source": [],
      "metadata": {
        "id": "5AHVtCbduv-h"
      },
      "execution_count": null,
      "outputs": []
    },
    {
      "cell_type": "markdown",
      "source": [
        "### **Survived vs Fare**"
      ],
      "metadata": {
        "id": "aL7RrSGeuxSJ"
      }
    },
    {
      "cell_type": "code",
      "source": [
        "df[df['Survived']==1]['Fare'].plot(kind='kde',label='Survived')\n",
        "df[df['Survived']==0]['Fare'].plot(kind='kde',label='dead')\n",
        "plt.legend()"
      ],
      "metadata": {
        "colab": {
          "base_uri": "https://localhost:8080/",
          "height": 448
        },
        "id": "memUpCwju64a",
        "outputId": "358d2cc6-8d5b-46ef-88bc-8497d5062a74"
      },
      "execution_count": null,
      "outputs": [
        {
          "output_type": "execute_result",
          "data": {
            "text/plain": [
              "<matplotlib.legend.Legend at 0x792ccd4b5ea0>"
            ]
          },
          "metadata": {},
          "execution_count": 121
        },
        {
          "output_type": "display_data",
          "data": {
            "text/plain": [
              "<Figure size 640x480 with 1 Axes>"
            ],
            "image/png": "[encoded data removed]"
          },
          "metadata": {}
        }
      ]
    },
    {
      "cell_type": "code",
      "source": [
        "(df[df['Survived']==1]['Fare']<50).sum()/len(df[df['Survived']==1]['Fare']<50)"
      ],
      "metadata": {
        "colab": {
          "base_uri": "https://localhost:8080/"
        },
        "id": "RdZQdHoYxYnN",
        "outputId": "3ce0577e-4053-472b-e649-4ed3797f2581"
      },
      "execution_count": null,
      "outputs": [
        {
          "output_type": "execute_result",
          "data": {
            "text/plain": [
              "0.6812865497076024"
            ]
          },
          "metadata": {},
          "execution_count": 128
        }
      ]
    },
    {
      "cell_type": "code",
      "source": [
        "(df[df['Survived']==0]['Fare']>50).sum()/len(df[df['Survived']==1]['Fare']>50)"
      ],
      "metadata": {
        "colab": {
          "base_uri": "https://localhost:8080/"
        },
        "id": "cTrcZm5Fx83B",
        "outputId": "43103e8a-f2c9-4b24-aff2-3f27d3af2277"
      },
      "execution_count": null,
      "outputs": [
        {
          "output_type": "execute_result",
          "data": {
            "text/plain": [
              "0.14912280701754385"
            ]
          },
          "metadata": {},
          "execution_count": 130
        }
      ]
    },
    {
      "cell_type": "code",
      "source": [
        "sns.violinplot(df,x=df['Survived'],y=df['Fare'])"
      ],
      "metadata": {
        "colab": {
          "base_uri": "https://localhost:8080/",
          "height": 467
        },
        "id": "ZiChq6TwvgAX",
        "outputId": "6df78250-9f63-485f-d2fd-ef6a5b1285b7"
      },
      "execution_count": null,
      "outputs": [
        {
          "output_type": "execute_result",
          "data": {
            "text/plain": [
              "<Axes: xlabel='Survived', ylabel='Fare'>"
            ]
          },
          "metadata": {},
          "execution_count": 124
        },
        {
          "output_type": "display_data",
          "data": {
            "text/plain": [
              "<Figure size 640x480 with 1 Axes>"
            ],
            "image/png": "[encoded data removed]"
          },
          "metadata": {}
        }
      ]
    },
    {
      "cell_type": "code",
      "source": [
        "sns.boxplot(df,x=df['Survived'],y=df['Fare'])"
      ],
      "metadata": {
        "colab": {
          "base_uri": "https://localhost:8080/",
          "height": 467
        },
        "id": "qC68xdhIwgsT",
        "outputId": "736f88ea-7c49-427a-d7f2-9b241e028a32"
      },
      "execution_count": null,
      "outputs": [
        {
          "output_type": "execute_result",
          "data": {
            "text/plain": [
              "<Axes: xlabel='Survived', ylabel='Fare'>"
            ]
          },
          "metadata": {},
          "execution_count": 125
        },
        {
          "output_type": "display_data",
          "data": {
            "text/plain": [
              "<Figure size 640x480 with 1 Axes>"
            ],
            "image/png": "[encoded data removed]"
          },
          "metadata": {}
        }
      ]
    },
    {
      "cell_type": "markdown",
      "source": [
        "####**conclusion**\n",
        "\n",
        "*   Obiously passenger with higher Fare given priority .\n",
        "\n",
        "*   68% passenger travelling with low Fare(<50) lost their life.\n",
        "\n",
        "*   only abouth 15% of passenger travelling with higher fair lost life.\n",
        "\n",
        "\n",
        "\n"
      ],
      "metadata": {
        "id": "h77yOtJdxG4f"
      }
    },
    {
      "cell_type": "code",
      "source": [],
      "metadata": {
        "id": "1e6lALUQxGTg"
      },
      "execution_count": null,
      "outputs": []
    },
    {
      "cell_type": "markdown",
      "source": [
        "### **Survived vs Embarked**"
      ],
      "metadata": {
        "id": "vFzR1dGyzuQW"
      }
    },
    {
      "cell_type": "code",
      "source": [
        "pd.crosstab(df['Survived'],df['Embarked'])"
      ],
      "metadata": {
        "colab": {
          "base_uri": "https://localhost:8080/",
          "height": 143
        },
        "id": "TCzzudi2z_LY",
        "outputId": "f204bafa-7336-41d5-8451-734428795cc9"
      },
      "execution_count": null,
      "outputs": [
        {
          "output_type": "execute_result",
          "data": {
            "text/plain": [
              "Embarked   C   Q    S\n",
              "Survived             \n",
              "0         75  47  427\n",
              "1         93  30  217"
            ],
            "text/html": [
              "\n",
              "  <div id=\"df-5c2f2fca-194c-4a9b-97ba-67d6e0418055\" class=\"colab-df-container\">\n",
              "    <div>\n",
              "<style scoped>\n",
              "    .dataframe tbody tr th:only-of-type {\n",
              "        vertical-align: middle;\n",
              "    }\n",
              "\n",
              "    .dataframe tbody tr th {\n",
              "        vertical-align: top;\n",
              "    }\n",
              "\n",
              "    .dataframe thead th {\n",
              "        text-align: right;\n",
              "    }\n",
              "</style>\n",
              "<table border=\"1\" class=\"dataframe\">\n",
              "  <thead>\n",
              "    <tr style=\"text-align: right;\">\n",
              "      <th>Embarked</th>\n",
              "      <th>C</th>\n",
              "      <th>Q</th>\n",
              "      <th>S</th>\n",
              "    </tr>\n",
              "    <tr>\n",
              "      <th>Survived</th>\n",
              "      <th></th>\n",
              "      <th></th>\n",
              "      <th></th>\n",
              "    </tr>\n",
              "  </thead>\n",
              "  <tbody>\n",
              "    <tr>\n",
              "      <th>0</th>\n",
              "      <td>75</td>\n",
              "      <td>47</td>\n",
              "      <td>427</td>\n",
              "    </tr>\n",
              "    <tr>\n",
              "      <th>1</th>\n",
              "      <td>93</td>\n",
              "      <td>30</td>\n",
              "      <td>217</td>\n",
              "    </tr>\n",
              "  </tbody>\n",
              "</table>\n",
              "</div>\n",
              "    <div class=\"colab-df-buttons\">\n",
              "\n",
              "  <div class=\"colab-df-container\">\n",
              "    <button class=\"colab-df-convert\" onclick=\"convertToInteractive('df-5c2f2fca-194c-4a9b-97ba-67d6e0418055')\"\n",
              "            title=\"Convert this dataframe to an interactive table.\"\n",
              "            style=\"display:none;\">\n",
              "\n",
              "  <svg xmlns=\"http://www.w3.org/2000/svg\" height=\"24px\" viewBox=\"0 -960 960 960\">\n",
              "    <path d=\"M120-120v-720h720v720H120Zm60-500h600v-160H180v160Zm220 220h160v-160H400v160Zm0 220h160v-160H400v160ZM180-400h160v-160H180v160Zm440 0h160v-160H620v160ZM180-180h160v-160H180v160Zm440 0h160v-160H620v160Z\"/>\n",
              "  </svg>\n",
              "    </button>\n",
              "\n",
              "  <style>\n",
              "    .colab-df-container {\n",
              "      display:flex;\n",
              "      gap: 12px;\n",
              "    }\n",
              "\n",
              "    .colab-df-convert {\n",
              "      background-color: #E8F0FE;\n",
              "      border: none;\n",
              "      border-radius: 50%;\n",
              "      cursor: pointer;\n",
              "      display: none;\n",
              "      fill: #1967D2;\n",
              "      height: 32px;\n",
              "      padding: 0 0 0 0;\n",
              "      width: 32px;\n",
              "    }\n",
              "\n",
              "    .colab-df-convert:hover {\n",
              "      background-color: #E2EBFA;\n",
              "      box-shadow: 0px 1px 2px rgba(60, 64, 67, 0.3), 0px 1px 3px 1px rgba(60, 64, 67, 0.15);\n",
              "      fill: #174EA6;\n",
              "    }\n",
              "\n",
              "    .colab-df-buttons div {\n",
              "      margin-bottom: 4px;\n",
              "    }\n",
              "\n",
              "    [theme=dark] .colab-df-convert {\n",
              "      background-color: #3B4455;\n",
              "      fill: #D2E3FC;\n",
              "    }\n",
              "\n",
              "    [theme=dark] .colab-df-convert:hover {\n",
              "      background-color: #434B5C;\n",
              "      box-shadow: 0px 1px 3px 1px rgba(0, 0, 0, 0.15);\n",
              "      filter: drop-shadow(0px 1px 2px rgba(0, 0, 0, 0.3));\n",
              "      fill: #FFFFFF;\n",
              "    }\n",
              "  </style>\n",
              "\n",
              "    <script>\n",
              "      const buttonEl =\n",
              "        document.querySelector('#df-5c2f2fca-194c-4a9b-97ba-67d6e0418055 button.colab-df-convert');\n",
              "      buttonEl.style.display =\n",
              "        google.colab.kernel.accessAllowed ? 'block' : 'none';\n",
              "\n",
              "      async function convertToInteractive(key) {\n",
              "        const element = document.querySelector('#df-5c2f2fca-194c-4a9b-97ba-67d6e0418055');\n",
              "        const dataTable =\n",
              "          await google.colab.kernel.invokeFunction('convertToInteractive',\n",
              "                                                    [key], {});\n",
              "        if (!dataTable) return;\n",
              "\n",
              "        const docLinkHtml = 'Like what you see? Visit the ' +\n",
              "          '<a target=\"_blank\" href=https://colab.research.google.com/notebooks/data_table.ipynb>data table notebook</a>'\n",
              "          + ' to learn more about interactive tables.';\n",
              "        element.innerHTML = '';\n",
              "        dataTable['output_type'] = 'display_data';\n",
              "        await google.colab.output.renderOutput(dataTable, element);\n",
              "        const docLink = document.createElement('div');\n",
              "        docLink.innerHTML = docLinkHtml;\n",
              "        element.appendChild(docLink);\n",
              "      }\n",
              "    </script>\n",
              "  </div>\n",
              "\n",
              "\n",
              "<div id=\"df-b7571304-ef58-4b40-b2eb-339160139477\">\n",
              "  <button class=\"colab-df-quickchart\" onclick=\"quickchart('df-b7571304-ef58-4b40-b2eb-339160139477')\"\n",
              "            title=\"Suggest charts\"\n",
              "            style=\"display:none;\">\n",
              "\n",
              "<svg xmlns=\"http://www.w3.org/2000/svg\" height=\"24px\"viewBox=\"0 0 24 24\"\n",
              "     width=\"24px\">\n",
              "    <g>\n",
              "        <path d=\"M19 3H5c-1.1 0-2 .9-2 2v14c0 1.1.9 2 2 2h14c1.1 0 2-.9 2-2V5c0-1.1-.9-2-2-2zM9 17H7v-7h2v7zm4 0h-2V7h2v10zm4 0h-2v-4h2v4z\"/>\n",
              "    </g>\n",
              "</svg>\n",
              "  </button>\n",
              "\n",
              "<style>\n",
              "  .colab-df-quickchart {\n",
              "      --bg-color: #E8F0FE;\n",
              "      --fill-color: #1967D2;\n",
              "      --hover-bg-color: #E2EBFA;\n",
              "      --hover-fill-color: #174EA6;\n",
              "      --disabled-fill-color: #AAA;\n",
              "      --disabled-bg-color: #DDD;\n",
              "  }\n",
              "\n",
              "  [theme=dark] .colab-df-quickchart {\n",
              "      --bg-color: #3B4455;\n",
              "      --fill-color: #D2E3FC;\n",
              "      --hover-bg-color: #434B5C;\n",
              "      --hover-fill-color: #FFFFFF;\n",
              "      --disabled-bg-color: #3B4455;\n",
              "      --disabled-fill-color: #666;\n",
              "  }\n",
              "\n",
              "  .colab-df-quickchart {\n",
              "    background-color: var(--bg-color);\n",
              "    border: none;\n",
              "    border-radius: 50%;\n",
              "    cursor: pointer;\n",
              "    display: none;\n",
              "    fill: var(--fill-color);\n",
              "    height: 32px;\n",
              "    padding: 0;\n",
              "    width: 32px;\n",
              "  }\n",
              "\n",
              "  .colab-df-quickchart:hover {\n",
              "    background-color: var(--hover-bg-color);\n",
              "    box-shadow: 0 1px 2px rgba(60, 64, 67, 0.3), 0 1px 3px 1px rgba(60, 64, 67, 0.15);\n",
              "    fill: var(--button-hover-fill-color);\n",
              "  }\n",
              "\n",
              "  .colab-df-quickchart-complete:disabled,\n",
              "  .colab-df-quickchart-complete:disabled:hover {\n",
              "    background-color: var(--disabled-bg-color);\n",
              "    fill: var(--disabled-fill-color);\n",
              "    box-shadow: none;\n",
              "  }\n",
              "\n",
              "  .colab-df-spinner {\n",
              "    border: 2px solid var(--fill-color);\n",
              "    border-color: transparent;\n",
              "    border-bottom-color: var(--fill-color);\n",
              "    animation:\n",
              "      spin 1s steps(1) infinite;\n",
              "  }\n",
              "\n",
              "  @keyframes spin {\n",
              "    0% {\n",
              "      border-color: transparent;\n",
              "      border-bottom-color: var(--fill-color);\n",
              "      border-left-color: var(--fill-color);\n",
              "    }\n",
              "    20% {\n",
              "      border-color: transparent;\n",
              "      border-left-color: var(--fill-color);\n",
              "      border-top-color: var(--fill-color);\n",
              "    }\n",
              "    30% {\n",
              "      border-color: transparent;\n",
              "      border-left-color: var(--fill-color);\n",
              "      border-top-color: var(--fill-color);\n",
              "      border-right-color: var(--fill-color);\n",
              "    }\n",
              "    40% {\n",
              "      border-color: transparent;\n",
              "      border-right-color: var(--fill-color);\n",
              "      border-top-color: var(--fill-color);\n",
              "    }\n",
              "    60% {\n",
              "      border-color: transparent;\n",
              "      border-right-color: var(--fill-color);\n",
              "    }\n",
              "    80% {\n",
              "      border-color: transparent;\n",
              "      border-right-color: var(--fill-color);\n",
              "      border-bottom-color: var(--fill-color);\n",
              "    }\n",
              "    90% {\n",
              "      border-color: transparent;\n",
              "      border-bottom-color: var(--fill-color);\n",
              "    }\n",
              "  }\n",
              "</style>\n",
              "\n",
              "  <script>\n",
              "    async function quickchart(key) {\n",
              "      const quickchartButtonEl =\n",
              "        document.querySelector('#' + key + ' button');\n",
              "      quickchartButtonEl.disabled = true;  // To prevent multiple clicks.\n",
              "      quickchartButtonEl.classList.add('colab-df-spinner');\n",
              "      try {\n",
              "        const charts = await google.colab.kernel.invokeFunction(\n",
              "            'suggestCharts', [key], {});\n",
              "      } catch (error) {\n",
              "        console.error('Error during call to suggestCharts:', error);\n",
              "      }\n",
              "      quickchartButtonEl.classList.remove('colab-df-spinner');\n",
              "      quickchartButtonEl.classList.add('colab-df-quickchart-complete');\n",
              "    }\n",
              "    (() => {\n",
              "      let quickchartButtonEl =\n",
              "        document.querySelector('#df-b7571304-ef58-4b40-b2eb-339160139477 button');\n",
              "      quickchartButtonEl.style.display =\n",
              "        google.colab.kernel.accessAllowed ? 'block' : 'none';\n",
              "    })();\n",
              "  </script>\n",
              "</div>\n",
              "\n",
              "    </div>\n",
              "  </div>\n"
            ],
            "application/vnd.google.colaboratory.intrinsic+json": {
              "type": "dataframe",
              "summary": "{\n  \"name\": \"pd\",\n  \"rows\": 2,\n  \"fields\": [\n    {\n      \"column\": \"Survived\",\n      \"properties\": {\n        \"dtype\": \"number\",\n        \"std\": 0,\n        \"min\": 0,\n        \"max\": 1,\n        \"num_unique_values\": 2,\n        \"samples\": [\n          1,\n          0\n        ],\n        \"semantic_type\": \"\",\n        \"description\": \"\"\n      }\n    },\n    {\n      \"column\": \"C\",\n      \"properties\": {\n        \"dtype\": \"number\",\n        \"std\": 12,\n        \"min\": 75,\n        \"max\": 93,\n        \"num_unique_values\": 2,\n        \"samples\": [\n          93,\n          75\n        ],\n        \"semantic_type\": \"\",\n        \"description\": \"\"\n      }\n    },\n    {\n      \"column\": \"Q\",\n      \"properties\": {\n        \"dtype\": \"number\",\n        \"std\": 12,\n        \"min\": 30,\n        \"max\": 47,\n        \"num_unique_values\": 2,\n        \"samples\": [\n          30,\n          47\n        ],\n        \"semantic_type\": \"\",\n        \"description\": \"\"\n      }\n    },\n    {\n      \"column\": \"S\",\n      \"properties\": {\n        \"dtype\": \"number\",\n        \"std\": 148,\n        \"min\": 217,\n        \"max\": 427,\n        \"num_unique_values\": 2,\n        \"samples\": [\n          217,\n          427\n        ],\n        \"semantic_type\": \"\",\n        \"description\": \"\"\n      }\n    }\n  ]\n}"
            }
          },
          "metadata": {},
          "execution_count": 134
        }
      ]
    },
    {
      "cell_type": "code",
      "source": [
        "pd.crosstab(df['Survived'],df['Embarked']).plot(kind='bar',stacked=True)"
      ],
      "metadata": {
        "colab": {
          "base_uri": "https://localhost:8080/",
          "height": 462
        },
        "id": "kQES7z6b0SYc",
        "outputId": "e8f560bc-1677-455e-930e-9b08b50ccefb"
      },
      "execution_count": null,
      "outputs": [
        {
          "output_type": "execute_result",
          "data": {
            "text/plain": [
              "<Axes: xlabel='Survived'>"
            ]
          },
          "metadata": {},
          "execution_count": 135
        },
        {
          "output_type": "display_data",
          "data": {
            "text/plain": [
              "<Figure size 640x480 with 1 Axes>"
            ],
            "image/png": "[encoded data removed]"
          },
          "metadata": {}
        }
      ]
    },
    {
      "cell_type": "markdown",
      "source": [
        "####**conclusion**\n",
        "\n",
        "*   Although maximum passenger died travelling from southhampton but in terms of percentage of people saving S>C>Q\n",
        "\n",
        "\n"
      ],
      "metadata": {
        "id": "C_G7AfUO1H8J"
      }
    },
    {
      "cell_type": "markdown",
      "source": [
        "### **Pclass vs Fare**"
      ],
      "metadata": {
        "id": "SQyZ28G-1-K0"
      }
    },
    {
      "cell_type": "code",
      "source": [
        "df[df['Pclass']==1]['Fare'].plot(kind='kde',label='Pclass1')\n",
        "df[df['Pclass']==2]['Fare'].plot(kind='kde',label='Pclass2')\n",
        "df[df['Pclass']==3]['Fare'].plot(kind='kde',label='Pclass3')\n",
        "plt.legend()"
      ],
      "metadata": {
        "colab": {
          "base_uri": "https://localhost:8080/",
          "height": 448
        },
        "id": "FUCstmCl2Gjs",
        "outputId": "4483baa7-81ee-454d-cb1e-27319f48b5e4"
      },
      "execution_count": null,
      "outputs": [
        {
          "output_type": "execute_result",
          "data": {
            "text/plain": [
              "<matplotlib.legend.Legend at 0x792ccd2f7670>"
            ]
          },
          "metadata": {},
          "execution_count": 137
        },
        {
          "output_type": "display_data",
          "data": {
            "text/plain": [
              "<Figure size 640x480 with 1 Axes>"
            ],
            "image/png": "[encoded data removed]"
          },
          "metadata": {}
        }
      ]
    },
    {
      "cell_type": "code",
      "source": [
        "sns.boxplot(df,x=df['Pclass'],y=df['Fare'])"
      ],
      "metadata": {
        "colab": {
          "base_uri": "https://localhost:8080/",
          "height": 467
        },
        "id": "hDqdqQoT3-7s",
        "outputId": "86844180-7ca9-4a92-aba7-cbf89fca258f"
      },
      "execution_count": null,
      "outputs": [
        {
          "output_type": "execute_result",
          "data": {
            "text/plain": [
              "<Axes: xlabel='Pclass', ylabel='Fare'>"
            ]
          },
          "metadata": {},
          "execution_count": 141
        },
        {
          "output_type": "display_data",
          "data": {
            "text/plain": [
              "<Figure size 640x480 with 1 Axes>"
            ],
            "image/png": "[encoded data removed]"
          },
          "metadata": {}
        }
      ]
    },
    {
      "cell_type": "markdown",
      "source": [
        "####**Conclusion**\n",
        "\n",
        "*   Clearly we can see that Fare of Pclass1 was maximum\n",
        "*   Fare of Pclass1>Pclass2>Pclass3\n",
        "\n"
      ],
      "metadata": {
        "id": "PgEeNdq_37Nf"
      }
    }
  ]
}